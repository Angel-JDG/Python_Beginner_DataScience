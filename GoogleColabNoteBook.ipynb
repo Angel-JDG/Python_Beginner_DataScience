{
  "nbformat": 4,
  "nbformat_minor": 0,
  "metadata": {
    "colab": {
      "provenance": [],
      "authorship_tag": "ABX9TyP6sfG8CdVZf1kBKpcNiMU8",
      "include_colab_link": true
    },
    "kernelspec": {
      "name": "python3",
      "display_name": "Python 3"
    },
    "language_info": {
      "name": "python"
    }
  },
  "cells": [
    {
      "cell_type": "markdown",
      "metadata": {
        "id": "view-in-github",
        "colab_type": "text"
      },
      "source": [
        "<a href=\"https://colab.research.google.com/github/Angel-JDG/Python_Beginner_in_google_colaboratory/blob/main/GoogleColabNoteBook.ipynb\" target=\"_parent\"><img src=\"https://colab.research.google.com/assets/colab-badge.svg\" alt=\"Open In Colab\"/></a>"
      ]
    },
    {
      "cell_type": "markdown",
      "source": [
        "## Clase Modulo 1 - Python para data Science\n",
        "\n",
        "En este modulo vamos a ver:\n",
        "\n",
        "* Introducción al notebook de Google Colaboratory.\n",
        "* Introducción al lenguaje de programación Python.\n",
        "\n",
        "\n"
      ],
      "metadata": {
        "id": "dKD6bVkJ_ILO"
      }
    },
    {
      "cell_type": "code",
      "source": [
        "print(\"Hola Hundo\")"
      ],
      "metadata": {
        "id": "QsOiM-Cs_xMm"
      },
      "execution_count": null,
      "outputs": []
    },
    {
      "cell_type": "markdown",
      "source": [
        "### Desafio Modulo 1 - sección 8\n"
      ],
      "metadata": {
        "id": "Br1RgdKfNFsp"
      }
    },
    {
      "cell_type": "code",
      "source": [
        "# Desafio #1\n",
        "print(\"Escuela de Datos de Alura.\")"
      ],
      "metadata": {
        "colab": {
          "base_uri": "https://localhost:8080/"
        },
        "id": "zp56Fu6WNYxn",
        "outputId": "39ed8c97-2562-4f9f-b24d-c2da49c30de5"
      },
      "execution_count": null,
      "outputs": [
        {
          "output_type": "stream",
          "name": "stdout",
          "text": [
            "Escuela de Datos de Alura.\n"
          ]
        }
      ]
    },
    {
      "cell_type": "code",
      "source": [
        "#Desafio #2\n",
        "Nombre = \"Angel\"\n",
        "Apellido = \"Delgado\"\n",
        "\n",
        "print (f\"Mi nombre es {Nombre} {Apellido}\")"
      ],
      "metadata": {
        "colab": {
          "base_uri": "https://localhost:8080/"
        },
        "id": "O43jLNQpNxLe",
        "outputId": "6b88d115-0b0c-4de0-ee26-e2ef947a614f"
      },
      "execution_count": null,
      "outputs": [
        {
          "output_type": "stream",
          "name": "stdout",
          "text": [
            "Mi nombre es Angel Delgado\n"
          ]
        }
      ]
    },
    {
      "cell_type": "code",
      "source": [
        "#Desafio #3\n",
        "Nombre = \"Pedro\"\n",
        "for a in Nombre:\n",
        "  print (a)"
      ],
      "metadata": {
        "colab": {
          "base_uri": "https://localhost:8080/"
        },
        "id": "pzB8LiMHOZXA",
        "outputId": "55800a7b-34aa-4b40-9da4-9e1f11cee33d"
      },
      "execution_count": null,
      "outputs": [
        {
          "output_type": "stream",
          "name": "stdout",
          "text": [
            "P\n",
            "e\n",
            "d\n",
            "r\n",
            "o\n"
          ]
        }
      ]
    },
    {
      "cell_type": "code",
      "source": [
        "#Desafio #4\n",
        "Mes = \"Abril\"\n",
        "Año = 2025\n",
        "Dia = 4\n",
        "print (f\"{Dia} {Mes} del {Año}\")"
      ],
      "metadata": {
        "colab": {
          "base_uri": "https://localhost:8080/"
        },
        "id": "L-i7iC7yRf1c",
        "outputId": "8c304412-a28c-4c6d-8ba5-b07a772681b0"
      },
      "execution_count": null,
      "outputs": [
        {
          "output_type": "stream",
          "name": "stdout",
          "text": [
            "4 Abril del 2025\n"
          ]
        }
      ]
    },
    {
      "cell_type": "code",
      "source": [
        "#Desafio #5\n",
        "Año = 2025\n",
        "print(f\"Año Actual: {Año}\")"
      ],
      "metadata": {
        "colab": {
          "base_uri": "https://localhost:8080/"
        },
        "id": "r3n3wdfNShPy",
        "outputId": "9f605043-d44d-4f9a-ddf0-006b8bb48edf"
      },
      "execution_count": null,
      "outputs": [
        {
          "output_type": "stream",
          "name": "stdout",
          "text": [
            "Año Actual: 2025\n"
          ]
        }
      ]
    },
    {
      "cell_type": "markdown",
      "source": [
        "## Clase Modulo 2 - Python para Data Science\n",
        "\n",
        "En este modulo vamos a ver:\n",
        "*   variables y tipos de variables.\n",
        "*   Manipulacions de datos."
      ],
      "metadata": {
        "id": "YAGkZygG4tQU"
      }
    },
    {
      "cell_type": "markdown",
      "source": [
        "### Variables\n",
        "Las variables en python al igual que en algebra son \"objetos\" a los que les ponemos un \"nombre\" y les asignamos un valor por ejemplo:\n",
        "\n",
        "\n",
        "*   En Algebra:\n",
        "  * x + 3 cuando x = 2 (en este caso estamos asigando el valor de 2 a la X que seria nuestra variable)\n",
        "      * el resultado seria *5*\n",
        "\n",
        "* En programación:\n",
        "  * Nombre = Juan ('Nombre' seria nuestra variable y 'Juan' nuestro valor asignado)\n",
        "  * Print(\"Hola \"Nombre)\n",
        "    * el output seria \"Hola Juan\"\n",
        "\n",
        "\n"
      ],
      "metadata": {
        "id": "FzyD6g405ssb"
      }
    },
    {
      "cell_type": "markdown",
      "source": [
        "### Tipos de variables\n",
        "hay 4 tipos de variables principalmente:\n",
        "\n",
        "\n",
        "*   Variable tipo entero: int (las variables tipo entero son numeros enteros es decir sin puntos decimales, como por ejemplo 2, 3, 4, 5... )\n",
        "*   Variable tipo float: float (las variables de este tipo permiten numeros decimales, por ejemplo, 2.3, 4.5, 6.4...)\n",
        "*   Variable tipo texto: str (las variables de tipo texto corresponden al sistema ACSII de texto como por ejemplo 'Nombre', 'Perro' Y 'gato', estas son cadenas de texto ya que estan formadas por varios caracteres)\n",
        "*   Variable tipo boleanos: bool (este tipo de variable solo tiene 2 estados posibles TRUE o FALSE)\n",
        "\n",
        "**Ejemplo en clases:**"
      ],
      "metadata": {
        "id": "gZbiBxxr93yi"
      }
    },
    {
      "cell_type": "code",
      "source": [
        "# Tranformar la ficha de un alumno en variables\n",
        "Nombre_estudiante = \"Penélope\"\n",
        "Edad_estudiante = 21\n",
        "Promedio_Estudiante = 9.7\n",
        "Aprobado = True\n",
        "print(Nombre_estudiante, Edad_estudiante, Promedio_Estudiante, Aprobado)\n",
        "print(type(Nombre_estudiante), type(Edad_estudiante), type(Promedio_Estudiante), type(Aprobado))"
      ],
      "metadata": {
        "id": "7GeOGqen5Sz-",
        "colab": {
          "base_uri": "https://localhost:8080/"
        },
        "outputId": "edc5ab0b-1319-4300-de67-e3f3d6684bec"
      },
      "execution_count": null,
      "outputs": [
        {
          "output_type": "stream",
          "name": "stdout",
          "text": [
            "Penélope 21 9.7 True\n",
            "<class 'str'> <class 'int'> <class 'float'> <class 'bool'>\n"
          ]
        }
      ]
    },
    {
      "cell_type": "markdown",
      "source": [
        "####Variables Numericas\n",
        "Enfoque en variables de tipo **float** e **int**.\n",
        "\n",
        "* Datos:\n",
        "  * Vigilante: Cantidad 5, Salario 300.\n",
        "  * Docente: Cantidad 16, Salario 500.\n",
        "  * Coordinador: Cantidad 2, Salario 600.\n",
        "\n",
        "\n",
        "\n",
        "\n",
        "\n",
        "\n",
        "Casos de uso:\n",
        "*   Cantidad total de empleados.\n",
        "*   Diferencia entre el salario más alto y más bajo.\n",
        "*   Promedio ponderado de los salarios.\n",
        "\n",
        "Ejemplo en clase:"
      ],
      "metadata": {
        "id": "sPBKPi9kTdEO"
      }
    },
    {
      "cell_type": "code",
      "source": [
        "Cantidad_vigilante = 5\n",
        "Salario_vigilante = 300\n",
        "\n",
        "Cantidad_docente = 16\n",
        "Salario_docente = 500\n",
        "\n",
        "Cantidad_coordinador = 2\n",
        "Salario_coordinador = 600\n",
        "\n",
        "Total_empleados = Cantidad_vigilante + Cantidad_coordinador + Cantidad_docente\n",
        "Total_empleados\n",
        "\n",
        "Diferencia_salario = Cantidad_coordinador - Cantidad_vigilante\n",
        "Diferencia_salario\n",
        "\n",
        "Promedio_salario = (Salario_coordinador*Cantidad_coordinador + Salario_docente*Cantidad_docente + Salario_vigilante*Cantidad_vigilante)/Total_empleados\n",
        "Promedio_salario"
      ],
      "metadata": {
        "colab": {
          "base_uri": "https://localhost:8080/"
        },
        "id": "WAvm5n83UheV",
        "outputId": "27afcb5b-e326-4946-84e7-d1bbe9fb85a4"
      },
      "execution_count": null,
      "outputs": [
        {
          "output_type": "execute_result",
          "data": {
            "text/plain": [
              "465.2173913043478"
            ]
          },
          "metadata": {},
          "execution_count": 9
        }
      ]
    },
    {
      "cell_type": "markdown",
      "source": [
        "####Variables de texto\n",
        "Enfoque en variables de tipo texto **String**.\n",
        "\n",
        "las variables de tipo texto pueden estr envueltas en comillas simples ( ' ) o comillas dobles ( \" ).\n",
        "```\n",
        "t = \"Alura\"\n",
        "type (t) --> string\n",
        "```\n",
        "las variables textuales son objetos que poseen metodos que nos ayudan a formatear strings. los metodos los podemos ejecutar acorde a la siguiente estructura:\n",
        "\n",
        "objeto.metodo()\n",
        "\n",
        "los parentesis no siempre van con todo los metodos, por eso se debe verificar en la documentación.\n",
        "\n",
        "**Ejemplo en clase:**\n",
        "\n",
        "se recibe una variable con un nombre para insertar a un registro, pero antes se debe pasar por un tratamiento al texto antes de insertarlo al sistema.\n"
      ],
      "metadata": {
        "id": "J3y6i8osaNXz"
      }
    },
    {
      "cell_type": "code",
      "source": [
        "texto = \" Micaela de los Sanyos\"\n",
        "id(texto)"
      ],
      "metadata": {
        "colab": {
          "base_uri": "https://localhost:8080/"
        },
        "id": "TvqD0kYRa5Gl",
        "outputId": "4196fa88-4e2b-4c97-8812-24fdf9be8d56"
      },
      "execution_count": null,
      "outputs": [
        {
          "output_type": "execute_result",
          "data": {
            "text/plain": [
              "135539513026368"
            ]
          },
          "metadata": {},
          "execution_count": 33
        }
      ]
    },
    {
      "cell_type": "markdown",
      "source": [
        "el objetivo final es el siguiente: 'MICAELA DE LOS SANTOS'"
      ],
      "metadata": {
        "id": "lb9Kkv9RcdYn"
      }
    },
    {
      "cell_type": "code",
      "source": [
        "# utilizamos metodo upper para convertir a mayusculas toda la cadena de texto\n",
        "texto.upper()"
      ],
      "metadata": {
        "colab": {
          "base_uri": "https://localhost:8080/",
          "height": 38
        },
        "id": "PkulL9b6dCPr",
        "outputId": "3b311ded-0f90-480c-f491-3a3342301320"
      },
      "execution_count": null,
      "outputs": [
        {
          "output_type": "execute_result",
          "data": {
            "text/plain": [
              "' MICAELA DE LOS SANYOS'"
            ],
            "application/vnd.google.colaboratory.intrinsic+json": {
              "type": "string"
            }
          },
          "metadata": {},
          "execution_count": 34
        }
      ]
    },
    {
      "cell_type": "code",
      "source": [
        "# utilizamos metodo lower para convertir a minusculas toda la cadena de texto\n",
        "texto.lower()"
      ],
      "metadata": {
        "colab": {
          "base_uri": "https://localhost:8080/",
          "height": 38
        },
        "id": "w78u5yJpdds9",
        "outputId": "d8857153-75e7-48e3-aa01-d068d2245f6c"
      },
      "execution_count": null,
      "outputs": [
        {
          "output_type": "execute_result",
          "data": {
            "text/plain": [
              "' micaela de los sanyos'"
            ],
            "application/vnd.google.colaboratory.intrinsic+json": {
              "type": "string"
            }
          },
          "metadata": {},
          "execution_count": 35
        }
      ]
    },
    {
      "cell_type": "code",
      "source": [
        "# utilizamos metodo strip para eliminar espacios en blanco al principio o final de un string\n",
        "texto.strip()"
      ],
      "metadata": {
        "colab": {
          "base_uri": "https://localhost:8080/",
          "height": 38
        },
        "id": "pYrHE-uUdf7s",
        "outputId": "f8993781-8bb8-4a27-d947-91a387be03e8"
      },
      "execution_count": null,
      "outputs": [
        {
          "output_type": "execute_result",
          "data": {
            "text/plain": [
              "'Micaela de los Sanyos'"
            ],
            "application/vnd.google.colaboratory.intrinsic+json": {
              "type": "string"
            }
          },
          "metadata": {},
          "execution_count": 36
        }
      ]
    },
    {
      "cell_type": "code",
      "source": [
        "# utilizamos metodo replace para editar/cambiar un elemento del contenido\n",
        "texto.replace('y', 't')\n"
      ],
      "metadata": {
        "colab": {
          "base_uri": "https://localhost:8080/",
          "height": 38
        },
        "id": "GeD40kq-eHwz",
        "outputId": "36a08f9c-32e4-4254-80e0-7fd7d897f777"
      },
      "execution_count": null,
      "outputs": [
        {
          "output_type": "execute_result",
          "data": {
            "text/plain": [
              "' Micaela de los Santos'"
            ],
            "application/vnd.google.colaboratory.intrinsic+json": {
              "type": "string"
            }
          },
          "metadata": {},
          "execution_count": 37
        }
      ]
    },
    {
      "cell_type": "code",
      "source": [
        "# se pueden usar varios metodos al mismo tiempo y la variable debe ser guardada:\n",
        "nuevo_texto= texto.strip().upper().replace('y', 't')\n",
        "print(nuevo_texto)\n",
        "# al ser variables diferentes no se almacenan en el mismo espacio de memoria\n",
        "print(id(texto), id(nuevo_texto))"
      ],
      "metadata": {
        "colab": {
          "base_uri": "https://localhost:8080/"
        },
        "id": "X7taXbR7fLfr",
        "outputId": "3d2d2b82-bb81-4bbe-a53b-f625231885e6"
      },
      "execution_count": null,
      "outputs": [
        {
          "output_type": "stream",
          "name": "stdout",
          "text": [
            "MICAELA DE LOS SANYOS\n",
            "135539513040032 135539513017008\n"
          ]
        }
      ]
    },
    {
      "cell_type": "code",
      "source": [
        "texto= texto.strip().upper().replace('y', 't')\n",
        "print(texto)\n",
        "print(id(texto), id(nuevo_texto))"
      ],
      "metadata": {
        "colab": {
          "base_uri": "https://localhost:8080/"
        },
        "id": "eoGLA8CKgXJU",
        "outputId": "000f3f79-8bba-460f-e4e0-8c287b6402c3"
      },
      "execution_count": null,
      "outputs": [
        {
          "output_type": "stream",
          "name": "stdout",
          "text": [
            "MICAELA DE LOS SANYOS\n",
            "135539511017520 135539513017008\n"
          ]
        }
      ]
    },
    {
      "cell_type": "markdown",
      "source": [
        "#### Colección de datos\n",
        "vamos a ver como ingresar información desde el programa en ejecución con **input()**\n",
        "para ejecutar la captura debemos atribuir el resultado de la funcion a una variable."
      ],
      "metadata": {
        "id": "RPWt8c-ahSnp"
      }
    },
    {
      "cell_type": "code",
      "source": [
        "Nombre= input(\"Escriba su nombre: \")"
      ],
      "metadata": {
        "colab": {
          "base_uri": "https://localhost:8080/"
        },
        "id": "s40b41Ctt4_r",
        "outputId": "b388ef23-ecc6-4748-98b8-f6fa7bf1ff36"
      },
      "execution_count": null,
      "outputs": [
        {
          "name": "stdout",
          "output_type": "stream",
          "text": [
            "Escriba su nombre: Angel\n"
          ]
        }
      ]
    },
    {
      "cell_type": "code",
      "source": [
        "type(Nombre)"
      ],
      "metadata": {
        "colab": {
          "base_uri": "https://localhost:8080/"
        },
        "id": "kxwxjbmquM_7",
        "outputId": "18f8caa9-bd4e-465d-ea06-606d9ebab0f0"
      },
      "execution_count": null,
      "outputs": [
        {
          "output_type": "execute_result",
          "data": {
            "text/plain": [
              "str"
            ]
          },
          "metadata": {},
          "execution_count": 4
        }
      ]
    },
    {
      "cell_type": "markdown",
      "source": [
        "Todo lo que ingreses en el input sera tipo string aun cuando digites un valor númerico.\n",
        "\n",
        "Funciones de conversion de valores:\n",
        "*   Entero      = int   (dato para conversión)\n",
        "*   Flotante    = float (dato para conversión)\n",
        "*   Caracter    = str   (dato para conversión)\n",
        "*   booleanos   = bool  (dato para conversión)\n",
        "\n"
      ],
      "metadata": {
        "id": "oX1Sf6JXuA2K"
      }
    },
    {
      "cell_type": "markdown",
      "source": [
        "nota adicional \\n es un salto de linea y \\t una tabulación pueden ser utilizadas en cadenas de texto"
      ],
      "metadata": {
        "id": "wtq2DVnIx3zg"
      }
    },
    {
      "cell_type": "code",
      "source": [
        "Ano_admision = int(input(\"Digite el año de admisión: \"))"
      ],
      "metadata": {
        "colab": {
          "base_uri": "https://localhost:8080/"
        },
        "id": "6RXxVUe4vjna",
        "outputId": "f649958e-d3ab-4f6e-d282-f7785493d5cd"
      },
      "execution_count": null,
      "outputs": [
        {
          "name": "stdout",
          "output_type": "stream",
          "text": [
            "Digite el año de admisión: 2025\n"
          ]
        }
      ]
    },
    {
      "cell_type": "code",
      "source": [
        "type(Ano_admision)"
      ],
      "metadata": {
        "colab": {
          "base_uri": "https://localhost:8080/"
        },
        "id": "KpBjLHMiv6Ja",
        "outputId": "05f2fd25-c782-4721-c66f-7c3d6d43adc7"
      },
      "execution_count": null,
      "outputs": [
        {
          "output_type": "execute_result",
          "data": {
            "text/plain": [
              "int"
            ]
          },
          "metadata": {},
          "execution_count": 8
        }
      ]
    },
    {
      "cell_type": "code",
      "source": [
        "Nota_admision = float(input(\"Digite la nota de admisión: \"))"
      ],
      "metadata": {
        "colab": {
          "base_uri": "https://localhost:8080/"
        },
        "id": "H2fWaqxiwJHr",
        "outputId": "b29fc251-e0c5-4d2f-9a30-be3739f4badf"
      },
      "execution_count": null,
      "outputs": [
        {
          "name": "stdout",
          "output_type": "stream",
          "text": [
            "Digite la nota de admisión: 4.8\n"
          ]
        }
      ]
    },
    {
      "cell_type": "code",
      "source": [
        "type(Nota_admision)"
      ],
      "metadata": {
        "colab": {
          "base_uri": "https://localhost:8080/"
        },
        "id": "KXUvS9DDwJGG",
        "outputId": "960ce213-43a9-4d66-cac1-a58fba389b30"
      },
      "execution_count": null,
      "outputs": [
        {
          "output_type": "execute_result",
          "data": {
            "text/plain": [
              "float"
            ]
          },
          "metadata": {},
          "execution_count": 11
        }
      ]
    },
    {
      "cell_type": "markdown",
      "source": [
        "### Desafio Modulo 2 - Sección 14"
      ],
      "metadata": {
        "id": "SmxIGKGFyeKY"
      }
    },
    {
      "cell_type": "code",
      "source": [
        "# Desafio #1\n",
        "Nombre = input(\"Ingrese su nombre: \")\n",
        "print(f\"Hola, {Nombre}.\")"
      ],
      "metadata": {
        "colab": {
          "base_uri": "https://localhost:8080/"
        },
        "id": "dJsXgRZiyyUE",
        "outputId": "056ddfeb-017c-4e6c-98b7-33dd68bbba2f"
      },
      "execution_count": null,
      "outputs": [
        {
          "output_type": "stream",
          "name": "stdout",
          "text": [
            "Ingrese su nombre: Ángel\n",
            "Hola, Ángel.\n"
          ]
        }
      ]
    },
    {
      "cell_type": "code",
      "source": [
        "# Desafio #2\n",
        "Nombre = input(\"Ingrese su nombre: \")\n",
        "Edad =  int(input(\"Ingrese su edad: \"))\n",
        "print(f\"Hola {Nombre}, tienes {Edad} años.\")"
      ],
      "metadata": {
        "colab": {
          "base_uri": "https://localhost:8080/"
        },
        "outputId": "eb58f9cd-5d7e-4d2a-9680-79fefefd46ae",
        "id": "ggUZySyn0rVF"
      },
      "execution_count": null,
      "outputs": [
        {
          "output_type": "stream",
          "name": "stdout",
          "text": [
            "Ingrese su nombre: Angel\n",
            "Ingrese su edad: 21\n",
            "Hola Angel, tienes 21 años.\n"
          ]
        }
      ]
    },
    {
      "cell_type": "code",
      "source": [
        "# Desafio #3\n",
        "Nombre = input(\"Ingrese su nombre: \")\n",
        "Edad =  int(input(\"Ingrese su edad: \"))\n",
        "Altura = float(input(\"Ingrese su altura: \"))\n",
        "print(f\"Hola {Nombre}, tienes {Edad} años y mides {Altura}\")"
      ],
      "metadata": {
        "colab": {
          "base_uri": "https://localhost:8080/"
        },
        "outputId": "3f35096f-aec6-4b41-c52a-7d9c2878750c",
        "id": "K4dpR595zVcz"
      },
      "execution_count": null,
      "outputs": [
        {
          "output_type": "stream",
          "name": "stdout",
          "text": [
            "Ingrese su nombre: Ángel\n",
            "Ingrese su edad: 21\n",
            "Ingrese su altura: 1.70\n",
            "Hola Ángel, tienes 21 años y mides 1.7\n"
          ]
        }
      ]
    },
    {
      "cell_type": "code",
      "source": [
        "# Desafio #4\n",
        "Num1 = int(input(\"Ingrese un primer número: \"))\n",
        "Num2 = int(input(\"Ingrese un segundo número: \"))\n",
        "print(f\"la resta de estos numeros da: {Num1+Num2}\")"
      ],
      "metadata": {
        "colab": {
          "base_uri": "https://localhost:8080/"
        },
        "outputId": "44d7c011-c7ac-477a-b079-4933d9fc9cf7",
        "id": "7Plvn9xbz1CH"
      },
      "execution_count": 1,
      "outputs": [
        {
          "output_type": "stream",
          "name": "stdout",
          "text": [
            "Ingrese un primer número: 2\n",
            "Ingrese un segundo número: 3\n",
            "la resta de estos numeros da: 5\n"
          ]
        }
      ]
    },
    {
      "cell_type": "code",
      "source": [
        "# Desafio #5\n",
        "Num1 = int(input(\"Ingrese un primer número: \"))\n",
        "Num2 = int(input(\"Ingrese un segundo número: \"))\n",
        "Num3 = int(input(\"Ingrese un tercer número: \"))\n",
        "print(f\"la suma de estos numeros da: {Num1+Num2+Num3}\")"
      ],
      "metadata": {
        "colab": {
          "base_uri": "https://localhost:8080/"
        },
        "outputId": "18d15918-da1a-40f7-b02f-68d1ea0bed6a",
        "id": "wMLoTJHw0aol"
      },
      "execution_count": null,
      "outputs": [
        {
          "output_type": "stream",
          "name": "stdout",
          "text": [
            "Ingrese un primer número: 1\n",
            "Ingrese un segundo número: 1\n",
            "Ingrese un tercer número: 2\n",
            "la suma de estos numeros da: 4\n"
          ]
        }
      ]
    },
    {
      "cell_type": "code",
      "source": [
        "# Desafio #6\n",
        "Num1 = int(input(\"Ingrese un primer número: \"))\n",
        "Num2 = int(input(\"Ingrese un segundo número: \"))\n",
        "print(f\"la resta de estos numeros da: {Num1-Num2}\")"
      ],
      "metadata": {
        "colab": {
          "base_uri": "https://localhost:8080/"
        },
        "outputId": "b4e06275-30df-47ac-b5c8-019c590af9c3",
        "id": "wdEAO2zBvHg6"
      },
      "execution_count": 2,
      "outputs": [
        {
          "output_type": "stream",
          "name": "stdout",
          "text": [
            "Ingrese un primer número: 2\n",
            "Ingrese un segundo número: 1\n",
            "la resta de estos numeros da: 1\n"
          ]
        }
      ]
    },
    {
      "cell_type": "code",
      "source": [
        "# Desafio #7\n",
        "Num1 = int(input(\"Ingrese un primer número: \"))\n",
        "Num2 = int(input(\"Ingrese un segundo número: \"))\n",
        "print(f\"la resta de estos numeros da: {Num1-Num2}\")"
      ],
      "metadata": {
        "colab": {
          "base_uri": "https://localhost:8080/"
        },
        "outputId": "aacca78b-ef9f-44d4-c220-4958ae7055fb",
        "id": "q7VN3iAyvmDG"
      },
      "execution_count": 3,
      "outputs": [
        {
          "output_type": "stream",
          "name": "stdout",
          "text": [
            "Ingrese un primer número: 2\n",
            "Ingrese un segundo número: 4\n",
            "la multiplicación de estos numeros da: 8\n"
          ]
        }
      ]
    },
    {
      "cell_type": "code",
      "source": [
        "# Desafio #8\n",
        "Num1 = int(input(\"Ingrese un numerador número: \"))\n",
        "Num2 = int(input(\"Ingrese un denominador número: \"))\n",
        "print(f\"la division de estos numeros da: {Num1/Num2}\")"
      ],
      "metadata": {
        "colab": {
          "base_uri": "https://localhost:8080/"
        },
        "outputId": "1b3e86e5-091a-4c36-ec40-b8523a7fbfa5",
        "id": "JL0eyHnQv_cZ"
      },
      "execution_count": 4,
      "outputs": [
        {
          "output_type": "stream",
          "name": "stdout",
          "text": [
            "Ingrese un numerador número: 4\n",
            "Ingrese un denominador número: 2\n",
            "la division de estos numeros da: 2.0\n"
          ]
        }
      ]
    },
    {
      "cell_type": "code",
      "source": [
        "# Desafio #9\n",
        "Num1 = int(input(\"Ingrese un operador número: \"))\n",
        "Num2 = int(input(\"Ingrese un potencia número: \"))\n",
        "print(f\"el resultado de la operación da: {Num1**Num2}\")"
      ],
      "metadata": {
        "colab": {
          "base_uri": "https://localhost:8080/"
        },
        "outputId": "bfab1c15-16fa-4f86-a61d-76d2ab935e22",
        "id": "VqupPEA-wRv8"
      },
      "execution_count": 5,
      "outputs": [
        {
          "output_type": "stream",
          "name": "stdout",
          "text": [
            "Ingrese un operador número: 2\n",
            "Ingrese un potencia número: 3\n",
            "el resultado de la operación da: 8\n"
          ]
        }
      ]
    },
    {
      "cell_type": "code",
      "source": [
        "# Desafio #10\n",
        "Num1 = int(input(\"Ingrese un numerador número: \"))\n",
        "Num2 = int(input(\"Ingrese un denominador número: \"))\n",
        "print(f\"el resultado de la operación da: {Num1//Num2}\")"
      ],
      "metadata": {
        "colab": {
          "base_uri": "https://localhost:8080/"
        },
        "outputId": "6c873828-7671-4a70-b854-686bd52b8bff",
        "id": "WrwqGVwhwl9X"
      },
      "execution_count": 7,
      "outputs": [
        {
          "output_type": "stream",
          "name": "stdout",
          "text": [
            "Ingrese un numerador número: 5\n",
            "Ingrese un denominador número: 2\n",
            "el resultado de la operación da: 2\n"
          ]
        }
      ]
    },
    {
      "cell_type": "code",
      "source": [
        "# Desafio #11\n",
        "Num1 = int(input(\"Ingrese un numerador número: \"))\n",
        "Num2 = int(input(\"Ingrese un denominador número: \"))\n",
        "print(f\"el resultado de la operación da: {Num1%Num2}\")"
      ],
      "metadata": {
        "colab": {
          "base_uri": "https://localhost:8080/"
        },
        "outputId": "52d90fb3-0762-456f-ffec-26ff82fb7660",
        "id": "hL6_I_aGxSkp"
      },
      "execution_count": 9,
      "outputs": [
        {
          "output_type": "stream",
          "name": "stdout",
          "text": [
            "Ingrese un numerador número: 5\n",
            "Ingrese un denominador número: 2\n",
            "el resultado de la operación da: 1\n"
          ]
        }
      ]
    },
    {
      "cell_type": "code",
      "source": [
        "# Desafio #12\n",
        "Nota1 = float(input(\"Ingrese la primera nota: \"))\n",
        "Nota2 = float(input(\"Ingrese la segunda nota: \"))\n",
        "Nota3 = float(input(\"Ingrese la tercera nota: \"))\n",
        "Cantidad_notas = 3\n",
        "print(f\"el resultado de la operación da: {(Nota1+Nota2+Nota3)/3}\")\n",
        "# sistema de notas en Panamá"
      ],
      "metadata": {
        "colab": {
          "base_uri": "https://localhost:8080/"
        },
        "outputId": "0cb034ee-66f7-4821-ee61-159ca321a092",
        "id": "Wc9wEl4kx445"
      },
      "execution_count": 13,
      "outputs": [
        {
          "output_type": "stream",
          "name": "stdout",
          "text": [
            "Ingrese la primera nota: 3.4\n",
            "Ingrese la segunda nota: 3.2\n",
            "Ingrese la tercera nota: 3.0\n",
            "el resultado de la operación da: 3.1999999999999997\n"
          ]
        }
      ]
    },
    {
      "cell_type": "code",
      "source": [
        "# Desafio #13\n",
        "Nota1 = 5\n",
        "Nota2 = 12\n",
        "Nota3 = 20\n",
        "Nota4 = 15\n",
        "\n",
        "Valor1 = 1\n",
        "Valor2 = 2\n",
        "Valor3 = 3\n",
        "Valor4 = 4\n",
        "Cantidad_notas = 3\n",
        "print(f\"el resultado de la operación da: {((Nota1*Valor1)+(Nota2*Valor2)+(Nota3*Valor3)+(Nota4*Valor4))/(Valor1+Valor2+Valor3+Valor4)}\")"
      ],
      "metadata": {
        "colab": {
          "base_uri": "https://localhost:8080/"
        },
        "outputId": "838082c6-fd30-4021-d77c-74049fe274c7",
        "id": "T8g0OibAz673"
      },
      "execution_count": 16,
      "outputs": [
        {
          "output_type": "stream",
          "name": "stdout",
          "text": [
            "el resultado de la operación da: 14.9\n"
          ]
        }
      ]
    },
    {
      "cell_type": "code",
      "source": [
        "# Desafio #14\n",
        "Frase = \"Hola soy un programador\"\n",
        "Frase"
      ],
      "metadata": {
        "colab": {
          "base_uri": "https://localhost:8080/",
          "height": 38
        },
        "outputId": "ee418882-f897-4768-88f0-c81b59a1bddd",
        "id": "jhKer4mm3foa"
      },
      "execution_count": 17,
      "outputs": [
        {
          "output_type": "execute_result",
          "data": {
            "text/plain": [
              "'Hola soy un programador'"
            ],
            "application/vnd.google.colaboratory.intrinsic+json": {
              "type": "string"
            }
          },
          "metadata": {},
          "execution_count": 17
        }
      ]
    },
    {
      "cell_type": "code",
      "source": [
        "# Desafio #15\n",
        "Frase = input(\"Ingrese una frase: \")\n",
        "Frase"
      ],
      "metadata": {
        "colab": {
          "base_uri": "https://localhost:8080/",
          "height": 55
        },
        "outputId": "64bf69c5-f06b-439b-a889-626add18413a",
        "id": "b9PghCoR3ytO"
      },
      "execution_count": 18,
      "outputs": [
        {
          "name": "stdout",
          "output_type": "stream",
          "text": [
            "Ingrese una frase: ya pasé el curso\n"
          ]
        },
        {
          "output_type": "execute_result",
          "data": {
            "text/plain": [
              "'ya pasé el curso'"
            ],
            "application/vnd.google.colaboratory.intrinsic+json": {
              "type": "string"
            }
          },
          "metadata": {},
          "execution_count": 18
        }
      ]
    },
    {
      "cell_type": "code",
      "source": [
        "# Desafio #16\n",
        "Frase = input(\"Ingrese una frase: \")\n",
        "Frase.upper()"
      ],
      "metadata": {
        "colab": {
          "base_uri": "https://localhost:8080/",
          "height": 55
        },
        "outputId": "95b823ed-5638-4b44-8441-610fa90d4c62",
        "id": "0t-MKdnp4Hh8"
      },
      "execution_count": 22,
      "outputs": [
        {
          "name": "stdout",
          "output_type": "stream",
          "text": [
            "Ingrese una frase: HOla soy un programador\n"
          ]
        },
        {
          "output_type": "execute_result",
          "data": {
            "text/plain": [
              "'HOLA SOY UN PROGRAMADOR'"
            ],
            "application/vnd.google.colaboratory.intrinsic+json": {
              "type": "string"
            }
          },
          "metadata": {},
          "execution_count": 22
        }
      ]
    },
    {
      "cell_type": "code",
      "source": [
        "# Desafio #17\n",
        "Frase = input(\"Ingrese una frase: \")\n",
        "Frase.lower()"
      ],
      "metadata": {
        "colab": {
          "base_uri": "https://localhost:8080/",
          "height": 55
        },
        "outputId": "9c0116e6-4e9c-437d-87b5-bcba65fec740",
        "id": "0wNRiMx24rw8"
      },
      "execution_count": 23,
      "outputs": [
        {
          "name": "stdout",
          "output_type": "stream",
          "text": [
            "Ingrese una frase: Hola soy un programador\n"
          ]
        },
        {
          "output_type": "execute_result",
          "data": {
            "text/plain": [
              "'hola soy un programador'"
            ],
            "application/vnd.google.colaboratory.intrinsic+json": {
              "type": "string"
            }
          },
          "metadata": {},
          "execution_count": 23
        }
      ]
    },
    {
      "cell_type": "code",
      "source": [
        "# Desafio #18\n",
        "Frase = \" Hola soy un programador \"\n",
        "Frase.strip()"
      ],
      "metadata": {
        "colab": {
          "base_uri": "https://localhost:8080/",
          "height": 38
        },
        "outputId": "0e882271-874b-42d6-a95b-d54640ea1cbc",
        "id": "jV83CVfY40ic"
      },
      "execution_count": 25,
      "outputs": [
        {
          "output_type": "execute_result",
          "data": {
            "text/plain": [
              "'Hola soy un programador'"
            ],
            "application/vnd.google.colaboratory.intrinsic+json": {
              "type": "string"
            }
          },
          "metadata": {},
          "execution_count": 25
        }
      ]
    },
    {
      "cell_type": "code",
      "source": [
        "# Desafio #19\n",
        "Frase = input(\"Ingrese una frase: \")\n",
        "Frase.strip()"
      ],
      "metadata": {
        "colab": {
          "base_uri": "https://localhost:8080/",
          "height": 55
        },
        "outputId": "4bc86812-4a20-4991-eff6-a6d1bc5a7563",
        "id": "vB_D_W5x5XMa"
      },
      "execution_count": 26,
      "outputs": [
        {
          "name": "stdout",
          "output_type": "stream",
          "text": [
            "Ingrese una frase:  Hola Soy Angel \n"
          ]
        },
        {
          "output_type": "execute_result",
          "data": {
            "text/plain": [
              "'Hola Soy Angel'"
            ],
            "application/vnd.google.colaboratory.intrinsic+json": {
              "type": "string"
            }
          },
          "metadata": {},
          "execution_count": 26
        }
      ]
    },
    {
      "cell_type": "code",
      "source": [
        "# Desafio #20\n",
        "Frase = input(\"Ingrese una frase: \")\n",
        "Frase.strip().lower()"
      ],
      "metadata": {
        "colab": {
          "base_uri": "https://localhost:8080/",
          "height": 55
        },
        "outputId": "ae957749-9f21-42f0-c648-88f90abe8724",
        "id": "sFW33byG5jdQ"
      },
      "execution_count": 27,
      "outputs": [
        {
          "name": "stdout",
          "output_type": "stream",
          "text": [
            "Ingrese una frase:  HOLA SOY ANGEL \n"
          ]
        },
        {
          "output_type": "execute_result",
          "data": {
            "text/plain": [
              "'hola soy angel'"
            ],
            "application/vnd.google.colaboratory.intrinsic+json": {
              "type": "string"
            }
          },
          "metadata": {},
          "execution_count": 27
        }
      ]
    },
    {
      "cell_type": "code",
      "source": [
        "# Desafio #21\n",
        "Frase = input(\"Ingrese una frase: \")\n",
        "Frase.replace(\"e\", \"f\")"
      ],
      "metadata": {
        "colab": {
          "base_uri": "https://localhost:8080/",
          "height": 55
        },
        "outputId": "90d9bfaa-6d61-4432-ed5b-45c9c615d48b",
        "id": "60V9vBoa5wI4"
      },
      "execution_count": 28,
      "outputs": [
        {
          "name": "stdout",
          "output_type": "stream",
          "text": [
            "Ingrese una frase: creando un elemento\n"
          ]
        },
        {
          "output_type": "execute_result",
          "data": {
            "text/plain": [
              "'crfando un flfmfnto'"
            ],
            "application/vnd.google.colaboratory.intrinsic+json": {
              "type": "string"
            }
          },
          "metadata": {},
          "execution_count": 28
        }
      ]
    },
    {
      "cell_type": "code",
      "source": [
        "# Desafio #22\n",
        "Frase = input(\"Ingrese una frase: \")\n",
        "Frase.replace(\"a\", \"@\")"
      ],
      "metadata": {
        "colab": {
          "base_uri": "https://localhost:8080/",
          "height": 55
        },
        "outputId": "7ce9e1da-34ed-4c44-c31c-efde4c70a6ff",
        "id": "XdwfsnyD6Oyd"
      },
      "execution_count": 31,
      "outputs": [
        {
          "name": "stdout",
          "output_type": "stream",
          "text": [
            "Ingrese una frase: angel salazar\n"
          ]
        },
        {
          "output_type": "execute_result",
          "data": {
            "text/plain": [
              "'@ngel s@l@z@r'"
            ],
            "application/vnd.google.colaboratory.intrinsic+json": {
              "type": "string"
            }
          },
          "metadata": {},
          "execution_count": 31
        }
      ]
    },
    {
      "cell_type": "code",
      "source": [
        "# Desafio #23\n",
        "Frase = input(\"Ingrese una frase: \")\n",
        "Frase.replace(\"s\", \"$\")"
      ],
      "metadata": {
        "colab": {
          "base_uri": "https://localhost:8080/",
          "height": 55
        },
        "outputId": "b3ee0882-1b7d-45fc-a780-f24ab08d1944",
        "id": "mO026vXk6tkG"
      },
      "execution_count": 32,
      "outputs": [
        {
          "name": "stdout",
          "output_type": "stream",
          "text": [
            "Ingrese una frase: sacar los trapos sucios\n"
          ]
        },
        {
          "output_type": "execute_result",
          "data": {
            "text/plain": [
              "'$acar lo$ trapo$ $ucio$'"
            ],
            "application/vnd.google.colaboratory.intrinsic+json": {
              "type": "string"
            }
          },
          "metadata": {},
          "execution_count": 32
        }
      ]
    },
    {
      "cell_type": "markdown",
      "source": [
        "## Modulo 3 - Python para data science\n"
      ],
      "metadata": {
        "id": "hekaEyFd69wL"
      }
    },
    {
      "cell_type": "markdown",
      "source": [
        "### Estructuras condicionales\n",
        "\n",
        "**If** y **Else** son condicionales\n",
        "\n",
        "funcionana comparando y evaluando parametros como las variables por ejemplo el siguiente problema:"
      ],
      "metadata": {
        "id": "z0k9b8Vm8LXW"
      }
    },
    {
      "cell_type": "code",
      "source": [
        "#nota de aprobación entre 71 y 100 nota de aprobación mayor o igual a 71 (Nota >= 71)\n",
        "#nota de repobación menor a 71 (Nota<71)\n",
        "\n",
        "#Si la nota es mayor o igual a 71 el estudiante aprueba de lo contrario reprueba\n",
        "Nota_estudiante = 71\n",
        "\n",
        "if Nota_estudiante >= 71: #si nota es mayor o igual a 71 imprime if \"Aprobado\"\n",
        "    print(\"Aprobado\")\n",
        "else:\n",
        "    print(\"Reprobado\") #de lo contrario imprime else \"Reprobado\""
      ],
      "metadata": {
        "colab": {
          "base_uri": "https://localhost:8080/"
        },
        "id": "F67yb2mp8hRD",
        "outputId": "cc8fbdbb-6c3e-4a55-807b-58669f8d48a2"
      },
      "execution_count": 8,
      "outputs": [
        {
          "output_type": "stream",
          "name": "stdout",
          "text": [
            "Aprobado\n"
          ]
        }
      ]
    },
    {
      "cell_type": "markdown",
      "source": [
        "Explicación\n",
        "el problema nos plantea que para aprobar la nota debe ser mayor o igual a 71 y que de no ser asi (si es menor a 71) será reprobado.\n",
        "\n",
        "este bucle inicia en el if cuando este evalua si la condicion que pusimos se cumple o no (si es Verdadero (True) o falso (False)): que la nota sea mayor o igual a 71 que se expresa como **Variable >= 71** (\">=\" es un operador condicional).\n",
        "\n",
        "si no se cumple esta condición, ejecutará el else (es decir si la nota es menor a 71 (el operador condicional si fuese evaluado en el if seria \"<\"))\n",
        "\n",
        "\n",
        "---\n",
        "\n",
        "\n",
        "Ahora veamos un ejemplo con un condicional llamado elif:"
      ],
      "metadata": {
        "id": "ML5R5ssKEsYw"
      }
    },
    {
      "cell_type": "code",
      "source": [
        "#nota de aprobación entre 71 y 100 nota de aprobación mayor o igual a 71 (Nota >= 71)\n",
        "#nota de recuperación si la nota es 51\n",
        "#nota de repobación menor o igual a 50\n",
        "\n",
        "#Si la nota es mayor o igual a 71 el estudiante aprueba de lo contrario reprueba\n",
        "Nota_estudiante = 50\n",
        "\n",
        "if Nota_estudiante >= 71: #si nota es mayor o igual a 71 imprime if \"Aprobado\"\n",
        "    print(\"Aprobado\")\n",
        "elif 71 > Nota_estudiante >= 51:\n",
        "    print(\"recuperación\")\n",
        "else:\n",
        "    print(\"Reprobado\") #de lo contrario imprime else \"Reprobado\""
      ],
      "metadata": {
        "colab": {
          "base_uri": "https://localhost:8080/"
        },
        "outputId": "3bcbb98b-45cf-4af9-dc57-980708e0aacf",
        "id": "rXZ2EI29HVtE"
      },
      "execution_count": 27,
      "outputs": [
        {
          "output_type": "stream",
          "name": "stdout",
          "text": [
            "Reprobado\n"
          ]
        }
      ]
    },
    {
      "cell_type": "markdown",
      "source": [
        "Explicación:\n",
        "\n",
        "Elif es el equivalente a \"si no se cumple esta intenta esta\" espresada generalmente \"si no, si\" quiere decir que si no se cumple la condicion para cumplirse del if pasará a evaluar la condicion del del elif si esta se cumple ejecutará el bloque dentro del elif si no ejecutará el else. hayq ue recordar que se pueden colocar varios elif para evaluar varias condiciones de un problem."
      ],
      "metadata": {
        "id": "5z7jTbq-J3et"
      }
    },
    {
      "cell_type": "markdown",
      "source": [
        "###Operadores Lógicos\n",
        "Los operadores lógicos como And ,Or y Not son operadores que ayudan a crear condiocionales más complejas utilizadas usualmente en condicionales if.\n",
        "\n",
        "ejemplo de como funciona un And:\n",
        "\n",
        "Si la condicion **X** se cumple And la condición **Y** también se vamos a la playa de manera más explicita seria: si tenemos un carro and(y) gasolina vamos a la playa\n",
        "\n",
        "como puedes ver se tienen que cumplir ambas condiciones para porder que todo funcione y de faltar una ya no se podria.\n",
        "\n",
        "\n",
        "---\n",
        "\n",
        "\n",
        "ejemplo de como funciona un OR:\n",
        "\n",
        "Si la condicion **X** se cumple Or la condición **Y** no vamos a la playa o viceversa, de manera más explicita seria: si tenemos carro Or(o) sodas vamos a la playa\n",
        "\n",
        "Aunque pareza similar a el And no lo es ya que el Or indica que una de las 2 condiciones se debe cumplir para ejecutar, pero no ambas, es decir si hay sodas pero no carro podemos ir a la playa, de igual manera si hay carro pero no sodas, sin embargo si no tenemos ninguna no podemos ir.\n",
        "\n",
        "\n",
        "---\n",
        "\n",
        "\n",
        "ejemplo de como funciona un Not:\n",
        "\n",
        "si Not(no) estas en **lista de personas vetadas** de la fiesta puedes entrar, de manera más explicita si no estas en la listad e personas vetadas de la fiesta puedes entrar de lo contrario no puedes.\n",
        "\n",
        "este operador funciona negando. es decir si tenemos una variable con el nombre pedro y usamos la condicional if con un not para evitar que pedro entre a la fiesta. se evaluaria si pedro esta en la lista y si está no entrará.\n"
      ],
      "metadata": {
        "id": "_SvtymALLIlk"
      }
    },
    {
      "cell_type": "code",
      "source": [
        "vetados = \"juan\", \"pedro\" ,\"rou\"\n",
        "\n",
        "if not \"pepito\" in vetados :\n",
        "  print (\"pueden entrar\")\n",
        "else:\n",
        "  print(\"no puedes entrar\")"
      ],
      "metadata": {
        "colab": {
          "base_uri": "https://localhost:8080/"
        },
        "id": "Zn9ABI3JRvDR",
        "outputId": "479a4374-c0e9-47b5-9429-57eb5147f57e"
      },
      "execution_count": 32,
      "outputs": [
        {
          "output_type": "stream",
          "name": "stdout",
          "text": [
            "pueden entrar\n"
          ]
        }
      ]
    },
    {
      "cell_type": "markdown",
      "source": [
        "###IN\n",
        "el in es usado para verificar si un elemento se encuentra en una tupla, lista y otra conexión de conjuntos de datos. evalua como true si el elemento que buscamos está en uno de estos conjuntos o false si no como podemos ver en el ejemplo de arriba"
      ],
      "metadata": {
        "id": "NQURDag7SzTc"
      }
    },
    {
      "cell_type": "markdown",
      "source": [
        "##Desafio Modulo 3 - Sección 12"
      ],
      "metadata": {
        "id": "loMoy1T5UBA7"
      }
    },
    {
      "cell_type": "code",
      "source": [
        "#Desafio #1\n",
        "Num1 = float(input(\"Ingrese un numero: \"))\n",
        "Num2 = float(input(\"Ingrese un numero: \"))\n",
        "if Num1 > Num2:\n",
        "  print(Num1)\n",
        "else:\n",
        "  print(Num2)"
      ],
      "metadata": {
        "colab": {
          "base_uri": "https://localhost:8080/"
        },
        "id": "h1mQHL4mUTJx",
        "outputId": "e4a557f7-92a7-46b5-a849-ecc2c4e84cea"
      },
      "execution_count": 4,
      "outputs": [
        {
          "output_type": "stream",
          "name": "stdout",
          "text": [
            "Ingrese un numero: 2\n",
            "Ingrese un numero: 1\n",
            "2.0\n"
          ]
        }
      ]
    }
  ]
}