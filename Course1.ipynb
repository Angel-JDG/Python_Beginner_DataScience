{
  "nbformat": 4,
  "nbformat_minor": 0,
  "metadata": {
    "colab": {
      "provenance": [],
      "authorship_tag": "ABX9TyNOsagpK6jsIOqPApUU1NiD",
      "include_colab_link": true
    },
    "kernelspec": {
      "name": "python3",
      "display_name": "Python 3"
    },
    "language_info": {
      "name": "python"
    }
  },
  "cells": [
    {
      "cell_type": "markdown",
      "metadata": {
        "id": "view-in-github",
        "colab_type": "text"
      },
      "source": [
        "<a href=\"https://colab.research.google.com/github/Angel-JDG/Python_Beginner_DataScience/blob/main/Course1.ipynb\" target=\"_parent\"><img src=\"https://colab.research.google.com/assets/colab-badge.svg\" alt=\"Open In Colab\"/></a>"
      ]
    },
    {
      "cell_type": "markdown",
      "source": [
        "## Clase Modulo 1 - Python para data Science\n",
        "\n",
        "En este modulo vamos a ver:\n",
        "\n",
        "* Introducción al notebook de Google Colaboratory.\n",
        "* Introducción al lenguaje de programación Python.\n",
        "\n",
        "\n"
      ],
      "metadata": {
        "id": "dKD6bVkJ_ILO"
      }
    },
    {
      "cell_type": "code",
      "source": [
        "print(\"Hola Hundo\")"
      ],
      "metadata": {
        "id": "QsOiM-Cs_xMm"
      },
      "execution_count": null,
      "outputs": []
    },
    {
      "cell_type": "markdown",
      "source": [
        "### Desafio Modulo 1 - sección 8\n"
      ],
      "metadata": {
        "id": "Br1RgdKfNFsp"
      }
    },
    {
      "cell_type": "code",
      "source": [
        "# Desafio #1\n",
        "print(\"Escuela de Datos de Alura.\")"
      ],
      "metadata": {
        "colab": {
          "base_uri": "https://localhost:8080/"
        },
        "id": "zp56Fu6WNYxn",
        "outputId": "39ed8c97-2562-4f9f-b24d-c2da49c30de5"
      },
      "execution_count": null,
      "outputs": [
        {
          "output_type": "stream",
          "name": "stdout",
          "text": [
            "Escuela de Datos de Alura.\n"
          ]
        }
      ]
    },
    {
      "cell_type": "code",
      "source": [
        "#Desafio #2\n",
        "Nombre = \"Angel\"\n",
        "Apellido = \"Delgado\"\n",
        "\n",
        "print (f\"Mi nombre es {Nombre} {Apellido}\")"
      ],
      "metadata": {
        "colab": {
          "base_uri": "https://localhost:8080/"
        },
        "id": "O43jLNQpNxLe",
        "outputId": "6b88d115-0b0c-4de0-ee26-e2ef947a614f"
      },
      "execution_count": null,
      "outputs": [
        {
          "output_type": "stream",
          "name": "stdout",
          "text": [
            "Mi nombre es Angel Delgado\n"
          ]
        }
      ]
    },
    {
      "cell_type": "code",
      "source": [
        "#Desafio #3\n",
        "Nombre = \"Pedro\"\n",
        "for a in Nombre:\n",
        "  print (a)"
      ],
      "metadata": {
        "colab": {
          "base_uri": "https://localhost:8080/"
        },
        "id": "pzB8LiMHOZXA",
        "outputId": "55800a7b-34aa-4b40-9da4-9e1f11cee33d"
      },
      "execution_count": null,
      "outputs": [
        {
          "output_type": "stream",
          "name": "stdout",
          "text": [
            "P\n",
            "e\n",
            "d\n",
            "r\n",
            "o\n"
          ]
        }
      ]
    },
    {
      "cell_type": "code",
      "source": [
        "#Desafio #4\n",
        "Mes = \"Abril\"\n",
        "Año = 2025\n",
        "Dia = 4\n",
        "print (f\"{Dia} {Mes} del {Año}\")"
      ],
      "metadata": {
        "colab": {
          "base_uri": "https://localhost:8080/"
        },
        "id": "L-i7iC7yRf1c",
        "outputId": "8c304412-a28c-4c6d-8ba5-b07a772681b0"
      },
      "execution_count": null,
      "outputs": [
        {
          "output_type": "stream",
          "name": "stdout",
          "text": [
            "4 Abril del 2025\n"
          ]
        }
      ]
    },
    {
      "cell_type": "code",
      "source": [
        "#Desafio #5\n",
        "Año = 2025\n",
        "print(f\"Año Actual: {Año}\")"
      ],
      "metadata": {
        "colab": {
          "base_uri": "https://localhost:8080/"
        },
        "id": "r3n3wdfNShPy",
        "outputId": "9f605043-d44d-4f9a-ddf0-006b8bb48edf"
      },
      "execution_count": null,
      "outputs": [
        {
          "output_type": "stream",
          "name": "stdout",
          "text": [
            "Año Actual: 2025\n"
          ]
        }
      ]
    },
    {
      "cell_type": "markdown",
      "source": [
        "## Clase Modulo 2 - Python para Data Science\n",
        "\n",
        "En este modulo vamos a ver:\n",
        "*   variables y tipos de variables.\n",
        "*   Manipulacions de datos."
      ],
      "metadata": {
        "id": "YAGkZygG4tQU"
      }
    },
    {
      "cell_type": "markdown",
      "source": [
        "### Variables\n",
        "Las variables en python al igual que en algebra son \"objetos\" a los que les ponemos un \"nombre\" y les asignamos un valor por ejemplo:\n",
        "\n",
        "\n",
        "*   En Algebra:\n",
        "  * x + 3 cuando x = 2 (en este caso estamos asigando el valor de 2 a la X que seria nuestra variable)\n",
        "      * el resultado seria *5*\n",
        "\n",
        "* En programación:\n",
        "  * Nombre = Juan ('Nombre' seria nuestra variable y 'Juan' nuestro valor asignado)\n",
        "  * Print(\"Hola \"Nombre)\n",
        "    * el output seria \"Hola Juan\"\n",
        "\n",
        "\n"
      ],
      "metadata": {
        "id": "FzyD6g405ssb"
      }
    },
    {
      "cell_type": "markdown",
      "source": [
        "### Tipos de variables\n",
        "hay 4 tipos de variables principalmente:\n",
        "\n",
        "\n",
        "*   Variable tipo entero: int (las variables tipo entero son numeros enteros es decir sin puntos decimales, como por ejemplo 2, 3, 4, 5... )\n",
        "*   Variable tipo float: float (las variables de este tipo permiten numeros decimales, por ejemplo, 2.3, 4.5, 6.4...)\n",
        "*   Variable tipo texto: str (las variables de tipo texto corresponden al sistema ACSII de texto como por ejemplo 'Nombre', 'Perro' Y 'gato', estas son cadenas de texto ya que estan formadas por varios caracteres)\n",
        "*   Variable tipo boleanos: bool (este tipo de variable solo tiene 2 estados posibles TRUE o FALSE)\n",
        "\n",
        "**Ejemplo en clases:**"
      ],
      "metadata": {
        "id": "gZbiBxxr93yi"
      }
    },
    {
      "cell_type": "code",
      "source": [
        "# Tranformar la ficha de un alumno en variables\n",
        "Nombre_estudiante = \"Penélope\"\n",
        "Edad_estudiante = 21\n",
        "Promedio_Estudiante = 9.7\n",
        "Aprobado = True\n",
        "print(Nombre_estudiante, Edad_estudiante, Promedio_Estudiante, Aprobado)\n",
        "print(type(Nombre_estudiante), type(Edad_estudiante), type(Promedio_Estudiante), type(Aprobado))"
      ],
      "metadata": {
        "id": "7GeOGqen5Sz-",
        "colab": {
          "base_uri": "https://localhost:8080/"
        },
        "outputId": "edc5ab0b-1319-4300-de67-e3f3d6684bec"
      },
      "execution_count": null,
      "outputs": [
        {
          "output_type": "stream",
          "name": "stdout",
          "text": [
            "Penélope 21 9.7 True\n",
            "<class 'str'> <class 'int'> <class 'float'> <class 'bool'>\n"
          ]
        }
      ]
    },
    {
      "cell_type": "markdown",
      "source": [
        "####Variables Numericas\n",
        "Enfoque en variables de tipo **float** e **int**.\n",
        "\n",
        "* Datos:\n",
        "  * Vigilante: Cantidad 5, Salario 300.\n",
        "  * Docente: Cantidad 16, Salario 500.\n",
        "  * Coordinador: Cantidad 2, Salario 600.\n",
        "\n",
        "\n",
        "\n",
        "\n",
        "\n",
        "\n",
        "Casos de uso:\n",
        "*   Cantidad total de empleados.\n",
        "*   Diferencia entre el salario más alto y más bajo.\n",
        "*   Promedio ponderado de los salarios.\n",
        "\n",
        "Ejemplo en clase:"
      ],
      "metadata": {
        "id": "sPBKPi9kTdEO"
      }
    },
    {
      "cell_type": "code",
      "source": [
        "Cantidad_vigilante = 5\n",
        "Salario_vigilante = 300\n",
        "\n",
        "Cantidad_docente = 16\n",
        "Salario_docente = 500\n",
        "\n",
        "Cantidad_coordinador = 2\n",
        "Salario_coordinador = 600\n",
        "\n",
        "Total_empleados = Cantidad_vigilante + Cantidad_coordinador + Cantidad_docente\n",
        "Total_empleados\n",
        "\n",
        "Diferencia_salario = Cantidad_coordinador - Cantidad_vigilante\n",
        "Diferencia_salario\n",
        "\n",
        "Promedio_salario = (Salario_coordinador*Cantidad_coordinador + Salario_docente*Cantidad_docente + Salario_vigilante*Cantidad_vigilante)/Total_empleados\n",
        "Promedio_salario"
      ],
      "metadata": {
        "colab": {
          "base_uri": "https://localhost:8080/"
        },
        "id": "WAvm5n83UheV",
        "outputId": "27afcb5b-e326-4946-84e7-d1bbe9fb85a4"
      },
      "execution_count": null,
      "outputs": [
        {
          "output_type": "execute_result",
          "data": {
            "text/plain": [
              "465.2173913043478"
            ]
          },
          "metadata": {},
          "execution_count": 9
        }
      ]
    },
    {
      "cell_type": "markdown",
      "source": [
        "####Variables de texto\n",
        "Enfoque en variables de tipo texto **String**.\n",
        "\n",
        "las variables de tipo texto pueden estr envueltas en comillas simples ( ' ) o comillas dobles ( \" ).\n",
        "```\n",
        "t = \"Alura\"\n",
        "type (t) --> string\n",
        "```\n",
        "las variables textuales son objetos que poseen metodos que nos ayudan a formatear strings. los metodos los podemos ejecutar acorde a la siguiente estructura:\n",
        "\n",
        "objeto.metodo()\n",
        "\n",
        "los parentesis no siempre van con todo los metodos, por eso se debe verificar en la documentación.\n",
        "\n",
        "**Ejemplo en clase:**\n",
        "\n",
        "se recibe una variable con un nombre para insertar a un registro, pero antes se debe pasar por un tratamiento al texto antes de insertarlo al sistema.\n"
      ],
      "metadata": {
        "id": "J3y6i8osaNXz"
      }
    },
    {
      "cell_type": "code",
      "source": [
        "texto = \" Micaela de los Sanyos\"\n",
        "id(texto)"
      ],
      "metadata": {
        "colab": {
          "base_uri": "https://localhost:8080/"
        },
        "id": "TvqD0kYRa5Gl",
        "outputId": "4196fa88-4e2b-4c97-8812-24fdf9be8d56"
      },
      "execution_count": null,
      "outputs": [
        {
          "output_type": "execute_result",
          "data": {
            "text/plain": [
              "135539513026368"
            ]
          },
          "metadata": {},
          "execution_count": 33
        }
      ]
    },
    {
      "cell_type": "markdown",
      "source": [
        "el objetivo final es el siguiente: 'MICAELA DE LOS SANTOS'"
      ],
      "metadata": {
        "id": "lb9Kkv9RcdYn"
      }
    },
    {
      "cell_type": "code",
      "source": [
        "# utilizamos metodo upper para convertir a mayusculas toda la cadena de texto\n",
        "texto.upper()"
      ],
      "metadata": {
        "colab": {
          "base_uri": "https://localhost:8080/",
          "height": 38
        },
        "id": "PkulL9b6dCPr",
        "outputId": "3b311ded-0f90-480c-f491-3a3342301320"
      },
      "execution_count": null,
      "outputs": [
        {
          "output_type": "execute_result",
          "data": {
            "text/plain": [
              "' MICAELA DE LOS SANYOS'"
            ],
            "application/vnd.google.colaboratory.intrinsic+json": {
              "type": "string"
            }
          },
          "metadata": {},
          "execution_count": 34
        }
      ]
    },
    {
      "cell_type": "code",
      "source": [
        "# utilizamos metodo lower para convertir a minusculas toda la cadena de texto\n",
        "texto.lower()"
      ],
      "metadata": {
        "colab": {
          "base_uri": "https://localhost:8080/",
          "height": 38
        },
        "id": "w78u5yJpdds9",
        "outputId": "d8857153-75e7-48e3-aa01-d068d2245f6c"
      },
      "execution_count": null,
      "outputs": [
        {
          "output_type": "execute_result",
          "data": {
            "text/plain": [
              "' micaela de los sanyos'"
            ],
            "application/vnd.google.colaboratory.intrinsic+json": {
              "type": "string"
            }
          },
          "metadata": {},
          "execution_count": 35
        }
      ]
    },
    {
      "cell_type": "code",
      "source": [
        "# utilizamos metodo strip para eliminar espacios en blanco al principio o final de un string\n",
        "texto.strip()"
      ],
      "metadata": {
        "colab": {
          "base_uri": "https://localhost:8080/",
          "height": 38
        },
        "id": "pYrHE-uUdf7s",
        "outputId": "f8993781-8bb8-4a27-d947-91a387be03e8"
      },
      "execution_count": null,
      "outputs": [
        {
          "output_type": "execute_result",
          "data": {
            "text/plain": [
              "'Micaela de los Sanyos'"
            ],
            "application/vnd.google.colaboratory.intrinsic+json": {
              "type": "string"
            }
          },
          "metadata": {},
          "execution_count": 36
        }
      ]
    },
    {
      "cell_type": "code",
      "source": [
        "# utilizamos metodo replace para editar/cambiar un elemento del contenido\n",
        "texto.replace('y', 't')\n"
      ],
      "metadata": {
        "colab": {
          "base_uri": "https://localhost:8080/",
          "height": 38
        },
        "id": "GeD40kq-eHwz",
        "outputId": "36a08f9c-32e4-4254-80e0-7fd7d897f777"
      },
      "execution_count": null,
      "outputs": [
        {
          "output_type": "execute_result",
          "data": {
            "text/plain": [
              "' Micaela de los Santos'"
            ],
            "application/vnd.google.colaboratory.intrinsic+json": {
              "type": "string"
            }
          },
          "metadata": {},
          "execution_count": 37
        }
      ]
    },
    {
      "cell_type": "code",
      "source": [
        "# se pueden usar varios metodos al mismo tiempo y la variable debe ser guardada:\n",
        "nuevo_texto= texto.strip().upper().replace('y', 't')\n",
        "print(nuevo_texto)\n",
        "# al ser variables diferentes no se almacenan en el mismo espacio de memoria\n",
        "print(id(texto), id(nuevo_texto))"
      ],
      "metadata": {
        "colab": {
          "base_uri": "https://localhost:8080/"
        },
        "id": "X7taXbR7fLfr",
        "outputId": "3d2d2b82-bb81-4bbe-a53b-f625231885e6"
      },
      "execution_count": null,
      "outputs": [
        {
          "output_type": "stream",
          "name": "stdout",
          "text": [
            "MICAELA DE LOS SANYOS\n",
            "135539513040032 135539513017008\n"
          ]
        }
      ]
    },
    {
      "cell_type": "code",
      "source": [
        "texto= texto.strip().upper().replace('y', 't')\n",
        "print(texto)\n",
        "print(id(texto), id(nuevo_texto))"
      ],
      "metadata": {
        "colab": {
          "base_uri": "https://localhost:8080/"
        },
        "id": "eoGLA8CKgXJU",
        "outputId": "000f3f79-8bba-460f-e4e0-8c287b6402c3"
      },
      "execution_count": null,
      "outputs": [
        {
          "output_type": "stream",
          "name": "stdout",
          "text": [
            "MICAELA DE LOS SANYOS\n",
            "135539511017520 135539513017008\n"
          ]
        }
      ]
    },
    {
      "cell_type": "markdown",
      "source": [
        "#### Colección de datos\n",
        "vamos a ver como ingresar información desde el programa en ejecución con **input()**\n",
        "para ejecutar la captura debemos atribuir el resultado de la funcion a una variable."
      ],
      "metadata": {
        "id": "RPWt8c-ahSnp"
      }
    },
    {
      "cell_type": "code",
      "source": [
        "Nombre= input(\"Escriba su nombre: \")"
      ],
      "metadata": {
        "colab": {
          "base_uri": "https://localhost:8080/"
        },
        "id": "s40b41Ctt4_r",
        "outputId": "b388ef23-ecc6-4748-98b8-f6fa7bf1ff36"
      },
      "execution_count": null,
      "outputs": [
        {
          "name": "stdout",
          "output_type": "stream",
          "text": [
            "Escriba su nombre: Angel\n"
          ]
        }
      ]
    },
    {
      "cell_type": "code",
      "source": [
        "type(Nombre)"
      ],
      "metadata": {
        "colab": {
          "base_uri": "https://localhost:8080/"
        },
        "id": "kxwxjbmquM_7",
        "outputId": "18f8caa9-bd4e-465d-ea06-606d9ebab0f0"
      },
      "execution_count": null,
      "outputs": [
        {
          "output_type": "execute_result",
          "data": {
            "text/plain": [
              "str"
            ]
          },
          "metadata": {},
          "execution_count": 4
        }
      ]
    },
    {
      "cell_type": "markdown",
      "source": [
        "Todo lo que ingreses en el input sera tipo string aun cuando digites un valor númerico.\n",
        "\n",
        "Funciones de conversion de valores:\n",
        "*   Entero      = int   (dato para conversión)\n",
        "*   Flotante    = float (dato para conversión)\n",
        "*   Caracter    = str   (dato para conversión)\n",
        "*   booleanos   = bool  (dato para conversión)\n",
        "\n"
      ],
      "metadata": {
        "id": "oX1Sf6JXuA2K"
      }
    },
    {
      "cell_type": "markdown",
      "source": [
        "nota adicional \\n es un salto de linea y \\t una tabulación pueden ser utilizadas en cadenas de texto"
      ],
      "metadata": {
        "id": "wtq2DVnIx3zg"
      }
    },
    {
      "cell_type": "code",
      "source": [
        "Ano_admision = int(input(\"Digite el año de admisión: \"))"
      ],
      "metadata": {
        "colab": {
          "base_uri": "https://localhost:8080/"
        },
        "id": "6RXxVUe4vjna",
        "outputId": "f649958e-d3ab-4f6e-d282-f7785493d5cd"
      },
      "execution_count": null,
      "outputs": [
        {
          "name": "stdout",
          "output_type": "stream",
          "text": [
            "Digite el año de admisión: 2025\n"
          ]
        }
      ]
    },
    {
      "cell_type": "code",
      "source": [
        "type(Ano_admision)"
      ],
      "metadata": {
        "colab": {
          "base_uri": "https://localhost:8080/"
        },
        "id": "KpBjLHMiv6Ja",
        "outputId": "05f2fd25-c782-4721-c66f-7c3d6d43adc7"
      },
      "execution_count": null,
      "outputs": [
        {
          "output_type": "execute_result",
          "data": {
            "text/plain": [
              "int"
            ]
          },
          "metadata": {},
          "execution_count": 8
        }
      ]
    },
    {
      "cell_type": "code",
      "source": [
        "Nota_admision = float(input(\"Digite la nota de admisión: \"))"
      ],
      "metadata": {
        "colab": {
          "base_uri": "https://localhost:8080/"
        },
        "id": "H2fWaqxiwJHr",
        "outputId": "b29fc251-e0c5-4d2f-9a30-be3739f4badf"
      },
      "execution_count": null,
      "outputs": [
        {
          "name": "stdout",
          "output_type": "stream",
          "text": [
            "Digite la nota de admisión: 4.8\n"
          ]
        }
      ]
    },
    {
      "cell_type": "code",
      "source": [
        "type(Nota_admision)"
      ],
      "metadata": {
        "colab": {
          "base_uri": "https://localhost:8080/"
        },
        "id": "KXUvS9DDwJGG",
        "outputId": "960ce213-43a9-4d66-cac1-a58fba389b30"
      },
      "execution_count": null,
      "outputs": [
        {
          "output_type": "execute_result",
          "data": {
            "text/plain": [
              "float"
            ]
          },
          "metadata": {},
          "execution_count": 11
        }
      ]
    },
    {
      "cell_type": "markdown",
      "source": [
        "### Desafio Modulo 2 - Sección 14"
      ],
      "metadata": {
        "id": "SmxIGKGFyeKY"
      }
    },
    {
      "cell_type": "code",
      "source": [
        "# Desafio #1\n",
        "Nombre = input(\"Ingrese su nombre: \")\n",
        "print(f\"Hola, {Nombre}.\")"
      ],
      "metadata": {
        "colab": {
          "base_uri": "https://localhost:8080/"
        },
        "id": "dJsXgRZiyyUE",
        "outputId": "056ddfeb-017c-4e6c-98b7-33dd68bbba2f"
      },
      "execution_count": null,
      "outputs": [
        {
          "output_type": "stream",
          "name": "stdout",
          "text": [
            "Ingrese su nombre: Ángel\n",
            "Hola, Ángel.\n"
          ]
        }
      ]
    },
    {
      "cell_type": "code",
      "source": [
        "# Desafio #2\n",
        "Nombre = input(\"Ingrese su nombre: \")\n",
        "Edad =  int(input(\"Ingrese su edad: \"))\n",
        "print(f\"Hola {Nombre}, tienes {Edad} años.\")"
      ],
      "metadata": {
        "colab": {
          "base_uri": "https://localhost:8080/"
        },
        "outputId": "eb58f9cd-5d7e-4d2a-9680-79fefefd46ae",
        "id": "ggUZySyn0rVF"
      },
      "execution_count": null,
      "outputs": [
        {
          "output_type": "stream",
          "name": "stdout",
          "text": [
            "Ingrese su nombre: Angel\n",
            "Ingrese su edad: 21\n",
            "Hola Angel, tienes 21 años.\n"
          ]
        }
      ]
    },
    {
      "cell_type": "code",
      "source": [
        "# Desafio #3\n",
        "Nombre = input(\"Ingrese su nombre: \")\n",
        "Edad =  int(input(\"Ingrese su edad: \"))\n",
        "Altura = float(input(\"Ingrese su altura: \"))\n",
        "print(f\"Hola {Nombre}, tienes {Edad} años y mides {Altura}\")"
      ],
      "metadata": {
        "colab": {
          "base_uri": "https://localhost:8080/"
        },
        "outputId": "3f35096f-aec6-4b41-c52a-7d9c2878750c",
        "id": "K4dpR595zVcz"
      },
      "execution_count": null,
      "outputs": [
        {
          "output_type": "stream",
          "name": "stdout",
          "text": [
            "Ingrese su nombre: Ángel\n",
            "Ingrese su edad: 21\n",
            "Ingrese su altura: 1.70\n",
            "Hola Ángel, tienes 21 años y mides 1.7\n"
          ]
        }
      ]
    },
    {
      "cell_type": "code",
      "source": [
        "# Desafio #4\n",
        "Num1 = int(input(\"Ingrese un primer número: \"))\n",
        "Num2 = int(input(\"Ingrese un segundo número: \"))\n",
        "print(f\"la resta de estos numeros da: {Num1+Num2}\")"
      ],
      "metadata": {
        "colab": {
          "base_uri": "https://localhost:8080/"
        },
        "outputId": "44d7c011-c7ac-477a-b079-4933d9fc9cf7",
        "id": "7Plvn9xbz1CH"
      },
      "execution_count": null,
      "outputs": [
        {
          "output_type": "stream",
          "name": "stdout",
          "text": [
            "Ingrese un primer número: 2\n",
            "Ingrese un segundo número: 3\n",
            "la resta de estos numeros da: 5\n"
          ]
        }
      ]
    },
    {
      "cell_type": "code",
      "source": [
        "# Desafio #5\n",
        "Num1 = int(input(\"Ingrese un primer número: \"))\n",
        "Num2 = int(input(\"Ingrese un segundo número: \"))\n",
        "Num3 = int(input(\"Ingrese un tercer número: \"))\n",
        "print(f\"la suma de estos numeros da: {Num1+Num2+Num3}\")"
      ],
      "metadata": {
        "colab": {
          "base_uri": "https://localhost:8080/"
        },
        "outputId": "18d15918-da1a-40f7-b02f-68d1ea0bed6a",
        "id": "wMLoTJHw0aol"
      },
      "execution_count": null,
      "outputs": [
        {
          "output_type": "stream",
          "name": "stdout",
          "text": [
            "Ingrese un primer número: 1\n",
            "Ingrese un segundo número: 1\n",
            "Ingrese un tercer número: 2\n",
            "la suma de estos numeros da: 4\n"
          ]
        }
      ]
    },
    {
      "cell_type": "code",
      "source": [
        "# Desafio #6\n",
        "Num1 = int(input(\"Ingrese un primer número: \"))\n",
        "Num2 = int(input(\"Ingrese un segundo número: \"))\n",
        "print(f\"la resta de estos numeros da: {Num1-Num2}\")"
      ],
      "metadata": {
        "colab": {
          "base_uri": "https://localhost:8080/"
        },
        "outputId": "b4e06275-30df-47ac-b5c8-019c590af9c3",
        "id": "wdEAO2zBvHg6"
      },
      "execution_count": null,
      "outputs": [
        {
          "output_type": "stream",
          "name": "stdout",
          "text": [
            "Ingrese un primer número: 2\n",
            "Ingrese un segundo número: 1\n",
            "la resta de estos numeros da: 1\n"
          ]
        }
      ]
    },
    {
      "cell_type": "code",
      "source": [
        "# Desafio #7\n",
        "Num1 = int(input(\"Ingrese un primer número: \"))\n",
        "Num2 = int(input(\"Ingrese un segundo número: \"))\n",
        "print(f\"la resta de estos numeros da: {Num1-Num2}\")"
      ],
      "metadata": {
        "colab": {
          "base_uri": "https://localhost:8080/"
        },
        "outputId": "aacca78b-ef9f-44d4-c220-4958ae7055fb",
        "id": "q7VN3iAyvmDG"
      },
      "execution_count": null,
      "outputs": [
        {
          "output_type": "stream",
          "name": "stdout",
          "text": [
            "Ingrese un primer número: 2\n",
            "Ingrese un segundo número: 4\n",
            "la multiplicación de estos numeros da: 8\n"
          ]
        }
      ]
    },
    {
      "cell_type": "code",
      "source": [
        "# Desafio #8\n",
        "Num1 = int(input(\"Ingrese un numerador número: \"))\n",
        "Num2 = int(input(\"Ingrese un denominador número: \"))\n",
        "print(f\"la division de estos numeros da: {Num1/Num2}\")"
      ],
      "metadata": {
        "colab": {
          "base_uri": "https://localhost:8080/"
        },
        "outputId": "1b3e86e5-091a-4c36-ec40-b8523a7fbfa5",
        "id": "JL0eyHnQv_cZ"
      },
      "execution_count": null,
      "outputs": [
        {
          "output_type": "stream",
          "name": "stdout",
          "text": [
            "Ingrese un numerador número: 4\n",
            "Ingrese un denominador número: 2\n",
            "la division de estos numeros da: 2.0\n"
          ]
        }
      ]
    },
    {
      "cell_type": "code",
      "source": [
        "# Desafio #9\n",
        "Num1 = int(input(\"Ingrese un operador número: \"))\n",
        "Num2 = int(input(\"Ingrese un potencia número: \"))\n",
        "print(f\"el resultado de la operación da: {Num1**Num2}\")"
      ],
      "metadata": {
        "colab": {
          "base_uri": "https://localhost:8080/"
        },
        "outputId": "bfab1c15-16fa-4f86-a61d-76d2ab935e22",
        "id": "VqupPEA-wRv8"
      },
      "execution_count": null,
      "outputs": [
        {
          "output_type": "stream",
          "name": "stdout",
          "text": [
            "Ingrese un operador número: 2\n",
            "Ingrese un potencia número: 3\n",
            "el resultado de la operación da: 8\n"
          ]
        }
      ]
    },
    {
      "cell_type": "code",
      "source": [
        "# Desafio #10\n",
        "Num1 = int(input(\"Ingrese un numerador número: \"))\n",
        "Num2 = int(input(\"Ingrese un denominador número: \"))\n",
        "print(f\"el resultado de la operación da: {Num1//Num2}\")"
      ],
      "metadata": {
        "colab": {
          "base_uri": "https://localhost:8080/"
        },
        "outputId": "6c873828-7671-4a70-b854-686bd52b8bff",
        "id": "WrwqGVwhwl9X"
      },
      "execution_count": null,
      "outputs": [
        {
          "output_type": "stream",
          "name": "stdout",
          "text": [
            "Ingrese un numerador número: 5\n",
            "Ingrese un denominador número: 2\n",
            "el resultado de la operación da: 2\n"
          ]
        }
      ]
    },
    {
      "cell_type": "code",
      "source": [
        "# Desafio #11\n",
        "Num1 = int(input(\"Ingrese un numerador número: \"))\n",
        "Num2 = int(input(\"Ingrese un denominador número: \"))\n",
        "print(f\"el resultado de la operación da: {Num1%Num2}\")"
      ],
      "metadata": {
        "colab": {
          "base_uri": "https://localhost:8080/"
        },
        "outputId": "52d90fb3-0762-456f-ffec-26ff82fb7660",
        "id": "hL6_I_aGxSkp"
      },
      "execution_count": null,
      "outputs": [
        {
          "output_type": "stream",
          "name": "stdout",
          "text": [
            "Ingrese un numerador número: 5\n",
            "Ingrese un denominador número: 2\n",
            "el resultado de la operación da: 1\n"
          ]
        }
      ]
    },
    {
      "cell_type": "code",
      "source": [
        "# Desafio #12\n",
        "Nota1 = float(input(\"Ingrese la primera nota: \"))\n",
        "Nota2 = float(input(\"Ingrese la segunda nota: \"))\n",
        "Nota3 = float(input(\"Ingrese la tercera nota: \"))\n",
        "Cantidad_notas = 3\n",
        "print(f\"el resultado de la operación da: {(Nota1+Nota2+Nota3)/3}\")\n",
        "# sistema de notas en Panamá"
      ],
      "metadata": {
        "colab": {
          "base_uri": "https://localhost:8080/"
        },
        "outputId": "0cb034ee-66f7-4821-ee61-159ca321a092",
        "id": "Wc9wEl4kx445"
      },
      "execution_count": null,
      "outputs": [
        {
          "output_type": "stream",
          "name": "stdout",
          "text": [
            "Ingrese la primera nota: 3.4\n",
            "Ingrese la segunda nota: 3.2\n",
            "Ingrese la tercera nota: 3.0\n",
            "el resultado de la operación da: 3.1999999999999997\n"
          ]
        }
      ]
    },
    {
      "cell_type": "code",
      "source": [
        "# Desafio #13\n",
        "Nota1 = 5\n",
        "Nota2 = 12\n",
        "Nota3 = 20\n",
        "Nota4 = 15\n",
        "\n",
        "Valor1 = 1\n",
        "Valor2 = 2\n",
        "Valor3 = 3\n",
        "Valor4 = 4\n",
        "Cantidad_notas = 3\n",
        "print(f\"el resultado de la operación da: {((Nota1*Valor1)+(Nota2*Valor2)+(Nota3*Valor3)+(Nota4*Valor4))/(Valor1+Valor2+Valor3+Valor4)}\")"
      ],
      "metadata": {
        "colab": {
          "base_uri": "https://localhost:8080/"
        },
        "outputId": "838082c6-fd30-4021-d77c-74049fe274c7",
        "id": "T8g0OibAz673"
      },
      "execution_count": null,
      "outputs": [
        {
          "output_type": "stream",
          "name": "stdout",
          "text": [
            "el resultado de la operación da: 14.9\n"
          ]
        }
      ]
    },
    {
      "cell_type": "code",
      "source": [
        "# Desafio #14\n",
        "Frase = \"Hola soy un programador\"\n",
        "Frase"
      ],
      "metadata": {
        "colab": {
          "base_uri": "https://localhost:8080/",
          "height": 38
        },
        "outputId": "ee418882-f897-4768-88f0-c81b59a1bddd",
        "id": "jhKer4mm3foa"
      },
      "execution_count": null,
      "outputs": [
        {
          "output_type": "execute_result",
          "data": {
            "text/plain": [
              "'Hola soy un programador'"
            ],
            "application/vnd.google.colaboratory.intrinsic+json": {
              "type": "string"
            }
          },
          "metadata": {},
          "execution_count": 17
        }
      ]
    },
    {
      "cell_type": "code",
      "source": [
        "# Desafio #15\n",
        "Frase = input(\"Ingrese una frase: \")\n",
        "Frase"
      ],
      "metadata": {
        "colab": {
          "base_uri": "https://localhost:8080/",
          "height": 55
        },
        "outputId": "64bf69c5-f06b-439b-a889-626add18413a",
        "id": "b9PghCoR3ytO"
      },
      "execution_count": null,
      "outputs": [
        {
          "name": "stdout",
          "output_type": "stream",
          "text": [
            "Ingrese una frase: ya pasé el curso\n"
          ]
        },
        {
          "output_type": "execute_result",
          "data": {
            "text/plain": [
              "'ya pasé el curso'"
            ],
            "application/vnd.google.colaboratory.intrinsic+json": {
              "type": "string"
            }
          },
          "metadata": {},
          "execution_count": 18
        }
      ]
    },
    {
      "cell_type": "code",
      "source": [
        "# Desafio #16\n",
        "Frase = input(\"Ingrese una frase: \")\n",
        "Frase.upper()"
      ],
      "metadata": {
        "colab": {
          "base_uri": "https://localhost:8080/",
          "height": 55
        },
        "outputId": "95b823ed-5638-4b44-8441-610fa90d4c62",
        "id": "0t-MKdnp4Hh8"
      },
      "execution_count": null,
      "outputs": [
        {
          "name": "stdout",
          "output_type": "stream",
          "text": [
            "Ingrese una frase: HOla soy un programador\n"
          ]
        },
        {
          "output_type": "execute_result",
          "data": {
            "text/plain": [
              "'HOLA SOY UN PROGRAMADOR'"
            ],
            "application/vnd.google.colaboratory.intrinsic+json": {
              "type": "string"
            }
          },
          "metadata": {},
          "execution_count": 22
        }
      ]
    },
    {
      "cell_type": "code",
      "source": [
        "# Desafio #17\n",
        "Frase = input(\"Ingrese una frase: \")\n",
        "Frase.lower()"
      ],
      "metadata": {
        "colab": {
          "base_uri": "https://localhost:8080/",
          "height": 55
        },
        "outputId": "9c0116e6-4e9c-437d-87b5-bcba65fec740",
        "id": "0wNRiMx24rw8"
      },
      "execution_count": null,
      "outputs": [
        {
          "name": "stdout",
          "output_type": "stream",
          "text": [
            "Ingrese una frase: Hola soy un programador\n"
          ]
        },
        {
          "output_type": "execute_result",
          "data": {
            "text/plain": [
              "'hola soy un programador'"
            ],
            "application/vnd.google.colaboratory.intrinsic+json": {
              "type": "string"
            }
          },
          "metadata": {},
          "execution_count": 23
        }
      ]
    },
    {
      "cell_type": "code",
      "source": [
        "# Desafio #18\n",
        "Frase = \" Hola soy un programador \"\n",
        "Frase.strip()"
      ],
      "metadata": {
        "colab": {
          "base_uri": "https://localhost:8080/",
          "height": 38
        },
        "outputId": "0e882271-874b-42d6-a95b-d54640ea1cbc",
        "id": "jV83CVfY40ic"
      },
      "execution_count": null,
      "outputs": [
        {
          "output_type": "execute_result",
          "data": {
            "text/plain": [
              "'Hola soy un programador'"
            ],
            "application/vnd.google.colaboratory.intrinsic+json": {
              "type": "string"
            }
          },
          "metadata": {},
          "execution_count": 25
        }
      ]
    },
    {
      "cell_type": "code",
      "source": [
        "# Desafio #19\n",
        "Frase = input(\"Ingrese una frase: \")\n",
        "Frase.strip()"
      ],
      "metadata": {
        "colab": {
          "base_uri": "https://localhost:8080/",
          "height": 55
        },
        "outputId": "4bc86812-4a20-4991-eff6-a6d1bc5a7563",
        "id": "vB_D_W5x5XMa"
      },
      "execution_count": null,
      "outputs": [
        {
          "name": "stdout",
          "output_type": "stream",
          "text": [
            "Ingrese una frase:  Hola Soy Angel \n"
          ]
        },
        {
          "output_type": "execute_result",
          "data": {
            "text/plain": [
              "'Hola Soy Angel'"
            ],
            "application/vnd.google.colaboratory.intrinsic+json": {
              "type": "string"
            }
          },
          "metadata": {},
          "execution_count": 26
        }
      ]
    },
    {
      "cell_type": "code",
      "source": [
        "# Desafio #20\n",
        "Frase = input(\"Ingrese una frase: \")\n",
        "Frase.strip().lower()"
      ],
      "metadata": {
        "colab": {
          "base_uri": "https://localhost:8080/",
          "height": 55
        },
        "outputId": "ae957749-9f21-42f0-c648-88f90abe8724",
        "id": "sFW33byG5jdQ"
      },
      "execution_count": null,
      "outputs": [
        {
          "name": "stdout",
          "output_type": "stream",
          "text": [
            "Ingrese una frase:  HOLA SOY ANGEL \n"
          ]
        },
        {
          "output_type": "execute_result",
          "data": {
            "text/plain": [
              "'hola soy angel'"
            ],
            "application/vnd.google.colaboratory.intrinsic+json": {
              "type": "string"
            }
          },
          "metadata": {},
          "execution_count": 27
        }
      ]
    },
    {
      "cell_type": "code",
      "source": [
        "# Desafio #21\n",
        "Frase = input(\"Ingrese una frase: \")\n",
        "Frase.replace(\"e\", \"f\")"
      ],
      "metadata": {
        "colab": {
          "base_uri": "https://localhost:8080/",
          "height": 55
        },
        "outputId": "90d9bfaa-6d61-4432-ed5b-45c9c615d48b",
        "id": "60V9vBoa5wI4"
      },
      "execution_count": null,
      "outputs": [
        {
          "name": "stdout",
          "output_type": "stream",
          "text": [
            "Ingrese una frase: creando un elemento\n"
          ]
        },
        {
          "output_type": "execute_result",
          "data": {
            "text/plain": [
              "'crfando un flfmfnto'"
            ],
            "application/vnd.google.colaboratory.intrinsic+json": {
              "type": "string"
            }
          },
          "metadata": {},
          "execution_count": 28
        }
      ]
    },
    {
      "cell_type": "code",
      "source": [
        "# Desafio #22\n",
        "Frase = input(\"Ingrese una frase: \")\n",
        "Frase.replace(\"a\", \"@\")"
      ],
      "metadata": {
        "colab": {
          "base_uri": "https://localhost:8080/",
          "height": 55
        },
        "outputId": "7ce9e1da-34ed-4c44-c31c-efde4c70a6ff",
        "id": "XdwfsnyD6Oyd"
      },
      "execution_count": null,
      "outputs": [
        {
          "name": "stdout",
          "output_type": "stream",
          "text": [
            "Ingrese una frase: angel salazar\n"
          ]
        },
        {
          "output_type": "execute_result",
          "data": {
            "text/plain": [
              "'@ngel s@l@z@r'"
            ],
            "application/vnd.google.colaboratory.intrinsic+json": {
              "type": "string"
            }
          },
          "metadata": {},
          "execution_count": 31
        }
      ]
    },
    {
      "cell_type": "code",
      "source": [
        "# Desafio #23\n",
        "Frase = input(\"Ingrese una frase: \")\n",
        "Frase.replace(\"s\", \"$\")"
      ],
      "metadata": {
        "colab": {
          "base_uri": "https://localhost:8080/",
          "height": 55
        },
        "outputId": "b3ee0882-1b7d-45fc-a780-f24ab08d1944",
        "id": "mO026vXk6tkG"
      },
      "execution_count": null,
      "outputs": [
        {
          "name": "stdout",
          "output_type": "stream",
          "text": [
            "Ingrese una frase: sacar los trapos sucios\n"
          ]
        },
        {
          "output_type": "execute_result",
          "data": {
            "text/plain": [
              "'$acar lo$ trapo$ $ucio$'"
            ],
            "application/vnd.google.colaboratory.intrinsic+json": {
              "type": "string"
            }
          },
          "metadata": {},
          "execution_count": 32
        }
      ]
    },
    {
      "cell_type": "markdown",
      "source": [
        "## Modulo 3 - Python para data science\n"
      ],
      "metadata": {
        "id": "hekaEyFd69wL"
      }
    },
    {
      "cell_type": "markdown",
      "source": [
        "### Estructuras condicionales\n",
        "\n",
        "**If** y **Else** son condicionales\n",
        "\n",
        "funcionana comparando y evaluando parametros como las variables por ejemplo el siguiente problema:"
      ],
      "metadata": {
        "id": "z0k9b8Vm8LXW"
      }
    },
    {
      "cell_type": "code",
      "source": [
        "#nota de aprobación entre 71 y 100 nota de aprobación mayor o igual a 71 (Nota >= 71)\n",
        "#nota de repobación menor a 71 (Nota<71)\n",
        "\n",
        "#Si la nota es mayor o igual a 71 el estudiante aprueba de lo contrario reprueba\n",
        "Nota_estudiante = 71\n",
        "\n",
        "if Nota_estudiante >= 71: #si nota es mayor o igual a 71 imprime if \"Aprobado\"\n",
        "    print(\"Aprobado\")\n",
        "else:\n",
        "    print(\"Reprobado\") #de lo contrario imprime else \"Reprobado\""
      ],
      "metadata": {
        "colab": {
          "base_uri": "https://localhost:8080/"
        },
        "id": "F67yb2mp8hRD",
        "outputId": "cc8fbdbb-6c3e-4a55-807b-58669f8d48a2"
      },
      "execution_count": null,
      "outputs": [
        {
          "output_type": "stream",
          "name": "stdout",
          "text": [
            "Aprobado\n"
          ]
        }
      ]
    },
    {
      "cell_type": "markdown",
      "source": [
        "Explicación\n",
        "el problema nos plantea que para aprobar la nota debe ser mayor o igual a 71 y que de no ser asi (si es menor a 71) será reprobado.\n",
        "\n",
        "este bucle inicia en el if cuando este evalua si la condicion que pusimos se cumple o no (si es Verdadero (True) o falso (False)): que la nota sea mayor o igual a 71 que se expresa como **Variable >= 71** (\">=\" es un operador condicional).\n",
        "\n",
        "si no se cumple esta condición, ejecutará el else (es decir si la nota es menor a 71 (el operador condicional si fuese evaluado en el if seria \"<\"))\n",
        "\n",
        "\n",
        "---\n",
        "\n",
        "\n",
        "Ahora veamos un ejemplo con un condicional llamado elif:"
      ],
      "metadata": {
        "id": "ML5R5ssKEsYw"
      }
    },
    {
      "cell_type": "code",
      "source": [
        "#nota de aprobación entre 71 y 100 nota de aprobación mayor o igual a 71 (Nota >= 71)\n",
        "#nota de recuperación si la nota es 51\n",
        "#nota de repobación menor o igual a 50\n",
        "\n",
        "#Si la nota es mayor o igual a 71 el estudiante aprueba de lo contrario reprueba\n",
        "Nota_estudiante = 50\n",
        "\n",
        "if Nota_estudiante >= 71: #si nota es mayor o igual a 71 imprime if \"Aprobado\"\n",
        "    print(\"Aprobado\")\n",
        "elif 71 > Nota_estudiante >= 51:\n",
        "    print(\"recuperación\")\n",
        "else:\n",
        "    print(\"Reprobado\") #de lo contrario imprime else \"Reprobado\""
      ],
      "metadata": {
        "colab": {
          "base_uri": "https://localhost:8080/"
        },
        "outputId": "3bcbb98b-45cf-4af9-dc57-980708e0aacf",
        "id": "rXZ2EI29HVtE"
      },
      "execution_count": null,
      "outputs": [
        {
          "output_type": "stream",
          "name": "stdout",
          "text": [
            "Reprobado\n"
          ]
        }
      ]
    },
    {
      "cell_type": "markdown",
      "source": [
        "Explicación:\n",
        "\n",
        "Elif es el equivalente a \"si no se cumple esta intenta esta\" espresada generalmente \"si no, si\" quiere decir que si no se cumple la condicion para cumplirse del if pasará a evaluar la condicion del del elif si esta se cumple ejecutará el bloque dentro del elif si no ejecutará el else. hayq ue recordar que se pueden colocar varios elif para evaluar varias condiciones de un problem."
      ],
      "metadata": {
        "id": "5z7jTbq-J3et"
      }
    },
    {
      "cell_type": "markdown",
      "source": [
        "###Operadores Lógicos\n",
        "Los operadores lógicos como And ,Or y Not son operadores que ayudan a crear condiocionales más complejas utilizadas usualmente en condicionales if.\n",
        "\n",
        "ejemplo de como funciona un And:\n",
        "\n",
        "Si la condicion **X** se cumple And la condición **Y** también se vamos a la playa de manera más explicita seria: si tenemos un carro and(y) gasolina vamos a la playa\n",
        "\n",
        "como puedes ver se tienen que cumplir ambas condiciones para porder que todo funcione y de faltar una ya no se podria.\n",
        "\n",
        "\n",
        "---\n",
        "\n",
        "\n",
        "ejemplo de como funciona un OR:\n",
        "\n",
        "Si la condicion **X** se cumple Or la condición **Y** no vamos a la playa o viceversa, de manera más explicita seria: si tenemos carro Or(o) sodas vamos a la playa\n",
        "\n",
        "Aunque pareza similar a el And no lo es ya que el Or indica que una de las 2 condiciones se debe cumplir para ejecutar, pero no ambas, es decir si hay sodas pero no carro podemos ir a la playa, de igual manera si hay carro pero no sodas, sin embargo si no tenemos ninguna no podemos ir.\n",
        "\n",
        "\n",
        "---\n",
        "\n",
        "\n",
        "ejemplo de como funciona un Not:\n",
        "\n",
        "si Not(no) estas en **lista de personas vetadas** de la fiesta puedes entrar, de manera más explicita si no estas en la listad e personas vetadas de la fiesta puedes entrar de lo contrario no puedes.\n",
        "\n",
        "este operador funciona negando. es decir si tenemos una variable con el nombre pedro y usamos la condicional if con un not para evitar que pedro entre a la fiesta. se evaluaria si pedro esta en la lista y si está no entrará.\n"
      ],
      "metadata": {
        "id": "_SvtymALLIlk"
      }
    },
    {
      "cell_type": "code",
      "source": [
        "vetados = \"juan\", \"pedro\" ,\"rou\"\n",
        "\n",
        "if not \"pepito\" in vetados :\n",
        "  print (\"pueden entrar\")\n",
        "else:\n",
        "  print(\"no puedes entrar\")"
      ],
      "metadata": {
        "colab": {
          "base_uri": "https://localhost:8080/"
        },
        "id": "Zn9ABI3JRvDR",
        "outputId": "479a4374-c0e9-47b5-9429-57eb5147f57e"
      },
      "execution_count": null,
      "outputs": [
        {
          "output_type": "stream",
          "name": "stdout",
          "text": [
            "pueden entrar\n"
          ]
        }
      ]
    },
    {
      "cell_type": "markdown",
      "source": [
        "###IN\n",
        "el in es usado para verificar si un elemento se encuentra en una tupla, lista y otra conexión de conjuntos de datos. evalua como true si el elemento que buscamos está en uno de estos conjuntos o false si no como podemos ver en el ejemplo de arriba"
      ],
      "metadata": {
        "id": "NQURDag7SzTc"
      }
    },
    {
      "cell_type": "markdown",
      "source": [
        "###Desafio Modulo 3 - Sección 12"
      ],
      "metadata": {
        "id": "loMoy1T5UBA7"
      }
    },
    {
      "cell_type": "code",
      "source": [
        "#Desafio #1\n",
        "Num1 = float(input(\"Ingrese un numero: \"))\n",
        "Num2 = float(input(\"Ingrese un numero: \"))\n",
        "if Num1 > Num2:\n",
        "  print(Num1)\n",
        "else:\n",
        "  print(Num2)"
      ],
      "metadata": {
        "colab": {
          "base_uri": "https://localhost:8080/"
        },
        "id": "h1mQHL4mUTJx",
        "outputId": "e4a557f7-92a7-46b5-a849-ecc2c4e84cea"
      },
      "execution_count": null,
      "outputs": [
        {
          "output_type": "stream",
          "name": "stdout",
          "text": [
            "Ingrese un numero: 2\n",
            "Ingrese un numero: 1\n",
            "2.0\n"
          ]
        }
      ]
    },
    {
      "cell_type": "code",
      "source": [
        "#Desafio #2\n",
        "Production_Perce = float(input(\"Ingrese el porcentaje de crecimiento de la empresa: \"))\n",
        "if Production_Perce < 0:\n",
        "  print(f\"La producción de la empresa decreció un {Production_Perce}%\")\n",
        "elif Production_Perce > 0:\n",
        "  print(f\"La producción de la empresa creció un {Production_Perce}%\")\n",
        "else:\n",
        "  print(\"La empresa se mantuvo sin cambios en la producción.\")"
      ],
      "metadata": {
        "id": "x4USG4aKzMrl",
        "colab": {
          "base_uri": "https://localhost:8080/"
        },
        "outputId": "b1d8cd5d-2aa1-440a-85a5-6dfc0b9f4014"
      },
      "execution_count": null,
      "outputs": [
        {
          "output_type": "stream",
          "name": "stdout",
          "text": [
            "Ingrese el porcentaje de crecimiento de la empresa: -21\n",
            "La producción de la empresa decreció un -21.0%\n"
          ]
        }
      ]
    },
    {
      "cell_type": "code",
      "source": [
        "#Desafio #3\n",
        "Letra = str(input(\"Ingrese una vocal o constante: \"))\n",
        "if Letra.lower() in [\"a\", \"e\", \"i\", \"o\", \"u\"]:\n",
        "  print(\"Es una vocal\")\n",
        "elif Letra.lower() in [\"b\", \"c\", \"d\", \"f\", \"g\", \"h\", \"j\", \"k\", \"l\", \"m\", \"n\", \"ñ\", \"p\", \"q\", \"r\", \"s\", \"t\", \"v\", \"w\", \"x\", \"y\", \"z\"]:\n",
        "  print(\"Es una consonantes\")\n",
        "else:\n",
        "  print(\"No es una vocal o consonantes, solo se permite una vocal o una consonante\")"
      ],
      "metadata": {
        "colab": {
          "base_uri": "https://localhost:8080/"
        },
        "id": "2Syew82UNrb9",
        "outputId": "eacb17b4-30f9-4c5f-a10a-856109e32bcb"
      },
      "execution_count": null,
      "outputs": [
        {
          "output_type": "stream",
          "name": "stdout",
          "text": [
            "Ingrese una vocal o constante: kb\n",
            "No es una vocal o sonsonantes, solo se permite una vocal o una consonante\n"
          ]
        }
      ]
    },
    {
      "cell_type": "code",
      "source": [
        "#Desafio #3\n",
        "Letra = str(input(\"Ingrese una vocal o constante: \")).lower()\n",
        "if len(Letra) == 1 and Letra.isalpha():\n",
        "  if Letra in [\"a\", \"e\", \"i\", \"o\", \"u\"]:\n",
        "    print(\"Es una vocal\")\n",
        "  else:\n",
        "    print(\"Es una consonante\")\n",
        "else:\n",
        "  print(\"valores ingresados invalidos, solo se premite una vocal o una consonante\")"
      ],
      "metadata": {
        "colab": {
          "base_uri": "https://localhost:8080/"
        },
        "id": "Q9SeLiagbLiK",
        "outputId": "77b6432f-86f6-43f0-c17b-030c382ef354"
      },
      "execution_count": null,
      "outputs": [
        {
          "output_type": "stream",
          "name": "stdout",
          "text": [
            "Ingrese una vocal o constante: 3456gtybh\n",
            "valores ingresados invalidos, solo se premite una vocal o una consonante\n"
          ]
        }
      ]
    },
    {
      "cell_type": "code",
      "source": [
        "#Desafio #4\n",
        "Precio1 = float(input(\"Ingrese el precio promedio del primer año: \"))\n",
        "Precio2 = float(input(\"Ingrese el precio promedio del segundo año: \"))\n",
        "Precio3 = float(input(\"Ingrese el precio promedio del tercer año: \"))\n",
        "\n",
        "Lista_Precios = [Precio1, Precio2, Precio3]\n",
        "\n",
        "Precio_Alto = max(Lista_Precios)\n",
        "Precio_Bajo = min(Lista_Precios)\n",
        "\n",
        "print(f\"El precio más bajo fué {Precio_Bajo} y el precio más alto fué {Precio_Alto}\")"
      ],
      "metadata": {
        "colab": {
          "base_uri": "https://localhost:8080/"
        },
        "id": "3b_7DEsu5jWh",
        "outputId": "c15891e0-9604-447e-ee93-99093c3d5d87"
      },
      "execution_count": null,
      "outputs": [
        {
          "output_type": "stream",
          "name": "stdout",
          "text": [
            "Ingrese el precio promedio del primer año: 500\n",
            "Ingrese el precio promedio del segundo año: 324\n",
            "Ingrese el precio promedio del tercer año: 112\n",
            "El precio más bajo fué 112.0 y el precio más alto fué 500.0\n"
          ]
        }
      ]
    },
    {
      "cell_type": "code",
      "source": [
        "#Desafio #5\n",
        "Producto1 = float(input(\"Ingrese el precio del primer producto: \"))\n",
        "Producto2 = float(input(\"Ingrese el precio del segundo producto: \"))\n",
        "Producto3 = float(input(\"Ingrese el precio del tercer producto: \"))\n",
        "\n",
        "if Producto2 > Producto1 < Producto3:\n",
        "  print(\"El primer producto es el más barato\")\n",
        "elif Producto1 > Producto2 < Producto3:\n",
        "  print(\"El Segundo producto es el más barato\")\n",
        "elif Producto1 > Producto3 < Producto2:\n",
        "  print(\"El tercer producto es el más barato\")\n",
        "else:\n",
        "  print(\"Hay productos que tiene el mismo precio\")"
      ],
      "metadata": {
        "colab": {
          "base_uri": "https://localhost:8080/"
        },
        "id": "MlLQmWKz7h09",
        "outputId": "2767d6b3-ddd6-4990-d4b9-4850b999ad8b"
      },
      "execution_count": null,
      "outputs": [
        {
          "output_type": "stream",
          "name": "stdout",
          "text": [
            "Ingrese el precio del primer producto: 1\n",
            "Ingrese el precio del segundo producto: 2\n",
            "Ingrese el precio del tercer producto: 1\n",
            "Hay productos que tiene el mismo precio\n"
          ]
        }
      ]
    },
    {
      "cell_type": "code",
      "source": [
        "#Desafio #6\n",
        "Num1 = float(input(\"Ingrese un numero: \"))\n",
        "Num2 = float(input(\"Ingrese un numero: \"))\n",
        "Num3 = float(input(\"Ingrese un numero: \"))\n",
        "\n",
        "Numeros_lista = [Num1, Num2, Num3]\n",
        "Numeros_ordenados = sorted(Numeros_lista, reverse=True)\n",
        "for a in Numeros_ordenados:\n",
        "  print(a)\n",
        "\n"
      ],
      "metadata": {
        "colab": {
          "base_uri": "https://localhost:8080/"
        },
        "id": "gjK1hj3j7hzI",
        "outputId": "7a27b058-5047-4dc4-f6c0-b6d5e37426b2"
      },
      "execution_count": null,
      "outputs": [
        {
          "output_type": "stream",
          "name": "stdout",
          "text": [
            "Ingrese un numero: 4\n",
            "Ingrese un numero: 3\n",
            "Ingrese un numero: 5\n",
            "5.0\n",
            "4.0\n",
            "3.0\n"
          ]
        }
      ]
    },
    {
      "cell_type": "code",
      "source": [
        "#Desafio #7\n",
        "print(\"Turnos: Mañana, Tarde o Noche\")\n",
        "turno = str(input(\"Ingrese el turno en el que estudia: \")).upper()\n",
        "\n",
        "if turno == \"MAÑANA\":\n",
        "  print(\"¡Buenos días!\")\n",
        "elif turno == \"TARDE\":\n",
        "  print(\"¡Buenas tardes!\")\n",
        "elif turno == \"NOCHE\":\n",
        "  print(\"¡Buenas Noches!\")\n",
        "else:\n",
        "  print(\"Valor invalido\")"
      ],
      "metadata": {
        "colab": {
          "base_uri": "https://localhost:8080/"
        },
        "id": "oso5k7Mi-znP",
        "outputId": "59044998-3e77-4f4f-a2b4-80e7e0b4e68f"
      },
      "execution_count": null,
      "outputs": [
        {
          "output_type": "stream",
          "name": "stdout",
          "text": [
            "Turnos: Mañana, Tarde o Noche\n",
            "Ingrese el turno en el que estudia: mañana\n",
            "¡Buenos días!\n"
          ]
        }
      ]
    },
    {
      "cell_type": "code",
      "source": [
        "#Desafio #8\n",
        "Num1 = int(input(\"Ingrese un numero entero: \"))\n",
        "if Num1 %2 == 0:\n",
        "  print(\"El numero es par\")\n",
        "else:\n",
        "  print(\"El numero es impar\")\n"
      ],
      "metadata": {
        "colab": {
          "base_uri": "https://localhost:8080/"
        },
        "id": "IDQE-bjeCMKX",
        "outputId": "9439f843-de2c-4f88-b2c7-9841c76f4c07"
      },
      "execution_count": null,
      "outputs": [
        {
          "output_type": "stream",
          "name": "stdout",
          "text": [
            "Ingrese un numero entero: 15\n",
            "El numero es impar\n"
          ]
        }
      ]
    },
    {
      "cell_type": "code",
      "source": [
        "#Desafio #9\n",
        "Num1 = float(input(\"Ingrese un numero: \"))\n",
        "if Num1 %1 == 0:\n",
        "  print(\"El numero es entero\")\n",
        "else:\n",
        "  print(\"El numero es decimal\")\n"
      ],
      "metadata": {
        "colab": {
          "base_uri": "https://localhost:8080/"
        },
        "id": "piRjq7U_DcYC",
        "outputId": "763ec340-b819-4f62-fc3f-fcdaa7343255"
      },
      "execution_count": null,
      "outputs": [
        {
          "output_type": "stream",
          "name": "stdout",
          "text": [
            "Ingrese un numero: 3\n",
            "El numero es entero\n"
          ]
        }
      ]
    },
    {
      "cell_type": "code",
      "source": [
        "#Desafio #10\n",
        "Num1 = float(input(\"Ingrese un numero: \"))\n",
        "Num2 = float(input(\"Ingrese un numero: \"))\n",
        "print(\"Indique que operación desea realizar con el numero correspondiente.\\n 1. Suma\\n 2. Resta\\n 3. Multiplicación\\n 4. División\")\n",
        "resultado = 0\n",
        "\n",
        "operacion = int(input(\"ingrese la operación que desea realizar: \"))\n",
        "if operacion == 1:\n",
        "  resultado = Num1+Num2\n",
        "  print(f\"El resultado de la suma es: {resultado}\")\n",
        "elif operacion == 2:\n",
        "  resultado = Num1-Num2\n",
        "  print(f\"El resultado de la resta es: {resultado}\")\n",
        "elif operacion == 3:\n",
        "  resultado = Num1*Num2\n",
        "  print(f\"El resultado de la multiplicación es: {resultado}\")\n",
        "elif operacion == 4:\n",
        "  if Num2==0:\n",
        "    print(\"No se puede dividir entre 0\")\n",
        "    quit()\n",
        "  else:\n",
        "    resultado = Num1/Num2\n",
        "    print(f\"El resultado de la division es: {resultado}\")\n",
        "else:\n",
        "  print(\"Elección invalida\")\n",
        "\n",
        "\n",
        "if resultado %2 == 0:\n",
        "  print(\"Es par\")\n",
        "else:\n",
        "  print(\"Es impar\")\n",
        "\n",
        "if resultado > 0:\n",
        "  print(\"Es positivo\")\n",
        "else:\n",
        "  print(\"Es Negativo\")\n",
        "\n",
        "if resultado %1 == 0:\n",
        "  print(\"El numero es entero\")\n",
        "else:\n",
        "  print(\"El nuemro es decimal\")"
      ],
      "metadata": {
        "colab": {
          "base_uri": "https://localhost:8080/"
        },
        "id": "m56Fuj0J2gg-",
        "outputId": "3a564f51-c8c3-441d-f70c-3b74733ba7d1"
      },
      "execution_count": null,
      "outputs": [
        {
          "output_type": "stream",
          "name": "stdout",
          "text": [
            "Ingrese un numero: 2\n",
            "Ingrese un numero: 0\n",
            "Indique que operación desea realizar con el numero correspondiente.\n",
            " 1. Suma\n",
            " 2. Resta\n",
            " 3. Multiplicación\n",
            " 4. División\n",
            "ingrese la operación que desea realizar: 4\n",
            "No se puede dividir entre 0\n",
            "Es par\n",
            "Es Negativo\n",
            "El numero es entero\n"
          ]
        }
      ]
    },
    {
      "cell_type": "code",
      "source": [
        "#Desafio #11\n",
        "Num1 = float(input(\"Ingrese un numero: \"))\n",
        "Num2 = float(input(\"Ingrese un numero: \"))\n",
        "Num3 = float(input(\"Ingrese un numero: \"))\n",
        "\n",
        "if (Num1 + Num2)>Num3 or (Num1 + Num3)>Num2 or (Num2 + Num3)>Num1:\n",
        "  if Num1 == Num2 == Num3:\n",
        "    print(\"Es un tringulo equilatero\")\n",
        "  elif Num1 == Num2 or Num1 == Num3 or Num2 == Num3:\n",
        "    print(\"Es un triangulo Isóseles\")\n",
        "  else:\n",
        "    print(\"Es un triangulo Escaleno\")\n",
        "else:\n",
        "  print(\"valores ingresado invalidos\")"
      ],
      "metadata": {
        "colab": {
          "base_uri": "https://localhost:8080/"
        },
        "id": "hRE_IxdaCWmK",
        "outputId": "158cc4d1-c5d0-4573-ebed-3414837eef32"
      },
      "execution_count": null,
      "outputs": [
        {
          "output_type": "stream",
          "name": "stdout",
          "text": [
            "Ingrese un numero: 23\n",
            "Ingrese un numero: 34\n",
            "Ingrese un numero: 23\n",
            "Es un triangulo Isóseles\n"
          ]
        }
      ]
    },
    {
      "cell_type": "code",
      "source": [
        "#Desafio #12\n",
        "Litros_Comprados = int(input(\"Ingrese la cantidad de litros comprados: \"))\n",
        "Precio_Etanol = 2.00\n",
        "Precio_Diesel = 1.70\n",
        "\n",
        "print(\"Ingrese el numero del tipo de combustible: \\n1.Etanol\\n2.Diesel\")\n",
        "Tipo_Combustible = int(input(\"Tipo de Combustible: \"))\n",
        "\n",
        "if Tipo_Combustible == 1:\n",
        "  if Litros_Comprados > 15:\n",
        "    Compra = Litros_Comprados * Precio_Etanol\n",
        "    Descuento = ((4/100)*Precio_Etanol)*Litros_Comprados\n",
        "    Total_pagar = Compra - Descuento\n",
        "    print(f\"El precio a pagar del cliente con un descuento del 4% por litro es de {Total_pagar}\")\n",
        "  else:\n",
        "    Compra = Litros_Comprados * Precio_Etanol\n",
        "    Descuento = ((2/100)*Precio_Etanol)*Litros_Comprados\n",
        "    Total_pagar = Compra - Descuento\n",
        "    print(f\"El precio a pagar del cliente con un descuento del 2% por litro es de {Total_pagar}\")\n",
        "\n",
        "elif Tipo_Combustible ==2:\n",
        "  if Litros_Comprados > 15:\n",
        "    Compra = Litros_Comprados * Precio_Diesel\n",
        "    Descuento = ((5/100)*Precio_Diesel)*Litros_Comprados\n",
        "    Total_pagar = Compra - Descuento\n",
        "    print(f\"El precio a pagar del cliente con un descuento del 5% por litro es de {Total_pagar}\")\n",
        "  else:\n",
        "    Compra = Litros_Comprados * Precio_Diesel\n",
        "    Descuento = ((3/100)*Precio_Diesel)*Litros_Comprados\n",
        "    Total_pagar = Compra - Descuento\n",
        "    print(f\"El precio a pagar del cliente con un descuento del 3% por litro es de {Total_pagar}\")\n",
        "else:\n",
        "  print(\"Selección invalida\")"
      ],
      "metadata": {
        "colab": {
          "base_uri": "https://localhost:8080/"
        },
        "id": "NSFLSnmWKON8",
        "outputId": "a0d79866-ad05-4dce-ca3f-f39fbe17ed91"
      },
      "execution_count": null,
      "outputs": [
        {
          "output_type": "stream",
          "name": "stdout",
          "text": [
            "Ingrese la cantidad de litros comprados: 23\n",
            "Ingrese el numero del tipo de combustible: \n",
            "1.Etanol\n",
            "2.Diesel\n",
            "Tipo de Combustible: 1\n",
            "El precio a pagar del cliente con un descuento del 4% por litro es de 44.16\n"
          ]
        }
      ]
    },
    {
      "cell_type": "code",
      "source": [
        "#Desafio #13\n",
        "Ventas_2022 = int(input(\"Ingrese las propiedades vendidas en 2022:\"))\n",
        "Ventas_2023 = int(input(\"Ingrese las propiedades vendidas en 2023:\"))\n",
        "\n",
        "Variacion_Porcentual = round((((Ventas_2023 - Ventas_2022)/Ventas_2022)*100), 2)\n",
        "\n",
        "print(f\"la variación porcentual es del {Variacion_Porcentual}% entre el año 2022 y el año 2023\")\n",
        "\n",
        "if Variacion_Porcentual > 20:\n",
        "  print(\"bonificación para el equipo de ventas.\")\n",
        "elif 2 <= Variacion_Porcentual <= 20:\n",
        "  print(\"pequeña bonificación para el equipo de ventas.\")\n",
        "elif -10 <=Variacion_Porcentual <= 2:\n",
        "  print(\"planificación de políticas de incentivo a las ventas.\")\n",
        "else:\n",
        "  print(\"Recorte de gastos\")\n"
      ],
      "metadata": {
        "id": "RhCWJtxaTu-3",
        "colab": {
          "base_uri": "https://localhost:8080/"
        },
        "outputId": "e322cd92-489a-41b9-8e58-55e56b265585"
      },
      "execution_count": null,
      "outputs": [
        {
          "output_type": "stream",
          "name": "stdout",
          "text": [
            "Ingrese las propiedades vendidas en 2022:234\n",
            "Ingrese las propiedades vendidas en 2023:45\n",
            "la variación porcentual es del -80.77% entre el año 2022 y el año 2023\n",
            "Recorte de gastos\n"
          ]
        }
      ]
    },
    {
      "cell_type": "markdown",
      "source": [
        "##Modulo 4 - Python para data science\n"
      ],
      "metadata": {
        "id": "1cEDln6B4-iG"
      }
    },
    {
      "cell_type": "markdown",
      "source": [
        "###Estructuras de repetición\n",
        "las estructuras de repetición se utilizan para repetir una parte del codigo varias veces ya que se vuelve impractico hacerlo manualmente."
      ],
      "metadata": {
        "id": "KPbpHBUO6hbM"
      }
    },
    {
      "cell_type": "markdown",
      "source": [
        "###While\n",
        "El \"While\" en python nos permite repetir el codigo o un bloque de codigo siempre y cuando se cumpla una condición\n",
        "\n",
        "\n",
        "```\n",
        "While condicion:\n",
        "  #bloque de codigo\n",
        "```\n",
        "\n",
        "\n",
        "\n",
        "Ejemplos:"
      ],
      "metadata": {
        "id": "rOCutfA88Y1r"
      }
    },
    {
      "cell_type": "code",
      "source": [
        "#contador hasta 10\n",
        "Num = 0\n",
        "while Num <= 10:\n",
        "  print(Num)\n",
        "  Num +=1"
      ],
      "metadata": {
        "colab": {
          "base_uri": "https://localhost:8080/"
        },
        "id": "hYbSHr9s80l3",
        "outputId": "bc2b1ac7-ac14-42a4-c214-467a4f73725e"
      },
      "execution_count": null,
      "outputs": [
        {
          "output_type": "stream",
          "name": "stdout",
          "text": [
            "0\n",
            "1\n",
            "2\n",
            "3\n",
            "4\n",
            "5\n",
            "6\n",
            "7\n",
            "8\n",
            "9\n",
            "10\n"
          ]
        }
      ]
    },
    {
      "cell_type": "code",
      "source": [
        "Contador = 0\n",
        "Estudiante = 1\n",
        "while Contador < 3:\n",
        "  Nota1 = float(input(\"Ingrese la primera nota: \"))\n",
        "  Nota2 = float(input(\"Ingrese la segunda nota: \"))\n",
        "  print(f\"la nota del estudiante {Estudiante} es de: {round(((Nota1+Nota2)/2), 1)}\")\n",
        "  Estudiante += 1\n",
        "  Contador += 1"
      ],
      "metadata": {
        "colab": {
          "base_uri": "https://localhost:8080/"
        },
        "id": "icrLrvSc-4Rb",
        "outputId": "f2ec2a3b-30aa-4a6c-b756-5d4ec1d71e9f"
      },
      "execution_count": null,
      "outputs": [
        {
          "output_type": "stream",
          "name": "stdout",
          "text": [
            "Ingrese la primera nota: 3.4\n",
            "Ingrese la segunda nota: 2.3\n",
            "la nota del estudiante 1 es de: 2.8\n",
            "Ingrese la primera nota: 3.4\n",
            "Ingrese la segunda nota: 4.3\n",
            "la nota del estudiante 2 es de: 3.8\n",
            "Ingrese la primera nota: 3.2\n",
            "Ingrese la segunda nota: 3.5\n",
            "la nota del estudiante 3 es de: 3.4\n"
          ]
        }
      ]
    },
    {
      "cell_type": "markdown",
      "source": [
        "###For\n",
        "El \"For\" es un bloque que permite iterar los conjuntos de un elemento\n",
        "\n",
        "\n",
        "```\n",
        "for elemento in conjunto:\n",
        "  #bloque de codigo\n",
        "```\n",
        "el codigo o bloque de codigo se ejecuta para cada elemento en el conjunto\n",
        "\n",
        "\n",
        "Ejemplos:"
      ],
      "metadata": {
        "id": "z_qQ8PBoBt0b"
      }
    },
    {
      "cell_type": "code",
      "source": [
        "#para un contador hasta 10\n",
        "for i in range(1, 11):\n",
        "  print(i)"
      ],
      "metadata": {
        "colab": {
          "base_uri": "https://localhost:8080/"
        },
        "id": "ivVPcXISDZVn",
        "outputId": "6ab00ce0-20a8-4759-dd9f-40569aa612ef"
      },
      "execution_count": null,
      "outputs": [
        {
          "output_type": "stream",
          "name": "stdout",
          "text": [
            "1\n",
            "2\n",
            "3\n",
            "4\n",
            "5\n",
            "6\n",
            "7\n",
            "8\n",
            "9\n",
            "10\n"
          ]
        }
      ]
    },
    {
      "cell_type": "code",
      "source": [
        "for i in range(1, 4):\n",
        "  Nota1 = float(input(\"Ingrese la primera nota: \"))\n",
        "  Nota2 = float(input(\"Ingrese la segunda nota: \"))\n",
        "  print(f\"la nota del estudiante es de: {round(((Nota1+Nota2)/2), 1)}\")"
      ],
      "metadata": {
        "colab": {
          "base_uri": "https://localhost:8080/"
        },
        "id": "qn2LSP91D68d",
        "outputId": "159035f3-46fa-493e-ff06-7d156e05f283"
      },
      "execution_count": null,
      "outputs": [
        {
          "output_type": "stream",
          "name": "stdout",
          "text": [
            "Ingrese la primera nota: 3.4\n",
            "Ingrese la segunda nota: 4.3\n",
            "la nota del estudiante es de: 3.8\n",
            "Ingrese la primera nota: 4.5\n",
            "Ingrese la segunda nota: 4.3\n",
            "la nota del estudiante es de: 4.4\n",
            "Ingrese la primera nota: 2.3\n",
            "Ingrese la segunda nota: 5\n",
            "la nota del estudiante es de: 3.6\n"
          ]
        }
      ]
    },
    {
      "cell_type": "markdown",
      "source": [
        "Cuando se trabaja con bucles existen tambien estructuras de control como el \"continue\" y el \"break\"\n",
        "\n",
        "el \"continue\": nos permite saltar a la siguiente iteración interrumpiendo la actual\n",
        " el \"break\": nos permite salir de las iteraciones, es decir que interrumpe la estructura de bucle y sale totalmente de esta estructura.\n",
        "\n",
        " ejemplos por alura:"
      ],
      "metadata": {
        "id": "0ROZs96gFG85"
      }
    },
    {
      "cell_type": "code",
      "source": [
        "for i in range(1, 6):\n",
        "    if i == 4:\n",
        "        continue\n",
        "    print(i)"
      ],
      "metadata": {
        "colab": {
          "base_uri": "https://localhost:8080/"
        },
        "id": "5iZqq9PiF3br",
        "outputId": "fcec7608-2ca7-4334-a1c0-03493b0edaf8"
      },
      "execution_count": null,
      "outputs": [
        {
          "output_type": "stream",
          "name": "stdout",
          "text": [
            "1\n",
            "2\n",
            "3\n",
            "5\n"
          ]
        }
      ]
    },
    {
      "cell_type": "code",
      "source": [
        "for i in range(1, 6):\n",
        "    if i == 4:\n",
        "        break\n",
        "    print(i)"
      ],
      "metadata": {
        "colab": {
          "base_uri": "https://localhost:8080/"
        },
        "id": "CtK2mELxF8PZ",
        "outputId": "281340ac-6761-4fc4-80d8-c2f6a56e34d2"
      },
      "execution_count": null,
      "outputs": [
        {
          "output_type": "stream",
          "name": "stdout",
          "text": [
            "1\n",
            "2\n",
            "3\n"
          ]
        }
      ]
    },
    {
      "cell_type": "markdown",
      "source": [
        "### Desafio modulo 4 - Sección 9\n"
      ],
      "metadata": {
        "id": "n1d6UAArGWc3"
      }
    },
    {
      "cell_type": "code",
      "source": [
        "#Desafio #1\n",
        "Num1 = int(input(\"Ingrese un numero entero: \"))\n",
        "Num2 =  int(input(\"Ingrese un numero entero: \"))\n",
        "for i in range(Num1, Num2):\n",
        "  print(i)"
      ],
      "metadata": {
        "colab": {
          "base_uri": "https://localhost:8080/"
        },
        "id": "3z_nKL4-GZj2",
        "outputId": "44020eec-e22c-4d3a-ac9f-44966bd08e5f"
      },
      "execution_count": null,
      "outputs": [
        {
          "output_type": "stream",
          "name": "stdout",
          "text": [
            "Ingrese un numero entero: 1\n",
            "Ingrese un numero entero: 5\n",
            "1\n",
            "2\n",
            "3\n",
            "4\n"
          ]
        }
      ]
    },
    {
      "cell_type": "code",
      "source": [
        "#Desafio #2\n",
        "Colonia_A = 4\n",
        "Colonia_B = 10\n",
        "\n",
        "Tasa_A = 0.03\n",
        "Tasa_B = 0.015\n",
        "\n",
        "dias = 0\n",
        "\n",
        "while Colonia_A <= Colonia_B:\n",
        "  Colonia_A *= 1+Tasa_A\n",
        "  Colonia_B *= 1+Tasa_B\n",
        "  dias += 1\n",
        "print(f\"la colonia A pasará a la colonia B en {dias} días\")\n"
      ],
      "metadata": {
        "colab": {
          "base_uri": "https://localhost:8080/"
        },
        "id": "GIUnR6DlHNgc",
        "outputId": "6e6f39f4-182e-4620-bfe5-afee92d0a31a"
      },
      "execution_count": null,
      "outputs": [
        {
          "output_type": "stream",
          "name": "stdout",
          "text": [
            "la colonia A pasará a la colonia B en 63 días\n"
          ]
        }
      ]
    },
    {
      "cell_type": "code",
      "source": [
        "#Desafio #3\n",
        "Evaluaciones = 0\n",
        "while Evaluaciones < 15:\n",
        "  Calificaciones= int(input(\"ingrese la calificación entre 0 y 5: \"))\n",
        "  if Calificaciones >= 0 and Calificaciones <= 5:\n",
        "    Evaluaciones += 1\n",
        "    print(f\"Evaluación #{Evaluaciones}, calificación: {Calificaciones}\")\n",
        "  else:\n",
        "    print(\"Evaluación invalida\")"
      ],
      "metadata": {
        "colab": {
          "base_uri": "https://localhost:8080/"
        },
        "id": "sbU012dIT0_J",
        "outputId": "312b0ea5-9902-45d6-d9ec-b56fcec270c4"
      },
      "execution_count": null,
      "outputs": [
        {
          "output_type": "stream",
          "name": "stdout",
          "text": [
            "ingrese la calificación entre 0 y 5: -1\n",
            "Evaluación invalida\n",
            "ingrese la calificación entre 0 y 5: 6\n",
            "Evaluación invalida\n",
            "ingrese la calificación entre 0 y 5: 5\n",
            "Evaluación #1, calificación: 5\n",
            "ingrese la calificación entre 0 y 5: 0\n",
            "Evaluación #2, calificación: 0\n",
            "ingrese la calificación entre 0 y 5: 2\n",
            "Evaluación #3, calificación: 2\n",
            "ingrese la calificación entre 0 y 5: 2\n",
            "Evaluación #4, calificación: 2\n",
            "ingrese la calificación entre 0 y 5: 2\n",
            "Evaluación #5, calificación: 2\n",
            "ingrese la calificación entre 0 y 5: 2\n",
            "Evaluación #6, calificación: 2\n",
            "ingrese la calificación entre 0 y 5: 2\n",
            "Evaluación #7, calificación: 2\n",
            "ingrese la calificación entre 0 y 5: 2\n",
            "Evaluación #8, calificación: 2\n",
            "ingrese la calificación entre 0 y 5: 2\n",
            "Evaluación #9, calificación: 2\n",
            "ingrese la calificación entre 0 y 5: 2\n",
            "Evaluación #10, calificación: 2\n",
            "ingrese la calificación entre 0 y 5: 2\n",
            "Evaluación #11, calificación: 2\n",
            "ingrese la calificación entre 0 y 5: 2\n",
            "Evaluación #12, calificación: 2\n",
            "ingrese la calificación entre 0 y 5: 2\n",
            "Evaluación #13, calificación: 2\n",
            "ingrese la calificación entre 0 y 5: 2\n",
            "Evaluación #14, calificación: 2\n",
            "ingrese la calificación entre 0 y 5: 2\n",
            "Evaluación #15, calificación: 2\n"
          ]
        }
      ]
    },
    {
      "cell_type": "code",
      "source": [
        "#por alura\n",
        "# Bucle para recopilar las 15 notas\n",
        "for i in range(15):\n",
        "  nota = float(input(f'Ingresa la nota del usuario {i}: '))\n",
        "\n",
        "  # Verifica si la nota está entre 0 y 5\n",
        "  # Si no lo está, el bucle se repetirá hasta que se obtenga un valor válido\n",
        "  while (nota < 0) or (nota > 5):\n",
        "    nota = float(input(f'Nota no válida, ingresa nuevamente la nota del usuario {i}: '))\n",
        "\n",
        "print('Verificación completa. Todas las notas son válidas.')"
      ],
      "metadata": {
        "id": "71_boahNUp6o"
      },
      "execution_count": null,
      "outputs": []
    },
    {
      "cell_type": "code",
      "source": [
        "#Desafio #4\n",
        "temperatura = 0\n",
        "while temperatura != -273:\n",
        "  temperatura=int(input(\"Ingrese la temeratura: \"))"
      ],
      "metadata": {
        "colab": {
          "base_uri": "https://localhost:8080/"
        },
        "id": "MNQaehNqWS6c",
        "outputId": "c1635322-33c5-46a2-c226-ba901b22efea"
      },
      "execution_count": null,
      "outputs": [
        {
          "name": "stdout",
          "output_type": "stream",
          "text": [
            "Ingrese la temeratura: -342\n",
            "Ingrese la temeratura: -323\n",
            "Ingrese la temeratura: 242\n",
            "Ingrese la temeratura: 3\n",
            "Ingrese la temeratura: 0\n",
            "Ingrese la temeratura: -273\n"
          ]
        }
      ]
    },
    {
      "cell_type": "code",
      "source": [
        "#Desafio #5 - by Alura - logica comprendida\n",
        "\n",
        "num = int(input('Ingresa un número entero: '))\n",
        "\n",
        "factorial = 1\n",
        "\n",
        "i = num\n",
        "while i > 0:\n",
        "    factorial *= i\n",
        "    i -= 1\n",
        "\n",
        "print(f'El factorial de {num} es {factorial}')\n"
      ],
      "metadata": {
        "id": "3FGDtVjNNC7X",
        "colab": {
          "base_uri": "https://localhost:8080/"
        },
        "outputId": "f9983fdf-2ccd-4731-abcb-ee0ddb6607ca"
      },
      "execution_count": null,
      "outputs": [
        {
          "output_type": "stream",
          "name": "stdout",
          "text": [
            "Ingresa un número entero: 5\n",
            "El factorial de 5 es 120\n"
          ]
        }
      ]
    },
    {
      "cell_type": "code",
      "source": [
        "#Desafio #6\n",
        "Tabla_Multi = int(input(\"ingrese la tabla de multiplicación que desea: \"))\n",
        "print(f\"Tabla de multiplicación del {Tabla_Multi}: \")\n",
        "for i in range (1, 11):\n",
        "  print(f\"{Tabla_Multi} x {i} = {Tabla_Multi*i}\")"
      ],
      "metadata": {
        "colab": {
          "base_uri": "https://localhost:8080/"
        },
        "id": "tAMj5J5XfHeO",
        "outputId": "e6e13f6d-8244-46b0-9a76-16e3a29619a4"
      },
      "execution_count": null,
      "outputs": [
        {
          "output_type": "stream",
          "name": "stdout",
          "text": [
            "ingrese la tabla de multiplicación que desea: 2\n",
            "Tabla de multiplicación del 2: \n",
            "2 x 1 = 2\n",
            "2 x 2 = 4\n",
            "2 x 3 = 6\n",
            "2 x 4 = 8\n",
            "2 x 5 = 10\n",
            "2 x 6 = 12\n",
            "2 x 7 = 14\n",
            "2 x 8 = 16\n",
            "2 x 9 = 18\n",
            "2 x 10 = 20\n"
          ]
        }
      ]
    },
    {
      "cell_type": "code",
      "source": [
        "#Desafio #7 - by Alura - logica comprendida\n",
        "Num= int(input(\"Ingrese un numero entero: \"))\n",
        "if Num > 1:\n",
        "  for i in range(2, Num):\n",
        "    if Num % i ==0:\n",
        "      print(\"No es un numero primo\")\n",
        "      break\n",
        "  else:\n",
        "    print(\"Es un numero primo\")\n",
        "else:\n",
        "  print(\"No es un numero primo\")"
      ],
      "metadata": {
        "colab": {
          "base_uri": "https://localhost:8080/"
        },
        "id": "3mCoSJsFg4iU",
        "outputId": "a25b08ca-7e9d-427f-c27c-679f6ecd0fc7"
      },
      "execution_count": null,
      "outputs": [
        {
          "output_type": "stream",
          "name": "stdout",
          "text": [
            "Ingrese un numero entero: 13\n",
            "Es un numero primo\n"
          ]
        }
      ]
    },
    {
      "cell_type": "code",
      "source": [
        "#Desafio #8\n",
        "Cantidad_1 = 0\n",
        "Cantidad_2 = 0\n",
        "Cantidad_3 = 0\n",
        "Cantidad_4 = 0\n",
        "Edad = 0\n",
        "while Edad >= 0:\n",
        "  Edad = int(input(\"Ingrese la edad: \"))\n",
        "\n",
        "\n",
        "  if 0<= Edad <=25:\n",
        "    Cantidad_1 += 1\n",
        "  elif 26<= Edad <=50:\n",
        "    Cantidad_2 += 1\n",
        "  elif 51<= Edad <=75:\n",
        "    Cantidad_3 += 1\n",
        "  elif 76<= Edad <=100:\n",
        "    Cantidad_4 += 1\n",
        "  else:\n",
        "    print(\"Fuera de rango\")\n",
        "\n",
        "print(f\"La cantidad de pensiondados en un rango de 0 a 25 es de: {Cantidad_1}\")\n",
        "print(f\"La cantidad de pensiondados en un rango de 26 a 50 es de: {Cantidad_2}\")\n",
        "print(f\"La cantidad de pensiondados en un rango de 51 a 75 es de: {Cantidad_3}\")\n",
        "print(f\"La cantidad de pensiondados en un rango de 76 a 100 es de: {Cantidad_4}\")\n"
      ],
      "metadata": {
        "colab": {
          "base_uri": "https://localhost:8080/"
        },
        "id": "jvfv7fvQhfF0",
        "outputId": "b8653952-c61e-41be-bf66-59ab9238d4de"
      },
      "execution_count": null,
      "outputs": [
        {
          "output_type": "stream",
          "name": "stdout",
          "text": [
            "Ingrese la edad: 15\n",
            "Ingrese la edad: 25\n",
            "Ingrese la edad: 45\n",
            "Ingrese la edad: 45\n",
            "Ingrese la edad: 56\n",
            "Ingrese la edad: 80\n",
            "Ingrese la edad: 90\n",
            "Ingrese la edad: 90\n",
            "Ingrese la edad: -1\n",
            "Fuera de rango\n",
            "La cantidad de pensiondados en un rango de 0 a 25 es de: 2\n",
            "La cantidad de pensiondados en un rango de 26 a 50 es de: 2\n",
            "La cantidad de pensiondados en un rango de 51 a 75 es de: 1\n",
            "La cantidad de pensiondados en un rango de 76 a 100 es de: 3\n"
          ]
        }
      ]
    },
    {
      "cell_type": "code",
      "source": [
        "#Desafio #9\n",
        "Candidato_1 = 0\n",
        "Candidato_2 = 0\n",
        "Candidato_3 = 0\n",
        "Candidato_4 = 0\n",
        "VBlaco = 0\n",
        "VNulo = 0\n",
        "votos = 0\n",
        "while votos < 20:\n",
        "  print(\"Digite el numero Asignado al candidato para votar por el, los candidatos son: \")\n",
        "  print(\" 1. Juann Perez\\n 2. Jhon Smith\\n 3. Pedro Gonzale\\n 4. Jose Enriqui\\n 5. Voto Nulo\\n 6. Voto en blanco.\\n\")\n",
        "  Eleccion = int(input(\"Digite el numero de el candidato por el que desea votar: \"))\n",
        "  if Eleccion == 1:\n",
        "    Candidato_1 += 1\n",
        "    votos += 1\n",
        "  elif Eleccion == 2:\n",
        "    Candidato_2 += 1\n",
        "    votos += 1\n",
        "  elif Eleccion == 3:\n",
        "    Candidato_3 += 1\n",
        "    votos += 1\n",
        "  elif Eleccion == 4:\n",
        "    Candidato_4 += 1\n",
        "    votos += 1\n",
        "  elif Eleccion == 5:\n",
        "    VNulo += 1\n",
        "    votos += 1\n",
        "  elif Eleccion == 6:\n",
        "    VBlaco += 1\n",
        "    votos += 1\n",
        "  else:\n",
        "    VNulo +=1\n",
        "    votos += 1\n",
        "\n",
        "Resultado_VN = (VNulo/20)*100\n",
        "Resultado_VB = (VBlaco/20)*100\n",
        "\n",
        "print(f\"Los resultados son:\\n Candidato 1: {Candidato_1}\\n Candidato 2: {Candidato_2}\\n Candidato 3: {Candidato_3}\\n Candidato 4: {Candidato_4}\\n Votos Nulos: {VNulo}\\n Votos en blanco: {VBlaco}\")\n",
        "\n",
        "print(f\"el {Resultado_VN}% de lso votos fueron nulos y el {Resultado_VB}% Fueron votos en blanco.\")\n"
      ],
      "metadata": {
        "colab": {
          "base_uri": "https://localhost:8080/"
        },
        "id": "JPrStILIdxZ5",
        "outputId": "57fb2494-816e-4355-d2aa-8fcb5cf875c1"
      },
      "execution_count": null,
      "outputs": [
        {
          "output_type": "stream",
          "name": "stdout",
          "text": [
            "Digite el numero Asignado al candidato para votar por el, los candidatos son: \n",
            " 1. Juann Perez\n",
            " 2. Jhon Smith\n",
            " 3. Pedro Gonzale\n",
            " 4. Jose Enriqui\n",
            " 5. Voto Nulo\n",
            " 6. Voto en blanco.\n",
            "\n",
            "Digite el numero de el candidato por el que desea votar: 6\n",
            "Digite el numero Asignado al candidato para votar por el, los candidatos son: \n",
            " 1. Juann Perez\n",
            " 2. Jhon Smith\n",
            " 3. Pedro Gonzale\n",
            " 4. Jose Enriqui\n",
            " 5. Voto Nulo\n",
            " 6. Voto en blanco.\n",
            "\n",
            "Digite el numero de el candidato por el que desea votar: 2\n",
            "Digite el numero Asignado al candidato para votar por el, los candidatos son: \n",
            " 1. Juann Perez\n",
            " 2. Jhon Smith\n",
            " 3. Pedro Gonzale\n",
            " 4. Jose Enriqui\n",
            " 5. Voto Nulo\n",
            " 6. Voto en blanco.\n",
            "\n",
            "Digite el numero de el candidato por el que desea votar: 2\n",
            "Digite el numero Asignado al candidato para votar por el, los candidatos son: \n",
            " 1. Juann Perez\n",
            " 2. Jhon Smith\n",
            " 3. Pedro Gonzale\n",
            " 4. Jose Enriqui\n",
            " 5. Voto Nulo\n",
            " 6. Voto en blanco.\n",
            "\n",
            "Digite el numero de el candidato por el que desea votar: 2\n",
            "Digite el numero Asignado al candidato para votar por el, los candidatos son: \n",
            " 1. Juann Perez\n",
            " 2. Jhon Smith\n",
            " 3. Pedro Gonzale\n",
            " 4. Jose Enriqui\n",
            " 5. Voto Nulo\n",
            " 6. Voto en blanco.\n",
            "\n",
            "Digite el numero de el candidato por el que desea votar: 2\n",
            "Digite el numero Asignado al candidato para votar por el, los candidatos son: \n",
            " 1. Juann Perez\n",
            " 2. Jhon Smith\n",
            " 3. Pedro Gonzale\n",
            " 4. Jose Enriqui\n",
            " 5. Voto Nulo\n",
            " 6. Voto en blanco.\n",
            "\n",
            "Digite el numero de el candidato por el que desea votar: 2\n",
            "Digite el numero Asignado al candidato para votar por el, los candidatos son: \n",
            " 1. Juann Perez\n",
            " 2. Jhon Smith\n",
            " 3. Pedro Gonzale\n",
            " 4. Jose Enriqui\n",
            " 5. Voto Nulo\n",
            " 6. Voto en blanco.\n",
            "\n",
            "Digite el numero de el candidato por el que desea votar: 2\n",
            "Digite el numero Asignado al candidato para votar por el, los candidatos son: \n",
            " 1. Juann Perez\n",
            " 2. Jhon Smith\n",
            " 3. Pedro Gonzale\n",
            " 4. Jose Enriqui\n",
            " 5. Voto Nulo\n",
            " 6. Voto en blanco.\n",
            "\n",
            "Digite el numero de el candidato por el que desea votar: 2\n",
            "Digite el numero Asignado al candidato para votar por el, los candidatos son: \n",
            " 1. Juann Perez\n",
            " 2. Jhon Smith\n",
            " 3. Pedro Gonzale\n",
            " 4. Jose Enriqui\n",
            " 5. Voto Nulo\n",
            " 6. Voto en blanco.\n",
            "\n",
            "Digite el numero de el candidato por el que desea votar: 2\n",
            "Digite el numero Asignado al candidato para votar por el, los candidatos son: \n",
            " 1. Juann Perez\n",
            " 2. Jhon Smith\n",
            " 3. Pedro Gonzale\n",
            " 4. Jose Enriqui\n",
            " 5. Voto Nulo\n",
            " 6. Voto en blanco.\n",
            "\n",
            "Digite el numero de el candidato por el que desea votar: 2\n",
            "Digite el numero Asignado al candidato para votar por el, los candidatos son: \n",
            " 1. Juann Perez\n",
            " 2. Jhon Smith\n",
            " 3. Pedro Gonzale\n",
            " 4. Jose Enriqui\n",
            " 5. Voto Nulo\n",
            " 6. Voto en blanco.\n",
            "\n",
            "Digite el numero de el candidato por el que desea votar: 1\n",
            "Digite el numero Asignado al candidato para votar por el, los candidatos son: \n",
            " 1. Juann Perez\n",
            " 2. Jhon Smith\n",
            " 3. Pedro Gonzale\n",
            " 4. Jose Enriqui\n",
            " 5. Voto Nulo\n",
            " 6. Voto en blanco.\n",
            "\n",
            "Digite el numero de el candidato por el que desea votar: 4\n",
            "Digite el numero Asignado al candidato para votar por el, los candidatos son: \n",
            " 1. Juann Perez\n",
            " 2. Jhon Smith\n",
            " 3. Pedro Gonzale\n",
            " 4. Jose Enriqui\n",
            " 5. Voto Nulo\n",
            " 6. Voto en blanco.\n",
            "\n",
            "Digite el numero de el candidato por el que desea votar: 4\n",
            "Digite el numero Asignado al candidato para votar por el, los candidatos son: \n",
            " 1. Juann Perez\n",
            " 2. Jhon Smith\n",
            " 3. Pedro Gonzale\n",
            " 4. Jose Enriqui\n",
            " 5. Voto Nulo\n",
            " 6. Voto en blanco.\n",
            "\n",
            "Digite el numero de el candidato por el que desea votar: 3\n",
            "Digite el numero Asignado al candidato para votar por el, los candidatos son: \n",
            " 1. Juann Perez\n",
            " 2. Jhon Smith\n",
            " 3. Pedro Gonzale\n",
            " 4. Jose Enriqui\n",
            " 5. Voto Nulo\n",
            " 6. Voto en blanco.\n",
            "\n",
            "Digite el numero de el candidato por el que desea votar: 5\n",
            "Digite el numero Asignado al candidato para votar por el, los candidatos son: \n",
            " 1. Juann Perez\n",
            " 2. Jhon Smith\n",
            " 3. Pedro Gonzale\n",
            " 4. Jose Enriqui\n",
            " 5. Voto Nulo\n",
            " 6. Voto en blanco.\n",
            "\n",
            "Digite el numero de el candidato por el que desea votar: 5\n",
            "Digite el numero Asignado al candidato para votar por el, los candidatos son: \n",
            " 1. Juann Perez\n",
            " 2. Jhon Smith\n",
            " 3. Pedro Gonzale\n",
            " 4. Jose Enriqui\n",
            " 5. Voto Nulo\n",
            " 6. Voto en blanco.\n",
            "\n",
            "Digite el numero de el candidato por el que desea votar: 6\n",
            "Digite el numero Asignado al candidato para votar por el, los candidatos son: \n",
            " 1. Juann Perez\n",
            " 2. Jhon Smith\n",
            " 3. Pedro Gonzale\n",
            " 4. Jose Enriqui\n",
            " 5. Voto Nulo\n",
            " 6. Voto en blanco.\n",
            "\n",
            "Digite el numero de el candidato por el que desea votar: 1\n",
            "Digite el numero Asignado al candidato para votar por el, los candidatos son: \n",
            " 1. Juann Perez\n",
            " 2. Jhon Smith\n",
            " 3. Pedro Gonzale\n",
            " 4. Jose Enriqui\n",
            " 5. Voto Nulo\n",
            " 6. Voto en blanco.\n",
            "\n",
            "Digite el numero de el candidato por el que desea votar: 1\n",
            "Digite el numero Asignado al candidato para votar por el, los candidatos son: \n",
            " 1. Juann Perez\n",
            " 2. Jhon Smith\n",
            " 3. Pedro Gonzale\n",
            " 4. Jose Enriqui\n",
            " 5. Voto Nulo\n",
            " 6. Voto en blanco.\n",
            "\n",
            "Digite el numero de el candidato por el que desea votar: 1\n",
            "Los resultados son:\n",
            " Candidato 1: 4\n",
            " Candidato 2: 9\n",
            " Candidato 3: 1\n",
            " Candidato 4: 2\n",
            " Votos Nulos: 2\n",
            " Votos en blanco: 2\n",
            "el 10.0% de lso votos fueron nulos y el 10.0% Fueron votos en blanco.\n"
          ]
        }
      ]
    },
    {
      "cell_type": "markdown",
      "source": [
        "## Clase Modulo 5 - Python para DataScience\n",
        "\n"
      ],
      "metadata": {
        "id": "w_6ylzIj7vEf"
      }
    },
    {
      "cell_type": "markdown",
      "source": [
        "###Estructuras de Datos\n",
        "\n"
      ],
      "metadata": {
        "id": "kzC3GEJf78YC"
      }
    },
    {
      "cell_type": "markdown",
      "source": [
        "####Listas\n",
        "Las \"Listas\" son una colección de datos en orden y mutables, es que pueden ser modificados. Las Listas son crea usando corchetes '[ ]' los elementos se separan por comas ' , '\n",
        "\n",
        "Las listas pueden contener una gran variedad de tipos de datos enteros, floats, string, otras listas, tublas, etc.\n"
      ],
      "metadata": {
        "id": "NxX86iRT9usu"
      }
    },
    {
      "cell_type": "code",
      "source": [
        "Lista = [\"Angel\", 9.1, 9.2, True]\n",
        "Lista"
      ],
      "metadata": {
        "colab": {
          "base_uri": "https://localhost:8080/"
        },
        "id": "UgoPJzVC_3Fp",
        "outputId": "b1cce9e4-7a4a-4119-882c-e2e0dcfda8c1"
      },
      "execution_count": null,
      "outputs": [
        {
          "output_type": "execute_result",
          "data": {
            "text/plain": [
              "['Angel', 9.1, 9.2, True]"
            ]
          },
          "metadata": {},
          "execution_count": 1
        }
      ]
    },
    {
      "cell_type": "markdown",
      "source": [
        "las listas en python estan ordenadas por un indice que inicia desde el primer elemento asignandole 0, al segundo 1 y así sucesivamente con una cantidad de elementos indetermianda. si se coloca -1 al buscar por indice le traerá de vuelta el ultimo elemento de la lista, -2 el penultimo subsecuentemente con los demas siguiendo esta misma lógica."
      ],
      "metadata": {
        "id": "5HeUfLFkAPRa"
      }
    },
    {
      "cell_type": "code",
      "source": [
        "Lista[0]"
      ],
      "metadata": {
        "colab": {
          "base_uri": "https://localhost:8080/",
          "height": 38
        },
        "id": "ICcFt7xKBBE7",
        "outputId": "f9b9a505-53f9-44f4-d480-a1535e9d8c41"
      },
      "execution_count": null,
      "outputs": [
        {
          "output_type": "execute_result",
          "data": {
            "text/plain": [
              "'Angel'"
            ],
            "application/vnd.google.colaboratory.intrinsic+json": {
              "type": "string"
            }
          },
          "metadata": {},
          "execution_count": 5
        }
      ]
    },
    {
      "cell_type": "code",
      "source": [
        "type(Lista[0])"
      ],
      "metadata": {
        "colab": {
          "base_uri": "https://localhost:8080/"
        },
        "id": "3qub31pqBQ4I",
        "outputId": "ce29ecf7-896c-44c8-f260-39b4337c793d"
      },
      "execution_count": null,
      "outputs": [
        {
          "output_type": "execute_result",
          "data": {
            "text/plain": [
              "str"
            ]
          },
          "metadata": {},
          "execution_count": 6
        }
      ]
    },
    {
      "cell_type": "code",
      "source": [
        "Lista[-1]"
      ],
      "metadata": {
        "colab": {
          "base_uri": "https://localhost:8080/"
        },
        "id": "51wE6SqTBblg",
        "outputId": "760f19d8-c96b-45dd-8527-60b8cf948179"
      },
      "execution_count": null,
      "outputs": [
        {
          "output_type": "execute_result",
          "data": {
            "text/plain": [
              "True"
            ]
          },
          "metadata": {},
          "execution_count": 9
        }
      ]
    },
    {
      "cell_type": "code",
      "source": [
        "type(Lista[-1])"
      ],
      "metadata": {
        "colab": {
          "base_uri": "https://localhost:8080/"
        },
        "id": "Cg9PbkidBdjC",
        "outputId": "be76bedf-bcc8-42bf-f308-974ad50a5570"
      },
      "execution_count": null,
      "outputs": [
        {
          "output_type": "execute_result",
          "data": {
            "text/plain": [
              "bool"
            ]
          },
          "metadata": {},
          "execution_count": 10
        }
      ]
    },
    {
      "cell_type": "markdown",
      "source": [
        "Una forma más dinamica de trabajar con las lista es con un bucle For"
      ],
      "metadata": {
        "id": "nGd3e5qQBzl0"
      }
    },
    {
      "cell_type": "code",
      "source": [
        "for i in Lista:\n",
        "  print(i)"
      ],
      "metadata": {
        "colab": {
          "base_uri": "https://localhost:8080/"
        },
        "collapsed": true,
        "id": "G4CbfjmIB5eq",
        "outputId": "a3ba9d73-b475-40bf-f121-2150e3537712"
      },
      "execution_count": null,
      "outputs": [
        {
          "output_type": "stream",
          "name": "stdout",
          "text": [
            "Angel\n",
            "9.1\n",
            "9.2\n",
            "True\n"
          ]
        }
      ]
    },
    {
      "cell_type": "markdown",
      "source": [
        "La manipulación de datos de la lista es secilla, y para un dato en especifico de usan los indices, ejemplos:"
      ],
      "metadata": {
        "id": "DCbp-nifCIjC"
      }
    },
    {
      "cell_type": "code",
      "source": [
        "Lista[0] = \"Juan\"\n",
        "Lista"
      ],
      "metadata": {
        "colab": {
          "base_uri": "https://localhost:8080/"
        },
        "id": "uIExL1rZCPZW",
        "outputId": "16d2db61-7592-4dfb-c104-80ee3be7b47c"
      },
      "execution_count": null,
      "outputs": [
        {
          "output_type": "execute_result",
          "data": {
            "text/plain": [
              "['Juan', 9.2, True, 'Hola', 9.149999999999999, 1, 2, 3, 4, 5]"
            ]
          },
          "metadata": {},
          "execution_count": 33
        }
      ]
    },
    {
      "cell_type": "code",
      "source": [
        "Promedio = (Lista[1]+Lista[2])/2\n",
        "Promedio"
      ],
      "metadata": {
        "colab": {
          "base_uri": "https://localhost:8080/"
        },
        "id": "sXLC2HFwCygg",
        "outputId": "7fd739fa-6830-477e-95b2-58edc7b4c87d"
      },
      "execution_count": null,
      "outputs": [
        {
          "output_type": "execute_result",
          "data": {
            "text/plain": [
              "9.149999999999999"
            ]
          },
          "metadata": {},
          "execution_count": 14
        }
      ]
    },
    {
      "cell_type": "markdown",
      "source": [
        "####Manipulacion de listas\n",
        "Metodo \"len()\" etse metodo nos ayuda a saber que cantiad de elementos hay en un lista. recuerda que dice la cantidad pero el indice sigue empezando desde 0"
      ],
      "metadata": {
        "id": "45Cu649LEcme"
      }
    },
    {
      "cell_type": "code",
      "source": [
        "len(Lista)"
      ],
      "metadata": {
        "colab": {
          "base_uri": "https://localhost:8080/"
        },
        "id": "BABVz-fwE2xf",
        "outputId": "587db762-3246-47ad-b2c0-d4c73c389672"
      },
      "execution_count": null,
      "outputs": [
        {
          "output_type": "execute_result",
          "data": {
            "text/plain": [
              "4"
            ]
          },
          "metadata": {},
          "execution_count": 15
        }
      ]
    },
    {
      "cell_type": "markdown",
      "source": [
        "Partición:\n",
        "las particiones no s ayudan a selecciónar un conjunto especificado de la lista  por ejemplo del elemento 0 al 2, similar al metodo range incluye el 0 pero excluye el 2 a la hora de especificar es decir que si queremos los elemento del 0 al 2, debemos poner del 0 al 3, ejemplo:\n"
      ],
      "metadata": {
        "id": "XqCx8s47FHF5"
      }
    },
    {
      "cell_type": "code",
      "source": [
        "Lista[1:3]"
      ],
      "metadata": {
        "colab": {
          "base_uri": "https://localhost:8080/"
        },
        "id": "xQZdkqRcFxBG",
        "outputId": "90993681-417b-49d6-8d4b-0fe5dc48b828"
      },
      "execution_count": null,
      "outputs": [
        {
          "output_type": "execute_result",
          "data": {
            "text/plain": [
              "[9.1, 9.2]"
            ]
          },
          "metadata": {},
          "execution_count": 18
        }
      ]
    },
    {
      "cell_type": "code",
      "source": [
        "\"\"\"\n",
        " en este caso elementos desde el inicio hasta el indicado (Recordemos que el numero que se coloca es exluyente es decir\n",
        " solo se imprimen los elementos hasta el anterior (en este caso del 0 al 2)\n",
        "\"\"\"\n",
        "Lista[:3]"
      ],
      "metadata": {
        "colab": {
          "base_uri": "https://localhost:8080/"
        },
        "id": "iM0uqG7hGC8T",
        "outputId": "72f3f921-0697-4b8c-bd7c-7c396315ae78"
      },
      "execution_count": null,
      "outputs": [
        {
          "output_type": "execute_result",
          "data": {
            "text/plain": [
              "['Juan', 9.1, 9.2]"
            ]
          },
          "metadata": {},
          "execution_count": 17
        }
      ]
    },
    {
      "cell_type": "code",
      "source": [
        "# de la misma forma se puede impriir una lista partiendo de un elemento por ejemplo del 3 en adelante, ya que de esta manera si es incluyente\n",
        "Lista[2:]"
      ],
      "metadata": {
        "colab": {
          "base_uri": "https://localhost:8080/"
        },
        "id": "23uaYb6fGqjt",
        "outputId": "7919d7a6-5a52-4aec-fadf-6a0d99f53085"
      },
      "execution_count": null,
      "outputs": [
        {
          "output_type": "execute_result",
          "data": {
            "text/plain": [
              "[9.2, True]"
            ]
          },
          "metadata": {},
          "execution_count": 19
        }
      ]
    },
    {
      "cell_type": "markdown",
      "source": [
        "####Metodos de listas"
      ],
      "metadata": {
        "id": "-naupN2rHJGt"
      }
    },
    {
      "cell_type": "markdown",
      "source": [
        "**.append()** Añade un elemento al final de la lista\n"
      ],
      "metadata": {
        "id": "mQC8SzbOI0M7"
      }
    },
    {
      "cell_type": "code",
      "source": [
        "Lista.append(Promedio) #El promedio que sacamos anteriormente\n",
        "Lista"
      ],
      "metadata": {
        "colab": {
          "base_uri": "https://localhost:8080/"
        },
        "id": "yK3aLtcrI1iy",
        "outputId": "22bcdb91-c537-492c-e579-a316f0911288"
      },
      "execution_count": null,
      "outputs": [
        {
          "output_type": "execute_result",
          "data": {
            "text/plain": [
              "['Juan', 9.1, 9.2, True, 'Hola', 9.149999999999999]"
            ]
          },
          "metadata": {},
          "execution_count": 21
        }
      ]
    },
    {
      "cell_type": "markdown",
      "source": [
        "**.extend()** permite añadir varios elemento al final de una lista"
      ],
      "metadata": {
        "id": "zG4BtyFaJJyq"
      }
    },
    {
      "cell_type": "code",
      "source": [
        "Lista.extend([1, 2, 3, 4, 5])\n",
        "Lista"
      ],
      "metadata": {
        "colab": {
          "base_uri": "https://localhost:8080/"
        },
        "id": "IXyMuO-1JgCC",
        "outputId": "5299ab26-b832-481a-9815-0e8736b08676"
      },
      "execution_count": null,
      "outputs": [
        {
          "output_type": "execute_result",
          "data": {
            "text/plain": [
              "['Juan', 9.1, 9.2, True, 'Hola', 9.149999999999999, 1, 2, 3, 4, 5]"
            ]
          },
          "metadata": {},
          "execution_count": 22
        }
      ]
    },
    {
      "cell_type": "code",
      "source": [
        "#Si intentas hacer esto con .Append() considerara esa lista como un solo elemento\n",
        "Lista.append([4, 8, 9])\n",
        "Lista"
      ],
      "metadata": {
        "colab": {
          "base_uri": "https://localhost:8080/"
        },
        "id": "z4QkmJlGLhm-",
        "outputId": "90781be8-ec3f-481c-bace-dd635eea1a92"
      },
      "execution_count": null,
      "outputs": [
        {
          "output_type": "execute_result",
          "data": {
            "text/plain": [
              "['Juan', 9.1, 9.2, True, 'Hola', 9.149999999999999, 1, 2, 3, 4, 5, [4, 8, 9]]"
            ]
          },
          "metadata": {},
          "execution_count": 24
        }
      ]
    },
    {
      "cell_type": "markdown",
      "source": [
        "**.remove()** Remueve un elemento especifico de la lista"
      ],
      "metadata": {
        "id": "jjolBticMzyY"
      }
    },
    {
      "cell_type": "code",
      "source": [
        "Lista.remove([4, 8, 9])\n",
        "Lista"
      ],
      "metadata": {
        "colab": {
          "base_uri": "https://localhost:8080/"
        },
        "id": "7DDTD12UND39",
        "outputId": "e5c17d24-18d6-4a59-cab1-1c47312574a4"
      },
      "execution_count": null,
      "outputs": [
        {
          "output_type": "execute_result",
          "data": {
            "text/plain": [
              "['Juan', 9.1, 9.2, True, 'Hola', 9.149999999999999, 1, 2, 3, 4, 5]"
            ]
          },
          "metadata": {},
          "execution_count": 27
        }
      ]
    },
    {
      "cell_type": "markdown",
      "source": [
        "**.insert()** Esta inserta un element en una posicion especificada"
      ],
      "metadata": {
        "id": "k5Fr_xSOOEhF"
      }
    },
    {
      "cell_type": "code",
      "source": [
        "Lista.insert(0, \"Pedro\")\n",
        "Lista"
      ],
      "metadata": {
        "colab": {
          "base_uri": "https://localhost:8080/"
        },
        "id": "KMPj7MGIOVx4",
        "outputId": "2d0bc9be-6f4f-4278-b1e3-a3ff97586afe"
      },
      "execution_count": null,
      "outputs": [
        {
          "output_type": "execute_result",
          "data": {
            "text/plain": [
              "['Pedro', 'Juan', 9.2, True, 'Hola', 9.149999999999999, 1, 2, 3, 4, 5]"
            ]
          },
          "metadata": {},
          "execution_count": 34
        }
      ]
    },
    {
      "cell_type": "markdown",
      "source": [
        "**.pop()** Elimina el elemento de la lista especificado"
      ],
      "metadata": {
        "id": "6WeG_iF4Ohii"
      }
    },
    {
      "cell_type": "code",
      "source": [
        "Lista.pop(0)\n",
        "Lista"
      ],
      "metadata": {
        "colab": {
          "base_uri": "https://localhost:8080/"
        },
        "id": "2JKX70UcOpu2",
        "outputId": "208121d0-8566-45ed-a8ce-a827139d659c"
      },
      "execution_count": null,
      "outputs": [
        {
          "output_type": "execute_result",
          "data": {
            "text/plain": [
              "['Juan', 9.2, True, 'Hola', 9.149999999999999, 1, 2, 3, 4, 5]"
            ]
          },
          "metadata": {},
          "execution_count": 36
        }
      ]
    },
    {
      "cell_type": "markdown",
      "source": [
        "**.index()** Devuelve el indice del elemento especificado"
      ],
      "metadata": {
        "id": "wAs9A3GUPIRb"
      }
    },
    {
      "cell_type": "code",
      "source": [
        "Lista.index(\"Juan\")"
      ],
      "metadata": {
        "colab": {
          "base_uri": "https://localhost:8080/"
        },
        "id": "AukoVTTVPW5m",
        "outputId": "a0fe3a92-c8df-4962-e7f5-d1bfd7d8cf74"
      },
      "execution_count": null,
      "outputs": [
        {
          "output_type": "execute_result",
          "data": {
            "text/plain": [
              "0"
            ]
          },
          "metadata": {},
          "execution_count": 37
        }
      ]
    },
    {
      "cell_type": "markdown",
      "source": [
        "**.sort()** este metodo permite ordenar de manera ascendente o descendente alfabeticamente una lista en el caso de de las palabras\n"
      ],
      "metadata": {
        "id": "XrddLhCdPdhW"
      }
    },
    {
      "cell_type": "code",
      "source": [
        "Lista_ejemplo = [\"Burro\", \"Dodo\", \"Ave\", \"Camaleon\" ]\n",
        "Lista_ejemplo.sort()\n",
        "Lista_ejemplo"
      ],
      "metadata": {
        "colab": {
          "base_uri": "https://localhost:8080/"
        },
        "id": "LmZfzHkbP6hG",
        "outputId": "a6266549-cf44-4295-a31e-b3535c684451"
      },
      "execution_count": null,
      "outputs": [
        {
          "output_type": "execute_result",
          "data": {
            "text/plain": [
              "['Ave', 'Burro', 'Camaleon', 'Dodo']"
            ]
          },
          "metadata": {},
          "execution_count": 40
        }
      ]
    },
    {
      "cell_type": "markdown",
      "source": [
        "#### Diccionarios\n",
        "Los diccionarios son estructuras de datos que almacenan datos en una estructura de LLave-Valor. esta estructura se coloca dentro de llaves \"{ }\" y estos elementos dentro son separados por comas.\n",
        "\n",
        "\n",
        "\n",
        "```\n",
        "Diccionario = {LLave: valor, LLave: valor}\n",
        "```\n",
        "\n"
      ],
      "metadata": {
        "id": "vBuCZ0YnQs1W"
      }
    },
    {
      "cell_type": "code",
      "source": [
        "Diccionario = {\"LLave_1\": 1,\n",
        "               \"LLave_2\": 2} #la llave deve ser un string\n",
        "Diccionario"
      ],
      "metadata": {
        "colab": {
          "base_uri": "https://localhost:8080/"
        },
        "id": "wSLpMDJmTGJR",
        "outputId": "cf9abbed-d2e7-4ff6-cafc-509041469ca2"
      },
      "execution_count": null,
      "outputs": [
        {
          "output_type": "execute_result",
          "data": {
            "text/plain": [
              "{'LLave_1': 1, 'LLave_2': 2}"
            ]
          },
          "metadata": {},
          "execution_count": 41
        }
      ]
    },
    {
      "cell_type": "code",
      "source": [
        "Estudiante = {\n",
        "    \"Nombre\": \"Angel Delgado\",\n",
        "    \"Edad\": 12,\n",
        "    \"Promedio\": 9.1,\n",
        "    \"Estado\": True #True indicando que pasó el año por ejemplo\n",
        "    }\n",
        "Estudiante[\"Promedio\"]"
      ],
      "metadata": {
        "colab": {
          "base_uri": "https://localhost:8080/"
        },
        "id": "V5FJxcLjTpaL",
        "outputId": "0abe905b-4f64-4577-900c-e8af68fdd35d"
      },
      "execution_count": null,
      "outputs": [
        {
          "output_type": "execute_result",
          "data": {
            "text/plain": [
              "9.1"
            ]
          },
          "metadata": {},
          "execution_count": 42
        }
      ]
    },
    {
      "cell_type": "markdown",
      "source": [
        "para cambiar el valor de una llave es similar a una lista"
      ],
      "metadata": {
        "id": "BlfHpve9UrCK"
      }
    },
    {
      "cell_type": "code",
      "source": [
        "Estudiante[\"Edad\"] = 13\n",
        "Estudiante"
      ],
      "metadata": {
        "colab": {
          "base_uri": "https://localhost:8080/"
        },
        "id": "nHQa5SePUvZy",
        "outputId": "f3e8ca7e-f896-4a53-8601-23e6ed53f3eb"
      },
      "execution_count": null,
      "outputs": [
        {
          "output_type": "execute_result",
          "data": {
            "text/plain": [
              "{'Nombre': 'Angel Delgado', 'Edad': 13, 'Promedio': 9.1, 'Estado': True}"
            ]
          },
          "metadata": {},
          "execution_count": 44
        }
      ]
    },
    {
      "cell_type": "markdown",
      "source": [
        "pra crear una dato dentro del diccionario podemos hacer lo siguiente definiendo una nueva llave y asignandole un valor"
      ],
      "metadata": {
        "id": "A6tSoAjFVGiQ"
      }
    },
    {
      "cell_type": "code",
      "source": [
        "Estudiante[\"Modalidad\"] = \"Virtual\"\n",
        "Estudiante"
      ],
      "metadata": {
        "colab": {
          "base_uri": "https://localhost:8080/"
        },
        "id": "CBt2Y743Vd_m",
        "outputId": "edb1c90d-a3d5-4e75-959c-da5a6bae9e29"
      },
      "execution_count": null,
      "outputs": [
        {
          "output_type": "execute_result",
          "data": {
            "text/plain": [
              "{'Nombre': 'Angel Delgado',\n",
              " 'Edad': 13,\n",
              " 'Promedio': 9.1,\n",
              " 'Estado': True,\n",
              " 'Modalidad': 'Virtual'}"
            ]
          },
          "metadata": {},
          "execution_count": 45
        }
      ]
    },
    {
      "cell_type": "markdown",
      "source": [
        "#### Metodos de diccionarios\n"
      ],
      "metadata": {
        "id": "kBBuBNypWWRg"
      }
    },
    {
      "cell_type": "markdown",
      "source": [
        "**.pop()** elimina el elemento de un diccionario y lo expresa a la salida"
      ],
      "metadata": {
        "id": "BUYl_sN0WZ2f"
      }
    },
    {
      "cell_type": "code",
      "source": [
        "Estudiante.pop(\"Edad\")"
      ],
      "metadata": {
        "colab": {
          "base_uri": "https://localhost:8080/"
        },
        "id": "48c8ZaFxWwsu",
        "outputId": "b3036cf8-c254-44f7-9d6c-4e0d29c44b21"
      },
      "execution_count": null,
      "outputs": [
        {
          "output_type": "execute_result",
          "data": {
            "text/plain": [
              "13"
            ]
          },
          "metadata": {},
          "execution_count": 46
        }
      ]
    },
    {
      "cell_type": "markdown",
      "source": [
        "**.items()** retorna una lista de los pares LLave-valor del diccionario"
      ],
      "metadata": {
        "id": "3pOgzS-7W6ZQ"
      }
    },
    {
      "cell_type": "code",
      "source": [
        "Estudiante.items()"
      ],
      "metadata": {
        "colab": {
          "base_uri": "https://localhost:8080/"
        },
        "id": "fAm_kqQbXJ5O",
        "outputId": "33ff909f-051b-49c8-bee6-361cea1d145c"
      },
      "execution_count": null,
      "outputs": [
        {
          "output_type": "execute_result",
          "data": {
            "text/plain": [
              "dict_items([('Nombre', 'Angel Delgado'), ('Promedio', 9.1), ('Estado', True), ('Modalidad', 'Virtual')])"
            ]
          },
          "metadata": {},
          "execution_count": 47
        }
      ]
    },
    {
      "cell_type": "markdown",
      "source": [
        "**.keys()** retorna una lista de las llaves del diccionario"
      ],
      "metadata": {
        "id": "Ai7e3cR5XXqR"
      }
    },
    {
      "cell_type": "code",
      "source": [
        "Estudiante.keys()"
      ],
      "metadata": {
        "colab": {
          "base_uri": "https://localhost:8080/"
        },
        "id": "vf-xuHTYXf4I",
        "outputId": "6b03eacb-ff08-4f08-880e-57ddaeabc251"
      },
      "execution_count": null,
      "outputs": [
        {
          "output_type": "execute_result",
          "data": {
            "text/plain": [
              "dict_keys(['Nombre', 'Promedio', 'Estado', 'Modalidad'])"
            ]
          },
          "metadata": {},
          "execution_count": 48
        }
      ]
    },
    {
      "cell_type": "markdown",
      "source": [
        "**.values()** retorna una lista de los valores del diccionario"
      ],
      "metadata": {
        "id": "0PASKKtmXla2"
      }
    },
    {
      "cell_type": "code",
      "source": [
        "Estudiante.values()"
      ],
      "metadata": {
        "colab": {
          "base_uri": "https://localhost:8080/"
        },
        "id": "b7WKufdCYFZe",
        "outputId": "95ccbe6c-4266-43a5-89b0-7fbfb63c2bae"
      },
      "execution_count": null,
      "outputs": [
        {
          "output_type": "execute_result",
          "data": {
            "text/plain": [
              "dict_values(['Angel Delgado', 9.1, True, 'Virtual'])"
            ]
          },
          "metadata": {},
          "execution_count": 49
        }
      ]
    },
    {
      "cell_type": "markdown",
      "source": [
        "iteraciones en bucle for"
      ],
      "metadata": {
        "id": "QDPDLGDpYeUV"
      }
    },
    {
      "cell_type": "code",
      "source": [
        "for LLave, valor in Estudiante.items():\n",
        "  print(f\"{LLave} ---> {valor}\")"
      ],
      "metadata": {
        "colab": {
          "base_uri": "https://localhost:8080/"
        },
        "id": "NJ_LShc8YhiB",
        "outputId": "d0ac80af-e3fe-48fe-c98f-9fd376b41f27"
      },
      "execution_count": null,
      "outputs": [
        {
          "output_type": "stream",
          "name": "stdout",
          "text": [
            "Nombre ---> Angel Delgado\n",
            "Promedio ---> 9.1\n",
            "Estado ---> True\n",
            "Modalidad ---> Virtual\n"
          ]
        }
      ]
    },
    {
      "cell_type": "markdown",
      "source": [
        "notas extras - metodos extras\n",
        ".sum() suma los elemento de una estructura de datos o una secuencia.\n",
        "help(funcion) muestra información acerca de funciones, metodos...etc.\n",
        "dir(elemento o funcion) se utiliza para mostrar una lista de atributos y métodos asociados a un elemento."
      ],
      "metadata": {
        "id": "EeBUtlm-Zvqb"
      }
    },
    {
      "cell_type": "markdown",
      "source": [
        "###Desafios - Modulo #5\n"
      ],
      "metadata": {
        "id": "_uZlHzfqF2b6"
      }
    },
    {
      "cell_type": "code",
      "source": [
        "#Desafio #1\n",
        "Gastos = [2172.54, 3701.35, 3518.09, 3456.61, 3249.38, 2840.82, 3891.45, 3075.26, 2317.64, 3219.08]\n",
        "Promedio = sum(Gastos)/len(Gastos)\n",
        "print(f\"Total de Gastos: {sum(Gastos)}\\nPromedio de gastos: {Promedio}\")"
      ],
      "metadata": {
        "colab": {
          "base_uri": "https://localhost:8080/"
        },
        "id": "MeAY90cOF9CR",
        "outputId": "96088d52-a57c-4efe-cc81-c86d2b523c39"
      },
      "execution_count": null,
      "outputs": [
        {
          "output_type": "stream",
          "name": "stdout",
          "text": [
            "Total de Gastos: 31442.22\n",
            "Promedio de gastos: 3144.222\n"
          ]
        }
      ]
    },
    {
      "cell_type": "code",
      "source": [
        "#Desafio #2\n",
        "Gastos = [2172.54, 3701.35, 3518.09, 3456.61, 3249.38, 2840.82, 3891.45, 3075.26, 2317.64, 3219.08]\n",
        "Compras_grandes=0\n",
        "cantidad_compras = len(Gastos)\n",
        "for i in Gastos:\n",
        "  if i>3000:\n",
        "    Compras_grandes+=1\n",
        "Porcentaje = (100*Compras_grandes)/cantidad_compras\n",
        "print(f\"Compras por encima de 3000 dolares: {Compras_grandes}\\n Porcentaje de compras por encima de 3000 dolares: {Porcentaje}%\")"
      ],
      "metadata": {
        "colab": {
          "base_uri": "https://localhost:8080/"
        },
        "id": "ucccORzOZ7eG",
        "outputId": "c989ef07-96d3-4960-f0ac-2899d1d19232"
      },
      "execution_count": null,
      "outputs": [
        {
          "output_type": "stream",
          "name": "stdout",
          "text": [
            "Compras por encima de 3000 dolares: 7\n",
            " Porcentaje de compras por encima de 3000 dolares: 70.0%\n"
          ]
        }
      ]
    },
    {
      "cell_type": "code",
      "source": [
        "#Desafio #3\n",
        "import random as rdm\n",
        "lista = []\n",
        "Contador = 0\n",
        "while Contador < 5:\n",
        "  numero = rdm.randint(0, 5)\n",
        "  lista.append(numero)\n",
        "  Contador+=1\n",
        "lista"
      ],
      "metadata": {
        "colab": {
          "base_uri": "https://localhost:8080/"
        },
        "id": "4Alq0bwnjdbt",
        "outputId": "289fabee-c5d6-4f99-ae55-136667411475"
      },
      "execution_count": null,
      "outputs": [
        {
          "output_type": "execute_result",
          "data": {
            "text/plain": [
              "[2, 5, 1, 3, 1]"
            ]
          },
          "metadata": {},
          "execution_count": 47
        }
      ]
    },
    {
      "cell_type": "code",
      "source": [
        "#Desafio #4\n",
        "lista=[]\n",
        "Contador = 0\n",
        "while Contador < 5:\n",
        "  Num  = int(input(\"Ingrese el numero que desea colocar en la lista: \"))\n",
        "  lista.append(Num)\n",
        "  Contador+=1\n",
        "print(f\"La lista ingresada pero de forma invertida es: {lista[::-1]}\")\n"
      ],
      "metadata": {
        "colab": {
          "base_uri": "https://localhost:8080/"
        },
        "id": "C7PwHOien8Xu",
        "outputId": "0c1effc4-0401-41bf-fbf5-9cadefcc80fc"
      },
      "execution_count": null,
      "outputs": [
        {
          "output_type": "stream",
          "name": "stdout",
          "text": [
            "Ingrese el numero que desea colocar en la lista: 1\n",
            "Ingrese el numero que desea colocar en la lista: 2\n",
            "Ingrese el numero que desea colocar en la lista: 3\n",
            "Ingrese el numero que desea colocar en la lista: 4\n",
            "Ingrese el numero que desea colocar en la lista: 5\n",
            "La lista ingresada pero de forma invertida es: [5, 4, 3, 2, 1]\n"
          ]
        }
      ]
    },
    {
      "cell_type": "markdown",
      "source": [
        "NOta: metodod e partición o slicing, estructura **lista [Inicio:fin:paso]** en este caso el paso es de -1 haciendo que se recorra de atras hacia adelante. recordemos que el fin es exluido es decir que si queremos imprimir hasta 5 debemos poner 6 en na lista con numeros enteros ordenados del 1 al 10 y de otra forma el inicio es incluyente ya que se imprime desde el numero indicado hasta el final"
      ],
      "metadata": {
        "id": "z4vv_uDOtaxm"
      }
    },
    {
      "cell_type": "code",
      "source": [
        "#Desafio #5 - By Alura - Logica comprendida\n",
        "# Recopilamos el número\n",
        "numero = int(input('Ingresa un número entero: '))\n",
        "# Lista para almacenar los números primos\n",
        "lista_primos = []\n",
        "# Bucle que recorre todos los números por debajo del número ingresado\n",
        "for num in range(2, numero+1):\n",
        "  # Primo es una bandera que nos permite saber si el valor analizado es primo o no.\n",
        "  primo = True\n",
        "  # Probamos si todos los números por debajo del especificado en el primer bucle pueden dar una división exacta.\n",
        "  for prueba_divisibles in range(2, num):\n",
        "    if num % prueba_divisibles == 0:\n",
        "      # Si es divisible por algún número, entendemos que el número no es primo y terminamos el bucle interno con break.\n",
        "      primo = False\n",
        "      break\n",
        "  # La condición se convierte en el resultado booleano de primo: False. Ignoramos la condición True y ejecutamos el bloque del if.\n",
        "  if primo:\n",
        "    lista_primos.append(num)\n",
        "# Resultado\n",
        "print(f'Lista de números primos: {lista_primos}')"
      ],
      "metadata": {
        "colab": {
          "base_uri": "https://localhost:8080/"
        },
        "id": "UghlIFKau2KJ",
        "outputId": "063f5ca7-4490-4938-f621-5f544ba6d7de"
      },
      "execution_count": null,
      "outputs": [
        {
          "output_type": "stream",
          "name": "stdout",
          "text": [
            "Ingresa un número entero: 10\n",
            "Lista de números primos: [2, 3, 5, 7]\n"
          ]
        }
      ]
    },
    {
      "cell_type": "code",
      "source": [
        "#Desafio #6\n",
        "#???"
      ],
      "metadata": {
        "id": "mX6xMg904v8b"
      },
      "execution_count": null,
      "outputs": []
    },
    {
      "cell_type": "code",
      "source": [
        "#Desafio #7\n",
        "Bacterias = [1.2, 2.1, 3.3, 5.0, 7.8, 11.3, 16.6, 25.1, 37.8, 56.9]\n",
        "Porcentaje_bacterias = []\n",
        "for i in range(1, len(Bacterias)):\n",
        "  Porcentaje = 100 * ((Bacterias[i])-Bacterias[i-1])/Bacterias[i-1]\n",
        "  Porcentaje_bacterias.append(Porcentaje)\n",
        "print(f\"el porcentaje de crecimiento es de:\\n{Porcentaje_bacterias}\")"
      ],
      "metadata": {
        "colab": {
          "base_uri": "https://localhost:8080/"
        },
        "id": "nFl4q6xm5eNh",
        "outputId": "2ab561d6-96b4-4ea6-b4d9-2554d5bda0b6"
      },
      "execution_count": null,
      "outputs": [
        {
          "output_type": "stream",
          "name": "stdout",
          "text": [
            "el porcentaje de crecimiento es de:\n",
            "[75.00000000000001, 57.142857142857125, 51.51515151515153, 56.0, 44.87179487179489, 46.90265486725664, 51.20481927710843, 50.59760956175297, 50.52910052910054]\n"
          ]
        }
      ]
    },
    {
      "cell_type": "code",
      "source": [
        "#Desafio #8\n",
        "ID = []\n",
        "Dulces = 0\n",
        "Amargos = 0\n",
        "\n",
        "for i in range (0, 10):\n",
        "  ID.append(i+1)\n",
        "\n",
        "for ids in ID:\n",
        "  if ids %2 == 0:\n",
        "    Dulces +=1\n",
        "  else:\n",
        "    Amargos +=1\n",
        "\n",
        "print(f\"Hay {Dulces} productos dulces y {Amargos} productos amargos\")"
      ],
      "metadata": {
        "colab": {
          "base_uri": "https://localhost:8080/"
        },
        "id": "RmTjeKHIG5y1",
        "outputId": "b981edde-b6d1-495d-b2fd-b2f9037ec65f"
      },
      "execution_count": null,
      "outputs": [
        {
          "output_type": "stream",
          "name": "stdout",
          "text": [
            "Hay 5 productos dulces y 5 productos amargos\n"
          ]
        }
      ]
    },
    {
      "cell_type": "code",
      "source": [
        "#Desafio #9\n",
        "Respuesta_correcta = [\"A\", \"B\", \"C\", \"A\", \"A\", \"B\", \"C\"]\n",
        "print(\"Recuerde que la respuesta solo debe ser dada en A, B o C\\nNo se permiten otros valores.\")\n",
        "Resultado = []\n",
        "puntaje = 0\n",
        "for i in range(0, 7):\n",
        "  Respuesta_Estudiante = str(input(f\"Ingrese la respuesta de la pregunta #{i+1}: \")).upper()\n",
        "  Resultado.append(Respuesta_Estudiante)\n",
        "for i in range(0, 7):\n",
        "  if Resultado[i]==Respuesta_correcta[i]:\n",
        "    puntaje+=1\n",
        "\n",
        "print(f\"El puntaje total es de: {puntaje}/{len(Respuesta_correcta)}\")"
      ],
      "metadata": {
        "colab": {
          "base_uri": "https://localhost:8080/"
        },
        "id": "2W1cFSg7xGin",
        "outputId": "92a85c52-8757-42c4-ca72-6dfe3fd5a66c"
      },
      "execution_count": null,
      "outputs": [
        {
          "output_type": "stream",
          "name": "stdout",
          "text": [
            "Recuerde que la respuesta solo debe ser dada en A, B o C\n",
            "No se permiten otros valores.\n",
            "Ingrese la respuesta de la pregunta #1: A\n",
            "Ingrese la respuesta de la pregunta #2: B\n",
            "Ingrese la respuesta de la pregunta #3: C\n",
            "Ingrese la respuesta de la pregunta #4: C\n",
            "Ingrese la respuesta de la pregunta #5: C\n",
            "Ingrese la respuesta de la pregunta #6: B\n",
            "Ingrese la respuesta de la pregunta #7: C\n",
            "El puntaje total es de: 5/7\n"
          ]
        }
      ]
    },
    {
      "cell_type": "code",
      "source": [
        "#Desafo #10\n",
        "Temperatura_mensual = []\n",
        "Meses = [\"Enero\",\"Febrero\",\"Marzo\",\"Abril\",\"Mayo\",\"Junio\",\"Julio\",\"Agosto\",\"Septiembre\",\"Octubre\",\"Noviembre\",\"Diciembre\"]\n",
        "for i in range(0, 12):\n",
        "  Temperatura_promedio = float(input(f\"Ingrese la temperatura del mes {i+1}: \"))\n",
        "  Temperatura_mensual.append(Temperatura_promedio)\n",
        "\n",
        "Promedio = sum(Temperatura_mensual)/len(Temperatura_mensual)\n",
        "\n",
        "for i in range(0, 12):\n",
        "  if Temperatura_mensual[i] > Promedio:\n",
        "    print(f\"Temperatura del mes de {Meses[i]} --> {Temperatura_mensual[i]}\")\n",
        "\n"
      ],
      "metadata": {
        "colab": {
          "base_uri": "https://localhost:8080/"
        },
        "id": "Zl7CgFjw4Qga",
        "outputId": "18bbdd28-8c2a-4a72-e03b-b20e7df03e57"
      },
      "execution_count": null,
      "outputs": [
        {
          "output_type": "stream",
          "name": "stdout",
          "text": [
            "Ingrese la temperatura del mes 1: 12\n",
            "Ingrese la temperatura del mes 2: 12\n",
            "Ingrese la temperatura del mes 3: 12\n",
            "Ingrese la temperatura del mes 4: 12\n",
            "Ingrese la temperatura del mes 5: 12\n",
            "Ingrese la temperatura del mes 6: 12\n",
            "Ingrese la temperatura del mes 7: 12\n",
            "Ingrese la temperatura del mes 8: 12\n",
            "Ingrese la temperatura del mes 9: 23\n",
            "Ingrese la temperatura del mes 10: 23\n",
            "Ingrese la temperatura del mes 11: 23\n",
            "Ingrese la temperatura del mes 12: 23\n",
            "Temperatura del mes de Septiembre --> 23.0\n",
            "Temperatura del mes de Octubre --> 23.0\n",
            "Temperatura del mes de Noviembre --> 23.0\n",
            "Temperatura del mes de Diciembre --> 23.0\n"
          ]
        }
      ]
    },
    {
      "cell_type": "code",
      "source": [
        "#Desafio #11\n",
        "Datos_ventas = {'Producto A': 300, 'Producto B': 80, 'Producto C': 60, 'Producto D': 200, 'Producto E': 250, 'Producto F': 30}\n",
        "Total_ventas = sum(Datos_ventas.values())\n",
        "Producto_Vendido = max(Datos_ventas.values())\n",
        "Datos_ventas.keys()\n",
        "for D in Datos_ventas.keys():\n",
        "  if Datos_ventas[D] == Producto_Vendido:\n",
        "    print(f\"El producto más vendido fué: {D}\")"
      ],
      "metadata": {
        "colab": {
          "base_uri": "https://localhost:8080/"
        },
        "id": "3KMkrwqoR3VL",
        "outputId": "2c187918-ec4e-4a93-fde4-e4fc26f94189"
      },
      "execution_count": null,
      "outputs": [
        {
          "output_type": "stream",
          "name": "stdout",
          "text": [
            "El producto más vendido fué: Producto A\n"
          ]
        }
      ]
    },
    {
      "cell_type": "code",
      "source": [
        "#Desafio #12\n",
        "Votacion_design = {\"Diseño 1\": 1334, \"Diseño 2\": 982, \"Diseño 3\": 1751, \"Diseño 4\": 210, \"Diseño 5\": 1811}\n",
        "Total_Votos = sum(Votacion_design.values())\n",
        "Mayor_votos = max(Votacion_design.values())\n",
        "Porcentaje = round((Mayor_votos/Total_Votos)*100, 2)\n",
        "for i in Votacion_design.keys():\n",
        "  if Votacion_design[i] == Mayor_votos:\n",
        "    print(f\"EL diseño más votado fue el {i}, con un porcentaje del {Porcentaje}% de los votos.\")"
      ],
      "metadata": {
        "colab": {
          "base_uri": "https://localhost:8080/"
        },
        "id": "GQPVCCmmUwO3",
        "outputId": "b3c90119-1696-4b89-8de0-bec1e017b2cc"
      },
      "execution_count": null,
      "outputs": [
        {
          "output_type": "stream",
          "name": "stdout",
          "text": [
            "EL diseño más votado fue el Diseño 5, con un porcentaje del 29.75% de los votos.\n"
          ]
        }
      ]
    },
    {
      "cell_type": "code",
      "source": [
        "#Desafio #13\n",
        "Salarios_bonif= {\"1172\": 0, \"1644\": 0, \"2617\": 0, \"5130\": 0, \"5532\": 0, \"6341\": 0, \"6650\": 0, \"7238\": 0, \"7685\": 0, \"7782\": 0, \"7903\": 0}\n",
        "Cobro_minimo = 0\n",
        "for i in Salarios_bonif.keys():\n",
        "  Bonificacion = (int(i)*10)/100\n",
        "  if Bonificacion < 200:\n",
        "    Salarios_bonif[i] = 200\n",
        "    Cobro_minimo += 1\n",
        "  else:\n",
        "    Salarios_bonif[i] = Bonificacion\n",
        "\n",
        "print(\"Salario --> Bonificación\")\n",
        "for i in Salarios_bonif.keys():\n",
        "  print(f\"{i} --> {Salarios_bonif[i]}\")\n",
        "\n",
        "print(f\"Suma total de bonificaciones: {sum(Salarios_bonif.values())}\\nCantidad de cobros de bonificación minima: {Cobro_minimo}\")"
      ],
      "metadata": {
        "colab": {
          "base_uri": "https://localhost:8080/"
        },
        "id": "rUBXi5uUaEpT",
        "outputId": "b44baeb3-2525-4433-f777-e7ad833545d2"
      },
      "execution_count": null,
      "outputs": [
        {
          "output_type": "stream",
          "name": "stdout",
          "text": [
            "Salario --> Bonificación\n",
            "1172 --> 200\n",
            "1644 --> 200\n",
            "2617 --> 261.7\n",
            "5130 --> 513.0\n",
            "5532 --> 553.2\n",
            "6341 --> 634.1\n",
            "6650 --> 665.0\n",
            "7238 --> 723.8\n",
            "7685 --> 768.5\n",
            "7782 --> 778.2\n",
            "7903 --> 790.3\n",
            "Suma total de bonificaciones: 6087.8\n",
            "Cantidad de cobros de bonificación minima: 2\n"
          ]
        }
      ]
    },
    {
      "cell_type": "code",
      "source": [
        "#Desafio #14\n",
        "Diversidad_bio= {'Área Norte': [2819, 7236],\n",
        "                 'Área Leste': [1440, 9492],\n",
        "                 'Área Sul': [5969, 7496],\n",
        "                 'Área Oeste': [14446, 49688],\n",
        "                 'Área Centro': [22558, 45148]}\n",
        "lista = []\n",
        "for i in Diversidad_bio.keys():\n",
        "  lista.append(sum(Diversidad_bio[i]))\n",
        "  for a in range(0, len(lista)):\n",
        "    Promedio = (lista[a]/len(Diversidad_bio[i]))\n",
        "  print(f\"El promedio de biodiversidad del area {i} es de {Promedio}\")\n",
        "\n",
        "Mayor_bio = max(lista)\n",
        "for i in Diversidad_bio.keys():\n",
        "  Suma_areas = sum(Diversidad_bio[i])\n",
        "  if Mayor_bio == Suma_areas:\n",
        "    print(f\"El area con mayor biodiversiodad es {i}\")"
      ],
      "metadata": {
        "colab": {
          "base_uri": "https://localhost:8080/"
        },
        "id": "O4qGP0RQBQUW",
        "outputId": "d3d4b153-2fa5-46cc-9631-de4973ede5cd"
      },
      "execution_count": null,
      "outputs": [
        {
          "output_type": "stream",
          "name": "stdout",
          "text": [
            "El promedio de biodiversidad del area Área Norte es de 5027.5\n",
            "El promedio de biodiversidad del area Área Leste es de 5466.0\n",
            "El promedio de biodiversidad del area Área Sul es de 6732.5\n",
            "El promedio de biodiversidad del area Área Oeste es de 32067.0\n",
            "El promedio de biodiversidad del area Área Centro es de 33853.0\n",
            "El area con mayor biodiversiodad es Área Centro\n"
          ]
        }
      ]
    },
    {
      "cell_type": "code",
      "source": [
        "#Desafio #14 - by AluraLatam - logica comprendida (simple y sin procesos complejos :D )\n",
        "datos = {'Área Norte': [2819, 7236],\n",
        "         'Área Este': [1440, 9492],\n",
        "         'Área Sur': [5969, 7496],\n",
        "         'Área Oeste': [14446, 49688],\n",
        "         'Área Centro': [22558, 45148]}\n",
        "\n",
        "mayor_diversidad = ''\n",
        "mayor_suma = 0\n",
        "\n",
        "for área, especies in datos.items():\n",
        "    suma_especies = sum(especies)\n",
        "    media = suma_especies / len(especies)\n",
        "    print(f'El {área} tiene un promedio de {media} especies')\n",
        "    if suma_especies > mayor_suma:\n",
        "        mayor_suma = suma_especies\n",
        "        mayor_diversidad = área\n",
        "\n",
        "print(f'Área con la mayor diversidad biológica: {mayor_diversidad}')"
      ],
      "metadata": {
        "colab": {
          "base_uri": "https://localhost:8080/"
        },
        "id": "pdA-PaUhH5jf",
        "outputId": "1ed9045d-d5a4-48e3-d94c-a4dc0d108046"
      },
      "execution_count": null,
      "outputs": [
        {
          "output_type": "stream",
          "name": "stdout",
          "text": [
            "El Área Norte tiene un promedio de 5027.5 especies\n",
            "El Área Este tiene un promedio de 5466.0 especies\n",
            "El Área Sur tiene un promedio de 6732.5 especies\n",
            "El Área Oeste tiene un promedio de 32067.0 especies\n",
            "El Área Centro tiene un promedio de 33853.0 especies\n",
            "Área con la mayor diversidad biológica: Área Centro\n"
          ]
        }
      ]
    },
    {
      "cell_type": "code",
      "source": [
        "#Desafio #15\n",
        "#media = Suma de los promedios / cantidad de datos\n",
        "Sectores = {'Setor A': [22, 26, 30, 30, 35, 38, 40, 56, 57, 65],\n",
        "            'Setor B': [22, 24, 26, 33, 41, 49, 50, 54, 60, 64],\n",
        "            'Setor C': [23, 26, 26, 29, 34, 35, 36, 41, 52, 56],\n",
        "            'Setor D': [19, 20, 25, 27, 34, 39, 42, 44, 50, 65]}\n",
        "\n",
        "Media_Sectores = []\n",
        "Media_General = 0\n",
        "Mayor_MediaG = 0\n",
        "Contador = 0\n",
        "\n",
        "for Sector, Edad in Sectores.items():\n",
        "  Media_Sectores.append((sum(Edad)/len(Edad)))\n",
        "  print(f\"La edad Media del {Sector} es de: {Media_Sectores[Contador]}\")\n",
        "  Contador += 1\n",
        "\n",
        "Media_General = round(sum(Media_Sectores)/len(Media_Sectores), 0)\n",
        "for Sector, Edad in Sectores.items():\n",
        "  for i in Edad:\n",
        "    if i > Media_General:\n",
        "      Mayor_MediaG += 1\n",
        "print(f\"La Media general es de: {Media_General}\\nHay {Mayor_MediaG} trabajadores por encima de la media general\")"
      ],
      "metadata": {
        "id": "i0JIvKg3KNGf",
        "colab": {
          "base_uri": "https://localhost:8080/"
        },
        "outputId": "40356b44-bdda-435a-871b-bb15f2ebccef"
      },
      "execution_count": null,
      "outputs": [
        {
          "output_type": "stream",
          "name": "stdout",
          "text": [
            "La edad Media del Setor A es de: 39.9\n",
            "La edad Media del Setor B es de: 42.3\n",
            "La edad Media del Setor C es de: 35.8\n",
            "La edad Media del Setor D es de: 36.5\n",
            "La Media general es de: 39.0\n",
            "Hay 17 trabajadores por encima de la media general\n"
          ]
        }
      ]
    },
    {
      "cell_type": "markdown",
      "source": [
        "#fin del Curso"
      ],
      "metadata": {
        "id": "t3ymBoiJGgtg"
      }
    }
  ]
}