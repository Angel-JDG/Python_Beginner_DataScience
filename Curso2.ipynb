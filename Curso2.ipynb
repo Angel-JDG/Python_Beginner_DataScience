{
  "nbformat": 4,
  "nbformat_minor": 0,
  "metadata": {
    "colab": {
      "provenance": [],
      "include_colab_link": true
    },
    "kernelspec": {
      "name": "python3",
      "display_name": "Python 3"
    },
    "language_info": {
      "name": "python"
    }
  },
  "cells": [
    {
      "cell_type": "markdown",
      "metadata": {
        "id": "view-in-github",
        "colab_type": "text"
      },
      "source": [
        "<a href=\"https://colab.research.google.com/github/Angel-JDG/Python_Beginner_DataScience/blob/test/Curso2.ipynb\" target=\"_parent\"><img src=\"https://colab.research.google.com/assets/colab-badge.svg\" alt=\"Open In Colab\"/></a>"
      ]
    },
    {
      "cell_type": "markdown",
      "source": [
        "# <font color=green> **PYTHON PARA DATA SCIENCE**\n",
        "---"
      ],
      "metadata": {
        "id": "AGc2Cf4cBwd7"
      }
    },
    {
      "cell_type": "markdown",
      "source": [
        "## <font color=green> 1. BIBLIOTECAS\n",
        "---"
      ],
      "metadata": {
        "id": "fH2br9y9CYZ8"
      }
    },
    {
      "cell_type": "markdown",
      "source": [
        "## 1.1 Instalación e importación de bibliotecas\n",
        "\n",
        "En el lenguaje Python se utiliza bastante el concepto de bibliotecas como un conjunto de módulos y funciones útiles para el usuario. Estas favorecen la reducción del uso de códigos en el proyecto, manteniendo únicamente los recursos necesarios para la tarea que deseamos realizar."
      ],
      "metadata": {
        "id": "jjEKgfiuFzHz"
      }
    },
    {
      "cell_type": "markdown",
      "source": [
        "### Instalando una biblioteca"
      ],
      "metadata": {
        "id": "JjpazCgqDRfZ"
      }
    },
    {
      "cell_type": "markdown",
      "source": [
        "Para instalar o actualizar una biblioteca en Python, podemos acudir a `pip` que es un gestor de bibliotecas en Python."
      ],
      "metadata": {
        "id": "_qnuIo7oIQYx"
      }
    },
    {
      "cell_type": "markdown",
      "source": [
        "Existe también PYPI que es un repositorio de bibliotecas Python que contiene las bibliotecas más utilizadas por la comunidad junto a su respectiva documentación.\n",
        "\n",
        "- PYPI ([https://pypi.org/](https://pypi.org/))"
      ],
      "metadata": {
        "id": "IHTmQnlXInD1"
      }
    },
    {
      "cell_type": "code",
      "source": [
        "!pip install matplotlib"
      ],
      "metadata": {
        "id": "Rv5sIo7NM5VS",
        "colab": {
          "base_uri": "https://localhost:8080/"
        },
        "collapsed": true,
        "outputId": "4d2c7cde-99e9-4402-8ab6-c3cfbe7ab8fd"
      },
      "execution_count": null,
      "outputs": [
        {
          "output_type": "stream",
          "name": "stdout",
          "text": [
            "Requirement already satisfied: matplotlib in /usr/local/lib/python3.11/dist-packages (3.10.0)\n",
            "Requirement already satisfied: contourpy>=1.0.1 in /usr/local/lib/python3.11/dist-packages (from matplotlib) (1.3.2)\n",
            "Requirement already satisfied: cycler>=0.10 in /usr/local/lib/python3.11/dist-packages (from matplotlib) (0.12.1)\n",
            "Requirement already satisfied: fonttools>=4.22.0 in /usr/local/lib/python3.11/dist-packages (from matplotlib) (4.57.0)\n",
            "Requirement already satisfied: kiwisolver>=1.3.1 in /usr/local/lib/python3.11/dist-packages (from matplotlib) (1.4.8)\n",
            "Requirement already satisfied: numpy>=1.23 in /usr/local/lib/python3.11/dist-packages (from matplotlib) (2.0.2)\n",
            "Requirement already satisfied: packaging>=20.0 in /usr/local/lib/python3.11/dist-packages (from matplotlib) (24.2)\n",
            "Requirement already satisfied: pillow>=8 in /usr/local/lib/python3.11/dist-packages (from matplotlib) (11.2.1)\n",
            "Requirement already satisfied: pyparsing>=2.3.1 in /usr/local/lib/python3.11/dist-packages (from matplotlib) (3.2.3)\n",
            "Requirement already satisfied: python-dateutil>=2.7 in /usr/local/lib/python3.11/dist-packages (from matplotlib) (2.9.0.post0)\n",
            "Requirement already satisfied: six>=1.5 in /usr/local/lib/python3.11/dist-packages (from python-dateutil>=2.7->matplotlib) (1.17.0)\n"
          ]
        }
      ]
    },
    {
      "cell_type": "code",
      "source": [
        "matplotlib.__version__"
      ],
      "metadata": {
        "id": "REYsDRqHM6hN",
        "colab": {
          "base_uri": "https://localhost:8080/",
          "height": 38
        },
        "collapsed": true,
        "outputId": "2e3e9aab-1d16-4cd9-e743-10ec219f2300"
      },
      "execution_count": null,
      "outputs": [
        {
          "output_type": "execute_result",
          "data": {
            "text/plain": [
              "'3.10.0'"
            ],
            "application/vnd.google.colaboratory.intrinsic+json": {
              "type": "string"
            }
          },
          "metadata": {},
          "execution_count": 4
        }
      ]
    },
    {
      "cell_type": "markdown",
      "source": [
        "### Importando una biblioteca"
      ],
      "metadata": {
        "id": "A76TbnDbDehe"
      }
    },
    {
      "cell_type": "code",
      "source": [
        "import matplotlib"
      ],
      "metadata": {
        "id": "_xUxLlZFM728"
      },
      "execution_count": null,
      "outputs": []
    },
    {
      "cell_type": "code",
      "source": [
        "#!pip install matplotlib == 3.10.1 para unstalar una version en especifico"
      ],
      "metadata": {
        "id": "xy035zQzM75b"
      },
      "execution_count": null,
      "outputs": []
    },
    {
      "cell_type": "code",
      "source": [
        "import matplotlib.pyplot as plt #importanmos el modulo en este caso pyplot, y le asignamos un \"sobrenombre\" es decir 'plt', para no escribir 'matplotlib.pyplot' siempre"
      ],
      "metadata": {
        "id": "e6gMDilmVtq4"
      },
      "execution_count": null,
      "outputs": []
    },
    {
      "cell_type": "markdown",
      "source": [
        "## 1.2 Utilizando módulos/bibliotecas\n",
        "\n",
        "- Documentación de Python (https://docs.python.org/es/3/)"
      ],
      "metadata": {
        "id": "oMxkV9-6GXwH"
      }
    },
    {
      "cell_type": "markdown",
      "source": [
        "#### Ejemplo 1: Vamos a probar la biblioteca Matplotlib para un ejemplo sobre el cálculo de los promedios de notas de los estudiantes de una clase.\n",
        "\n",
        "(https://matplotlib.org/stable/tutorials/introductory/pyplot.html)"
      ],
      "metadata": {
        "id": "W1MHaXB2Q7tT"
      }
    },
    {
      "cell_type": "code",
      "source": [
        "from matplotlib import pyplot as plt #otra forma de importar el modulo"
      ],
      "metadata": {
        "id": "hme-WlDYM-Od"
      },
      "execution_count": null,
      "outputs": []
    },
    {
      "cell_type": "code",
      "source": [
        "Estudiantes = [\"Juan\", \"Maria\", \"Pedro\"]\n",
        "Notas = [9, 8.5, 6.5]"
      ],
      "metadata": {
        "id": "mv1h3vJsM-RK"
      },
      "execution_count": null,
      "outputs": []
    },
    {
      "cell_type": "code",
      "source": [
        "plt.bar(x = Estudiantes, height = Notas)\n",
        "plt.show()"
      ],
      "metadata": {
        "id": "GK77H828M-Zk",
        "colab": {
          "base_uri": "https://localhost:8080/",
          "height": 430
        },
        "collapsed": true,
        "outputId": "beb6b5d6-d149-4520-cba6-830f53768d22"
      },
      "execution_count": null,
      "outputs": [
        {
          "output_type": "display_data",
          "data": {
            "text/plain": [
              "<Figure size 640x480 with 1 Axes>"
            ],
            "image/png": "[encoded data removed]"
          },
          "metadata": {}
        }
      ]
    },
    {
      "cell_type": "markdown",
      "source": [
        "#### Ejemplo 2: Vamos a seleccionar aleatoriamente a un alumno para presentar su trabajo de ciencia de datos usando la biblioteca `random`.\n",
        "\n",
        "(https://docs.python.org/es/3/library/random.html)"
      ],
      "metadata": {
        "id": "5G6u4ZRYRIFZ"
      }
    },
    {
      "cell_type": "code",
      "source": [
        "Estudiantes_2 = [\"Juan\", \"Maria\", \"Pedro\", \"Angel\"]"
      ],
      "metadata": {
        "id": "Y4o2AvhWNBdM"
      },
      "execution_count": null,
      "outputs": []
    },
    {
      "cell_type": "code",
      "source": [
        "import random"
      ],
      "metadata": {
        "id": "9fXfsVnANBiG"
      },
      "execution_count": null,
      "outputs": []
    },
    {
      "cell_type": "markdown",
      "source": [
        "<font color=green>**Tip:**</font> Podrás notar a medida que avanzas en los ejercicios la importancia de acudir a la documentación para aprender cómo utilizar un método de algún módulo en el lenguaje Python.\n",
        "\n",
        "El método `help()`, por ejemplo, retorna una descripción sobre una variable, método o clase.\n",
        "\n",
        "https://docs.python.org/es/3/library/functions.html?#help"
      ],
      "metadata": {
        "id": "N-XJrnISGpTN"
      }
    },
    {
      "cell_type": "code",
      "source": [
        "from random import choice"
      ],
      "metadata": {
        "id": "a2zJCXNUND9X"
      },
      "execution_count": null,
      "outputs": []
    },
    {
      "cell_type": "code",
      "source": [
        "Estudiantes = choice(Estudiantes_2)\n",
        "Estudiantes"
      ],
      "metadata": {
        "id": "2Yvr71PIND_r",
        "colab": {
          "base_uri": "https://localhost:8080/",
          "height": 38
        },
        "outputId": "ac46f182-3472-43ca-8a46-6b6698a68094"
      },
      "execution_count": null,
      "outputs": [
        {
          "output_type": "execute_result",
          "data": {
            "text/plain": [
              "'Pedro'"
            ],
            "application/vnd.google.colaboratory.intrinsic+json": {
              "type": "string"
            }
          },
          "metadata": {},
          "execution_count": 24
        }
      ]
    },
    {
      "cell_type": "code",
      "source": [
        "help(choice)"
      ],
      "metadata": {
        "id": "UFfZz4CxNGjU",
        "colab": {
          "base_uri": "https://localhost:8080/"
        },
        "outputId": "8aa8b597-4adc-40dc-fbff-ddd3ce53cc0d"
      },
      "execution_count": null,
      "outputs": [
        {
          "output_type": "stream",
          "name": "stdout",
          "text": [
            "Help on method choice in module random:\n",
            "\n",
            "choice(seq) method of random.Random instance\n",
            "    Choose a random element from a non-empty sequence.\n",
            "\n"
          ]
        }
      ]
    },
    {
      "cell_type": "code",
      "source": [
        "#Desafio #1\n",
        "from random import randrange\n",
        "cantidad = int(input(\"Ingrese el  numero de participantes: \"))\n",
        "\n",
        "ganador = randrange(1, cantidad+1)\n",
        "ganador"
      ],
      "metadata": {
        "colab": {
          "base_uri": "https://localhost:8080/"
        },
        "id": "OITyM2pLTZnl",
        "outputId": "4f6b0be0-4c60-4465-a9c4-f4c204821333"
      },
      "execution_count": null,
      "outputs": [
        {
          "name": "stdout",
          "output_type": "stream",
          "text": [
            "Ingrese el  numero de participantes: 10\n"
          ]
        },
        {
          "output_type": "execute_result",
          "data": {
            "text/plain": [
              "9"
            ]
          },
          "metadata": {},
          "execution_count": 30
        }
      ]
    },
    {
      "cell_type": "code",
      "source": [
        "#Desafio #2\n",
        "from random import randrange\n",
        "Nombre = str(input(\"Ingrese su nombre: \"))\n",
        "Token = randrange(1000, 9998+1, 2)\n",
        "print(f\"{Nombre}, su token es {Token}\")"
      ],
      "metadata": {
        "colab": {
          "base_uri": "https://localhost:8080/"
        },
        "id": "tQIAAuN0VXnT",
        "outputId": "aac3ef95-a4c8-4432-bcc4-ceff9ffa7a2d"
      },
      "execution_count": null,
      "outputs": [
        {
          "output_type": "stream",
          "name": "stdout",
          "text": [
            "Ingrese su nombre: Angel\n",
            "Angel, su token es 7972\n"
          ]
        }
      ]
    },
    {
      "cell_type": "code",
      "source": [
        "#Desafio #3\n",
        "from random import choice\n",
        "frutas = [\"manzana\", \"banana\", \"uva\", \"pera\", \"mango\", \"coco\", \"sandia\", \"fresa\", \"naranja\", \"maracuya\", \"kiwi\", \"cereza\"]\n",
        "Ensalada = []\n",
        "contador = 0\n",
        "while contador < 3:\n",
        "  Ensalada.append(choice(frutas))\n",
        "  contador+=1\n",
        "Ensalada"
      ],
      "metadata": {
        "colab": {
          "base_uri": "https://localhost:8080/"
        },
        "id": "--rOCMZhgnYr",
        "outputId": "13c3ce00-4f4f-45b1-b0a9-b150efaa9315"
      },
      "execution_count": null,
      "outputs": [
        {
          "output_type": "execute_result",
          "data": {
            "text/plain": [
              "['uva', 'maracuya', 'fresa']"
            ]
          },
          "metadata": {},
          "execution_count": 37
        }
      ]
    },
    {
      "cell_type": "code",
      "source": [
        "#desafio #3 - By Alura\n",
        "import random\n",
        "\n",
        "frutas = [\"manzana\", \"banana\", \"uva\", \"pera\", \"mango\", \"coco\", \"sandia\", \"fresa\", \"naranja\", \"maracuya\", \"kiwi\", \"cereza\"]\n",
        "seleccion_frutas = random.sample(frutas, 3)\n",
        "print(\"Ensalada de frutas sorpresa:\", seleccion_frutas)"
      ],
      "metadata": {
        "colab": {
          "base_uri": "https://localhost:8080/"
        },
        "id": "gUQJ9XZLiJMS",
        "outputId": "f9b0e285-8f9e-454e-81d8-6947d1d9a82e"
      },
      "execution_count": null,
      "outputs": [
        {
          "output_type": "stream",
          "name": "stdout",
          "text": [
            "Ensalada de frutas sorpresa: ['banana', 'mango', 'kiwi']\n"
          ]
        }
      ]
    },
    {
      "cell_type": "code",
      "source": [
        "#Desafio #4\n",
        "from math import sqrt\n",
        "numeros = [2, 8, 15, 23, 91, 112, 256]\n",
        "\n",
        "for i in numeros:\n",
        "  raiz2 = sqrt(i)\n",
        "  if raiz2 %1 == 0:\n",
        "    print(f\"El numero {i} tiene raiz entera es: {raiz2}\")\n",
        "  else:\n",
        "    print(f\"El numero {i} no tiene raiz entera es: {raiz2}\")\n"
      ],
      "metadata": {
        "colab": {
          "base_uri": "https://localhost:8080/"
        },
        "id": "qiwKLz0JinV5",
        "outputId": "db9932f3-4185-4f4e-8111-77b21e2308d9"
      },
      "execution_count": null,
      "outputs": [
        {
          "output_type": "stream",
          "name": "stdout",
          "text": [
            "El numero 2 no tiene raiz entera es: 1.4142135623730951\n",
            "El numero 8 no tiene raiz entera es: 2.8284271247461903\n",
            "El numero 15 no tiene raiz entera es: 3.872983346207417\n",
            "El numero 23 no tiene raiz entera es: 4.795831523312719\n",
            "El numero 91 no tiene raiz entera es: 9.539392014169456\n",
            "El numero 112 no tiene raiz entera es: 10.583005244258363\n",
            "El numero 256 tiene raiz entera es: 16.0\n"
          ]
        }
      ]
    },
    {
      "cell_type": "code",
      "source": [
        "#Desafio #5\n",
        "from math import pi\n",
        "Costo = 25\n",
        "radio = float(input(\"Ingrese el Radio de area circular: \"))\n",
        "Precio = (pi * radio **2)*25\n",
        "print(f\"El precio a pagar es de {Precio:.2F}\")"
      ],
      "metadata": {
        "colab": {
          "base_uri": "https://localhost:8080/"
        },
        "id": "Yuuj4RAPlcTO",
        "outputId": "d3cae0b6-2c2b-4f7c-aa72-83dfc9658637"
      },
      "execution_count": null,
      "outputs": [
        {
          "output_type": "stream",
          "name": "stdout",
          "text": [
            "Ingrese el Radio de area circular: 5\n",
            "El precio a pagar es de 1963.50\n"
          ]
        }
      ]
    },
    {
      "cell_type": "markdown",
      "source": [
        "## <font color=green> 2. FUNCIONES\n",
        "---"
      ],
      "metadata": {
        "id": "2hrSPmlcBwWS"
      }
    },
    {
      "cell_type": "markdown",
      "source": [
        "En Python, las **funciones** son secuencias de instrucciones que ejecutan tareas específicas, permitiendo su reutilización en diferentes partes del código. Estas pueden recibir parámetros de entrada (que también los conocemos como *inputs*) y también retornar resultados."
      ],
      "metadata": {
        "id": "gC4lHsW-DREY"
      }
    },
    {
      "cell_type": "markdown",
      "source": [
        "## 2.1 Built-in function (Función Incorporada)\n",
        "\n",
        "El interpretador de Python contiene una serie de funciones incorporadas que pueden ser invocadas es cualquier momento. Algunas que vamos a utilizar a lo largo de este curso son: `type()`, `print()`, `list()`, `zip()`, `sum()`, `map()`, etc.\n",
        "\n",
        "***Documentación:***\n",
        "https://docs.python.org/es/3/library/functions.html\n"
      ],
      "metadata": {
        "id": "Qr_h1_UNEzHZ"
      }
    },
    {
      "cell_type": "markdown",
      "source": [
        "#### **Situación 1:**\n",
        "\n",
        "La institución educativa para la cual nos encontramos trabajando compartió los datos de las notas de un estudiante para que pudiesemos calcular su promedio con una casilla decimal.\n",
        "\n",
        "Los datos recibidos corresponden a un diccionario cuyas llaves indican el trimestre en cuestión y sus valores corresponden a las notas de cada trimestre del estudiante en una respectiva materia."
      ],
      "metadata": {
        "id": "MMOJIW3TyLIB"
      }
    },
    {
      "cell_type": "markdown",
      "source": [
        "*Redondear el promedio usando round():*\n",
        "\n",
        "https://docs.python.org/es/3/library/functions.html#round"
      ],
      "metadata": {
        "id": "JD2z3LW8312E"
      }
    },
    {
      "cell_type": "markdown",
      "source": [
        "## 2.2 Creando funciones"
      ],
      "metadata": {
        "id": "NCUSezOJIdfy"
      }
    },
    {
      "cell_type": "markdown",
      "source": [
        "Tras explorar las funciones incorporadas y aprender cómo utilizar algunas de ellas, es posible que tengas la necesidad de resolver un problema específico y estas no sean suficientes.\n",
        "\n",
        "Por este motivo, necesitaremos crear nuestras propias funciones, y aún más, si necesitamos aplicarlas en varias partes de nuestros códigos."
      ],
      "metadata": {
        "id": "QrTAXwghsg6s"
      }
    },
    {
      "cell_type": "markdown",
      "source": [
        "### Funciones sin parámetros\n",
        "\n",
        "#### Formato estándar:\n",
        "\n",
        "```python\n",
        "def <nombre>():\n",
        "  <instrucciones>\n",
        "```"
      ],
      "metadata": {
        "id": "zxyXiX462A_X"
      }
    },
    {
      "cell_type": "code",
      "source": [
        "def Promedio():\n",
        "  Calculo = (10+9+7)/3\n",
        "  print(Calculo)\n",
        "#funciones sin parametros son aquellas que el usuario no ingresa parametro o no hay datos externos a la funcion en si"
      ],
      "metadata": {
        "id": "WgWoULpnMSrT"
      },
      "execution_count": null,
      "outputs": []
    },
    {
      "cell_type": "code",
      "source": [
        "Promedio()"
      ],
      "metadata": {
        "id": "VKfg0zkDMStp",
        "colab": {
          "base_uri": "https://localhost:8080/"
        },
        "outputId": "f6279e42-8205-4b1b-97a9-983a1c0da0d6"
      },
      "execution_count": null,
      "outputs": [
        {
          "output_type": "stream",
          "name": "stdout",
          "text": [
            "8.666666666666666\n"
          ]
        }
      ]
    },
    {
      "cell_type": "code",
      "source": [],
      "metadata": {
        "id": "04YIHBu-MTNB"
      },
      "execution_count": null,
      "outputs": []
    },
    {
      "cell_type": "markdown",
      "source": [
        "### Funciones con parámetros\n",
        "\n",
        "#### Formato estándar:\n",
        "\n",
        "```python\n",
        "def <nombre>(<param_1>, <param_2>, ..., <param_n>):\n",
        "  <instrucciones>\n",
        "```"
      ],
      "metadata": {
        "id": "o9AR_DNDFKSD"
      }
    },
    {
      "cell_type": "code",
      "source": [
        "def Promedio(Nota_1, Nota_2, Nota_3):\n",
        "  Calculo = (Nota_1+Nota_2+Nota_3)/3\n",
        "  print(Calculo)"
      ],
      "metadata": {
        "id": "1QHJXCYsMUx3"
      },
      "execution_count": null,
      "outputs": []
    },
    {
      "cell_type": "code",
      "source": [
        "Promedio(10, 9, 7)"
      ],
      "metadata": {
        "id": "txkkIwheMU0n",
        "colab": {
          "base_uri": "https://localhost:8080/"
        },
        "outputId": "78e68ae9-6782-42fc-c7f8-26b83d15ae15"
      },
      "execution_count": null,
      "outputs": [
        {
          "output_type": "stream",
          "name": "stdout",
          "text": [
            "8.666666666666666\n"
          ]
        }
      ]
    },
    {
      "cell_type": "code",
      "source": [
        "Promedio(Nota_1=10, Nota_2=9, Nota_3=7)"
      ],
      "metadata": {
        "id": "Pq88ApQEMWK9",
        "colab": {
          "base_uri": "https://localhost:8080/"
        },
        "outputId": "a1b6fb29-3e75-4d87-85ed-68f52c0280d6"
      },
      "execution_count": null,
      "outputs": [
        {
          "output_type": "stream",
          "name": "stdout",
          "text": [
            "8.666666666666666\n"
          ]
        }
      ]
    },
    {
      "cell_type": "markdown",
      "source": [
        "#### **Situación 2:**\n",
        "\n",
        "Recibimos una solicitud para crear una función que calcule el promedio de notas de un estudiante a partir de una lista; que permita alterar la cantidad de notas, y que no implique tener que modificar la función.\n",
        "\n",
        "Los datos recibidos, en esta ocasión, corresponden a una lista que contiene las notas de un mismo estudiante en una determinada materia.\n",
        "\n",
        "notas = 8.5, 9.0, 6.0, 10.0\n",
        "\n",
        "**¿Vamos a resolver este desafío?**\n",
        "\n",
        "Para facilitar nuestra comprensión del proceso, vamos a aplicar las notas de un único estudiante; sin embargo, puedes probar otros casos para practicar."
      ],
      "metadata": {
        "id": "-Umx7n134suz"
      }
    },
    {
      "cell_type": "code",
      "source": [
        "notas = [8.5, 9.0, 6.0, 10.0]"
      ],
      "metadata": {
        "id": "U4MlTO9ucAKc"
      },
      "execution_count": null,
      "outputs": []
    },
    {
      "cell_type": "code",
      "source": [
        "def Promedio(lista):\n",
        "  Calculo = sum(lista)/len(lista)\n",
        "  print(Calculo)"
      ],
      "metadata": {
        "id": "ZrqyDBNFMYOK"
      },
      "execution_count": null,
      "outputs": []
    },
    {
      "cell_type": "code",
      "source": [
        "Promedio(notas)"
      ],
      "metadata": {
        "id": "wEkixagwMY2E",
        "colab": {
          "base_uri": "https://localhost:8080/"
        },
        "outputId": "99f01f7a-cea5-4f65-8a56-80f99f634fe7"
      },
      "execution_count": null,
      "outputs": [
        {
          "output_type": "stream",
          "name": "stdout",
          "text": [
            "8.375\n"
          ]
        }
      ]
    },
    {
      "cell_type": "code",
      "source": [
        "Media = Promedio(notas)"
      ],
      "metadata": {
        "id": "60Gvxd9tMa5d",
        "colab": {
          "base_uri": "https://localhost:8080/"
        },
        "outputId": "b7a507e8-7702-4622-8d41-ad283c630ccf"
      },
      "execution_count": null,
      "outputs": [
        {
          "output_type": "stream",
          "name": "stdout",
          "text": [
            "8.375\n"
          ]
        }
      ]
    },
    {
      "cell_type": "code",
      "source": [
        "type(Media)"
      ],
      "metadata": {
        "id": "ezP3cPEjxUkO",
        "outputId": "3f02a9c3-caf6-4bf4-8fd7-9272275afa55",
        "colab": {
          "base_uri": "https://localhost:8080/"
        }
      },
      "execution_count": null,
      "outputs": [
        {
          "output_type": "execute_result",
          "data": {
            "text/plain": [
              "NoneType"
            ]
          },
          "metadata": {},
          "execution_count": 60
        }
      ]
    },
    {
      "cell_type": "markdown",
      "source": [
        "<font color=red>**Atención!**</font>\n",
        "Cuando utilizamos funciones, necesitamos prestar atención a una propiedad llamada **Alcance de una función**. Esta propiedad determina dónde una variable puede ser utilizada dentro del código. Por ejemplo, una variable creada dentro de una función existirá únicamente dentro de esta función. O sea, cuando finaliza la ejecución de una función, la variable no estará disponible para el usuario en el resto del código."
      ],
      "metadata": {
        "id": "skMq7d0_xHND"
      }
    },
    {
      "cell_type": "code",
      "source": [],
      "metadata": {
        "id": "yTOqJSgsMbdJ"
      },
      "execution_count": null,
      "outputs": []
    },
    {
      "cell_type": "markdown",
      "source": [
        "## 2.3 Funciones que retornan valores\n",
        "\n",
        "#### Formato estándar:\n",
        "\n",
        "```python\n",
        "def <nombre>(<param_1>, <param_2>, ..., <param_n>):\n",
        "  <instrucciones>\n",
        "  return resultado\n",
        "```"
      ],
      "metadata": {
        "id": "-oDFGKcA52kG"
      }
    },
    {
      "cell_type": "markdown",
      "source": [
        "Retomando la actividad anterior, podemos retornar y guardar el valor del promedio de la siguiente forma:"
      ],
      "metadata": {
        "id": "DxvT_uItbQ-q"
      }
    },
    {
      "cell_type": "code",
      "source": [
        "# Notas del estudiante\n",
        "notas = [8.5, 9.0, 6.0, 10.0]"
      ],
      "metadata": {
        "id": "GlWdnX7Ubgl3"
      },
      "execution_count": null,
      "outputs": []
    },
    {
      "cell_type": "code",
      "source": [
        "def Promedio(lista):\n",
        "  Resultado = sum(lista)/len(lista)\n",
        "  return Resultado"
      ],
      "metadata": {
        "id": "JdMFsT9GMgI6"
      },
      "execution_count": null,
      "outputs": []
    },
    {
      "cell_type": "code",
      "source": [
        "Promedio(notas)"
      ],
      "metadata": {
        "id": "p7AwNnTCMgLf",
        "colab": {
          "base_uri": "https://localhost:8080/"
        },
        "outputId": "45a489a0-1d18-4d95-96b7-eac9bfeaaef7"
      },
      "execution_count": null,
      "outputs": [
        {
          "output_type": "execute_result",
          "data": {
            "text/plain": [
              "8.375"
            ]
          },
          "metadata": {},
          "execution_count": 3
        }
      ]
    },
    {
      "cell_type": "code",
      "source": [
        "Resultado = Promedio(notas)"
      ],
      "metadata": {
        "id": "35zC247QMgRP"
      },
      "execution_count": null,
      "outputs": []
    },
    {
      "cell_type": "code",
      "source": [
        "type(Resultado)"
      ],
      "metadata": {
        "id": "TjmB8IWpMgV4",
        "colab": {
          "base_uri": "https://localhost:8080/"
        },
        "outputId": "905dae13-a1f8-44ca-804a-6f36e116865b"
      },
      "execution_count": null,
      "outputs": [
        {
          "output_type": "execute_result",
          "data": {
            "text/plain": [
              "float"
            ]
          },
          "metadata": {},
          "execution_count": 8
        }
      ]
    },
    {
      "cell_type": "markdown",
      "source": [
        "#### **Situación 3:**\n",
        "\n",
        "Recibimos una nueva solicitud. Debemos calcular el promedio de un estudiante a partir de una lista y retornar tanto el promedio como la situación del estudiante (\"Aprobado(a)\" si la nota es mayor o igual a 7.0, en caso contrario, será \"Reprobado(a)\").\n",
        "\n",
        "Además de ello, necesitamos exhibir un pequeño texto para indicar el promedio del estudiante y cuál es su situación. Los datos recibidos corresponden a una lista que contiene apenas las notas de un estudiante en una materia determinada.\n",
        "\n",
        "**¿Vamos a resolver este desafío?**\n",
        "\n",
        "Para facilitar nuestra comprensión del proceso, vamos a aplicar las notas de un único estudiante; sin embargo, puedes probar otros casos para practicar."
      ],
      "metadata": {
        "id": "_awyOKOH8OOi"
      }
    },
    {
      "cell_type": "code",
      "source": [
        "# Notas del estudiante\n",
        "notas = [8.5, 9.0, 6.0, 10.0]"
      ],
      "metadata": {
        "id": "3saGo2kDf0BY"
      },
      "execution_count": null,
      "outputs": []
    },
    {
      "cell_type": "code",
      "source": [
        "def Boletin(lista):\n",
        "  Resultado = sum(lista)/len(lista)\n",
        "  if Resultado >= 7:\n",
        "    Situacion = \"Aprobado\"\n",
        "  else:\n",
        "    Situacion = \"Reprobado\"\n",
        "  return (Resultado, Situacion)"
      ],
      "metadata": {
        "id": "unNLrdFjMjbv"
      },
      "execution_count": null,
      "outputs": []
    },
    {
      "cell_type": "code",
      "source": [
        "Boletin(notas)"
      ],
      "metadata": {
        "id": "Rmvg4hNeMjeD",
        "colab": {
          "base_uri": "https://localhost:8080/"
        },
        "outputId": "40f99f15-83ca-4122-ad68-b6c0cf2c62be"
      },
      "execution_count": null,
      "outputs": [
        {
          "output_type": "execute_result",
          "data": {
            "text/plain": [
              "(8.375, 'Aprobado')"
            ]
          },
          "metadata": {},
          "execution_count": 7
        }
      ]
    },
    {
      "cell_type": "code",
      "source": [
        "Resultado, Situacion = Boletin(notas)"
      ],
      "metadata": {
        "id": "jCYuFpmeMji6"
      },
      "execution_count": null,
      "outputs": []
    },
    {
      "cell_type": "code",
      "source": [
        "print(f\"El estudiante obtuvo {Resultado} y su situación es de {Situacion}\")"
      ],
      "metadata": {
        "id": "hSht0Z2cMjlT",
        "colab": {
          "base_uri": "https://localhost:8080/"
        },
        "outputId": "0654fe7c-d2b2-4bbd-aa74-051f4c28026d"
      },
      "execution_count": null,
      "outputs": [
        {
          "output_type": "stream",
          "name": "stdout",
          "text": [
            "El estudiante obtuvo 8.375 y su situación es de Aprobado\n"
          ]
        }
      ]
    },
    {
      "cell_type": "code",
      "source": [
        "def Boletin(lista):\n",
        "  Resultado = sum(lista)/len(lista)\n",
        "  if Resultado >= 7:\n",
        "    Situacion = \"Aprobado\"\n",
        "  else:\n",
        "    Situacion = \"Reprobado\"\n",
        "  return print(f\"El estudiante obtuvo {Resultado} y su situación es de {Situacion}\")"
      ],
      "metadata": {
        "id": "tLdjCulMMjnD"
      },
      "execution_count": null,
      "outputs": []
    },
    {
      "cell_type": "code",
      "source": [
        "notas_2 = [7.5, 4.0, 3.0, 10.0]"
      ],
      "metadata": {
        "id": "oZwxy1ovAudX"
      },
      "execution_count": null,
      "outputs": []
    },
    {
      "cell_type": "code",
      "source": [
        "Boletin(notas_2)"
      ],
      "metadata": {
        "colab": {
          "base_uri": "https://localhost:8080/"
        },
        "id": "aVUqdsgqAubI",
        "outputId": "f961de1f-41ff-4cce-af19-0060dd5e0d89"
      },
      "execution_count": null,
      "outputs": [
        {
          "output_type": "stream",
          "name": "stdout",
          "text": [
            "El estudiante obtuvo 6.125 y su situación es de Reprobado\n"
          ]
        }
      ]
    },
    {
      "cell_type": "markdown",
      "source": [
        "## 2.4 Funciones lambda\n",
        "\n",
        "También se conocen como funciones anónimas, son funciones que no necesitan ser definidas, o sea, no poseen un nombre, y describen en una única fila los comandos que deseamos aplicar.\n",
        "\n",
        "https://docs.python.org/es/3/reference/expressions.html?#lambda\n",
        "\n",
        "#### Formato estándar:\n",
        "\n",
        "```python\n",
        "lambda <variable>: <expresion>\n",
        "```"
      ],
      "metadata": {
        "id": "hwYYRpkZMft5"
      }
    },
    {
      "cell_type": "code",
      "source": [
        "nota_ = float(input(\"Digite una nota: \"))"
      ],
      "metadata": {
        "id": "wcNxDJoPMmTJ",
        "colab": {
          "base_uri": "https://localhost:8080/"
        },
        "outputId": "ec65ab3b-1f65-44eb-f1e8-f1235eec378d"
      },
      "execution_count": null,
      "outputs": [
        {
          "name": "stdout",
          "output_type": "stream",
          "text": [
            "Digite una nota: 2.3\n"
          ]
        }
      ]
    },
    {
      "cell_type": "code",
      "source": [
        "def cualitativa(nota):\n",
        "  return nota+0.5\n",
        "\n",
        "cualitativa(nota_)"
      ],
      "metadata": {
        "id": "S-baAoaQMmVy",
        "colab": {
          "base_uri": "https://localhost:8080/"
        },
        "outputId": "f2abc3fb-98db-439d-a264-ed8f211ec725"
      },
      "execution_count": null,
      "outputs": [
        {
          "output_type": "execute_result",
          "data": {
            "text/plain": [
              "2.8"
            ]
          },
          "metadata": {},
          "execution_count": 21
        }
      ]
    },
    {
      "cell_type": "code",
      "source": [
        "nota_ = float(input(\"Digite una nota: \"))\n",
        "\n",
        "cualitativa = lambda x: x + 0.5\n",
        "\n",
        "cualitativa(nota_)"
      ],
      "metadata": {
        "colab": {
          "base_uri": "https://localhost:8080/"
        },
        "id": "0Hwroq2NEvKK",
        "outputId": "0564a8c9-c3f7-4207-e7e3-af77fdc8ac86"
      },
      "execution_count": null,
      "outputs": [
        {
          "name": "stdout",
          "output_type": "stream",
          "text": [
            "Digite una nota: 6\n"
          ]
        },
        {
          "output_type": "execute_result",
          "data": {
            "text/plain": [
              "6.5"
            ]
          },
          "metadata": {},
          "execution_count": 25
        }
      ]
    },
    {
      "cell_type": "code",
      "source": [],
      "metadata": {
        "id": "yhZZdDnGEvwg"
      },
      "execution_count": null,
      "outputs": []
    },
    {
      "cell_type": "code",
      "source": [],
      "metadata": {
        "id": "TngPBXrOEuuG"
      },
      "execution_count": null,
      "outputs": []
    },
    {
      "cell_type": "markdown",
      "source": [
        "#### **Situación 4:**\n",
        "\n",
        "En esta nueva solicitud, necesitamos crear una calculadora simple para obtener el promedio ponderado de notas de una materia determinada. Vamos a pedir que el usuario introduzca 3 notas (N1, N2, N3) del estudiante y devuelva el promedio ponderado de este estudiante. Los pesos de las notas son de, respectivamente 3, 2 y 5.\n",
        "\n",
        "Necesitamos exhibir un pequeño texto para poder indicar el promedio del estudiante.\n",
        "**¿Vamos a resolver este desafío?**\n"
      ],
      "metadata": {
        "id": "AuRWyNXYgD_b"
      }
    },
    {
      "cell_type": "markdown",
      "source": [
        "**Resolviendo nuestro problema:**"
      ],
      "metadata": {
        "id": "vdKk3DRBmtUE"
      }
    },
    {
      "cell_type": "code",
      "source": [
        "nota1 = float(input(\"Digite la primera nota: \"))\n",
        "nota2 = float(input(\"Digite La segunda nota: \"))\n",
        "nota3 = float(input(\"Digite La tercera nota: \"))\n",
        "\n",
        "ponderado = lambda x,y,z: (x*3 + y*2 + z*5)/10\n",
        "\n",
        "Nota_final = ponderado (nota1, nota2, nota3)"
      ],
      "metadata": {
        "id": "6YxEn9aiMnYJ",
        "colab": {
          "base_uri": "https://localhost:8080/"
        },
        "outputId": "0dacd3b0-dd45-46e3-e9c7-e37b5550854b"
      },
      "execution_count": null,
      "outputs": [
        {
          "name": "stdout",
          "output_type": "stream",
          "text": [
            "Digite la primera nota: 8\n",
            "Digite La segunda nota: 7\n",
            "Digite La tercera nota: 9.6\n"
          ]
        }
      ]
    },
    {
      "cell_type": "code",
      "source": [
        "print(f\"La nota final del estudiante es de: {Nota_final}\")"
      ],
      "metadata": {
        "id": "Ptn9gQaPMnaz",
        "colab": {
          "base_uri": "https://localhost:8080/"
        },
        "outputId": "8aeca06f-6ea6-489b-d3d3-71e29de6548f"
      },
      "execution_count": null,
      "outputs": [
        {
          "output_type": "stream",
          "name": "stdout",
          "text": [
            "La nota final del estudiante es de: 8.6\n"
          ]
        }
      ]
    },
    {
      "cell_type": "markdown",
      "source": [
        "#### **Situación 5:**\n",
        "\n",
        "Ahora, debemos crear una pequeña función que permita dar una nota cualitativa (puntaje extra) a las notas del trimestre de los estudiantes del grupo que ganó el concurso de programación realizado en la institución. Cada estudiante recibirá el cualitativo de 0.5 añadido al promedio.\n",
        "\n",
        "Los datos recibidos corresponden a una lista que contiene las notas de algunos estudiantes y una variable con el cualitativo recibido.\n",
        "\n",
        "**¿Vamos a resolver este desafío?**\n",
        "\n",
        "Para facilitar nuestra comprensión del proceso, vamos a aplicar las notas de 5 estudiantes; sin embargo, puedes probar otros casos para practicar."
      ],
      "metadata": {
        "id": "1qk0gLdfFcbf"
      }
    },
    {
      "cell_type": "code",
      "source": [
        "# Notas del estudiante\n",
        "notas = [6.0, 7.0, 9.0, 5.5, 8.0]\n",
        "cualitativo = 0.5"
      ],
      "metadata": {
        "id": "RdoaWhuVI_OB"
      },
      "execution_count": null,
      "outputs": []
    },
    {
      "cell_type": "code",
      "source": [
        "Nota_actualizada = lambda x: x+0.5"
      ],
      "metadata": {
        "id": "PzDfbv-kMq2t"
      },
      "execution_count": null,
      "outputs": []
    },
    {
      "cell_type": "code",
      "source": [
        "Nota_actualizada(notas)"
      ],
      "metadata": {
        "id": "3YDQ39wFMq5u",
        "colab": {
          "base_uri": "https://localhost:8080/",
          "height": 205
        },
        "outputId": "747588a2-a7fd-4898-e918-27b21ad46ec6"
      },
      "execution_count": null,
      "outputs": [
        {
          "output_type": "error",
          "ename": "TypeError",
          "evalue": "can only concatenate list (not \"float\") to list",
          "traceback": [
            "\u001b[0;31m---------------------------------------------------------------------------\u001b[0m",
            "\u001b[0;31mTypeError\u001b[0m                                 Traceback (most recent call last)",
            "\u001b[0;32m<ipython-input-7-ea57d351926b>\u001b[0m in \u001b[0;36m<cell line: 0>\u001b[0;34m()\u001b[0m\n\u001b[0;32m----> 1\u001b[0;31m \u001b[0mNota_actualizada\u001b[0m\u001b[0;34m(\u001b[0m\u001b[0mnotas\u001b[0m\u001b[0;34m)\u001b[0m\u001b[0;34m\u001b[0m\u001b[0;34m\u001b[0m\u001b[0m\n\u001b[0m",
            "\u001b[0;32m<ipython-input-6-eed518350dc7>\u001b[0m in \u001b[0;36m<lambda>\u001b[0;34m(x)\u001b[0m\n\u001b[0;32m----> 1\u001b[0;31m \u001b[0mNota_actualizada\u001b[0m \u001b[0;34m=\u001b[0m \u001b[0;32mlambda\u001b[0m \u001b[0mx\u001b[0m\u001b[0;34m:\u001b[0m \u001b[0mx\u001b[0m\u001b[0;34m+\u001b[0m\u001b[0;36m0.5\u001b[0m\u001b[0;34m\u001b[0m\u001b[0;34m\u001b[0m\u001b[0m\n\u001b[0m",
            "\u001b[0;31mTypeError\u001b[0m: can only concatenate list (not \"float\") to list"
          ]
        }
      ]
    },
    {
      "cell_type": "markdown",
      "source": [
        "### Mapeando valores\n",
        "\n",
        "#### Formato estándar:\n",
        "\n",
        "```python\n",
        "map(<lambda function>, <iterador>)\n",
        "```"
      ],
      "metadata": {
        "id": "SOK4BC4mmKbG"
      }
    },
    {
      "cell_type": "code",
      "source": [
        "Nota_actualizada = map(lambda x: x+0.5, notas)"
      ],
      "metadata": {
        "id": "ZbfpvfWJMsjv"
      },
      "execution_count": null,
      "outputs": []
    },
    {
      "cell_type": "code",
      "source": [
        "Nota_actualizada"
      ],
      "metadata": {
        "id": "TA-zGLJfMseA",
        "colab": {
          "base_uri": "https://localhost:8080/"
        },
        "outputId": "a42ceb67-53fa-4d31-c8af-1ed21dd197bd"
      },
      "execution_count": null,
      "outputs": [
        {
          "output_type": "execute_result",
          "data": {
            "text/plain": [
              "<map at 0x7abac4177a60>"
            ]
          },
          "metadata": {},
          "execution_count": 16
        }
      ]
    },
    {
      "cell_type": "code",
      "source": [
        "Nota_actualizada = list(Nota_actualizada)\n",
        "print(Nota_actualizada)\n",
        "print(notas)"
      ],
      "metadata": {
        "id": "PrAppvR6MuKm",
        "colab": {
          "base_uri": "https://localhost:8080/"
        },
        "outputId": "dcc63445-8f36-4b0b-8b0e-e000edbdb28a"
      },
      "execution_count": null,
      "outputs": [
        {
          "output_type": "stream",
          "name": "stdout",
          "text": [
            "[6.5, 7.5, 9.5, 6.0, 8.5]\n",
            "[6.0, 7.0, 9.0, 5.5, 8.0]\n"
          ]
        }
      ]
    },
    {
      "cell_type": "markdown",
      "source": [
        "###Desafios"
      ],
      "metadata": {
        "id": "_kibCUKWfRiD"
      }
    },
    {
      "cell_type": "code",
      "source": [
        "#Desafio #1\n",
        "lista = [16, 14, 63, 65, 17, 99, 70, 11, 20, 48, 79, 32, 17, 89, 12, 25, 66]\n",
        "# 1. Leer el tamaño de la lista\n",
        "# 2. Leer el valor máximo y mínimo\n",
        "# 3. Calcular la suma de los valores de la lista\n",
        "# 4. Mostrar un mensaje al final: La lista tiene `tamano` números, donde el mayor\n",
        "# es `mayor` y el menor es `menor`. La suma de los valores es `suma`.\n",
        "\n",
        "def lista_info(lista):\n",
        "  Tamaño = len(lista)\n",
        "  Minimo = min(lista)\n",
        "  Maximo = max(lista)\n",
        "  Suma = sum(lista)\n",
        "  print(f\"La lista tiene {Tamaño} números, donde el mayor es {Maximo} y el menor es {Minimo}. La suma de los valores es {Suma}.\")\n",
        "\n",
        "lista_info(lista)"
      ],
      "metadata": {
        "colab": {
          "base_uri": "https://localhost:8080/"
        },
        "id": "uAGL7NWkfQmK",
        "outputId": "a8ae7759-da63-41e2-ea82-6eab6fdb0cea"
      },
      "execution_count": null,
      "outputs": [
        {
          "output_type": "stream",
          "name": "stdout",
          "text": [
            "La lista tiene 17 números, donde el mayor es 99 y el menor es 11. La suma de los valores es 743.\n"
          ]
        }
      ]
    },
    {
      "cell_type": "code",
      "source": [
        "#Desafio #2\n",
        "def tabla(numero):\n",
        "  for i in range(1, 11):\n",
        "    print(f\"{numero} x {i} = {numero*i}\")\n",
        "num = int(input(\"Ingrese la tabla de multiplicar que desea visualizar: \"))\n",
        "tabla(num)"
      ],
      "metadata": {
        "colab": {
          "base_uri": "https://localhost:8080/"
        },
        "collapsed": true,
        "id": "gzre6pQWik1p",
        "outputId": "46ac5d74-600f-4977-b7af-dbcf9f49e7dc"
      },
      "execution_count": null,
      "outputs": [
        {
          "output_type": "stream",
          "name": "stdout",
          "text": [
            "Ingrese la tabla de multiplicar que desea visualizar: 2\n",
            "2 x 1 = 2\n",
            "2 x 2 = 4\n",
            "2 x 3 = 6\n",
            "2 x 4 = 8\n",
            "2 x 5 = 10\n",
            "2 x 6 = 12\n",
            "2 x 7 = 14\n",
            "2 x 8 = 16\n",
            "2 x 9 = 18\n",
            "2 x 10 = 20\n"
          ]
        }
      ]
    },
    {
      "cell_type": "code",
      "source": [
        "#Desafio #3\n",
        "lista = [97, 80, 94, 88, 80, 1, 16, 53, 62, 32, 24, 99]\n",
        "def multiplos_3(lista):\n",
        "  lista_nueva = []\n",
        "  for i in lista:\n",
        "    if i%3 == 0:\n",
        "      lista_nueva.append(i)\n",
        "  return lista_nueva\n",
        "\n",
        "multiplos_3(lista)"
      ],
      "metadata": {
        "colab": {
          "base_uri": "https://localhost:8080/"
        },
        "id": "xG2l18wajlW6",
        "outputId": "f8426da5-c541-4497-d485-bbaea8c2e4fd"
      },
      "execution_count": null,
      "outputs": [
        {
          "output_type": "execute_result",
          "data": {
            "text/plain": [
              "[24, 99]"
            ]
          },
          "metadata": {},
          "execution_count": 25
        }
      ]
    },
    {
      "cell_type": "code",
      "source": [
        "#Desafio #4\n",
        "lista = [1, 2, 3, 4, 5, 6, 7, 8, 9, 10]\n",
        "cuadrado = list(map(lambda x: x**2, lista))\n",
        "cuadrado"
      ],
      "metadata": {
        "colab": {
          "base_uri": "https://localhost:8080/"
        },
        "id": "zRs_bQz-mACh",
        "outputId": "7be5a13e-f3e5-4f61-d278-263bb5058769"
      },
      "execution_count": null,
      "outputs": [
        {
          "output_type": "execute_result",
          "data": {
            "text/plain": [
              "[1, 4, 9, 16, 25, 36, 49, 64, 81, 100]"
            ]
          },
          "metadata": {},
          "execution_count": 27
        }
      ]
    },
    {
      "cell_type": "code",
      "source": [
        "#Desafio #5\n",
        "'''\n",
        "Has sido contratado como científico(a) de datos de una asociación de skate.\n",
        "Para analizar las notas recibidas por los skaters en algunas competiciones a lo largo del año,\n",
        "necesitas crear un código que calcule la puntuación de los atletas.\n",
        "Para ello, tu código debe recibir 5 notas ingresadas por los jueces.\n",
        "'''\n",
        "n1 = float(input(\"Ingrese la primera nota: \"))\n",
        "n2 = float(input(\"Ingrese la segunda nota: \"))\n",
        "n3 = float(input(\"Ingrese la tercera nota: \"))\n",
        "n4 = float(input(\"Ingrese la cuarta nota: \"))\n",
        "n5 = float(input(\"Ingrese la quinta nota: \"))\n",
        "\n",
        "puntuacion = lambda a,b,c,d,e: a+b+c+d+e\n",
        "\n",
        "puntuaciónFinal = puntuacion(n1, n2, n3, n4, n5)\n",
        "print(f\"la puntuación final del skater es de {puntuaciónFinal}\")\n"
      ],
      "metadata": {
        "colab": {
          "base_uri": "https://localhost:8080/"
        },
        "id": "sylbsW8kmvl_",
        "outputId": "247cfc37-58bf-429b-d684-360ea7d8255d"
      },
      "execution_count": null,
      "outputs": [
        {
          "output_type": "stream",
          "name": "stdout",
          "text": [
            "Ingrese la primera nota: 2\n",
            "Ingrese la segunda nota: 2\n",
            "Ingrese la tercera nota: 2\n",
            "Ingrese la cuarta nota: 2\n",
            "Ingrese la quinta nota: 2\n",
            "la puntuación final del skater es de 10.0\n"
          ]
        }
      ]
    },
    {
      "cell_type": "code",
      "source": [
        "#Desafio #6\n",
        "'''\n",
        "Para cumplir con una demanda de una institución educativa para el análisis del rendimiento de sus estudiantes,\n",
        "necesitas crear una función que reciba una lista de 4 notas y devuelva:\n",
        "'''\n",
        "# mayor nota\n",
        "# menor nota\n",
        "# media\n",
        "# situación (Aprobado(a) o Reprobado(a))\n",
        "# Uso de la función\n",
        "# Mostrar: El estudiante obtuvo una media de `media`, con la mayor nota de `mayor` puntos y la menor nota de `menor` puntos y fue `situacion`.)\n",
        "notas = [4, 8, 9, 5,]\n",
        "\n",
        "def Calculo(lista):\n",
        "  Minimo = min(lista)\n",
        "  Maximo = max(lista)\n",
        "  Media = sum(lista)/len(lista)\n",
        "  if Media > 6:\n",
        "    situacion = \"Aprobado\"\n",
        "  else:\n",
        "    situacion  = \"Reprobado\"\n",
        "  return print(f\"El estudiante obtuvo una media de {Media}, con la mayor nota de {Maximo} puntos y la menor nota de {Minimo} puntos y fue {situacion}\")\n",
        "\n",
        "Calculo(notas)"
      ],
      "metadata": {
        "colab": {
          "base_uri": "https://localhost:8080/"
        },
        "id": "_ZnLXKbhosaF",
        "outputId": "eb0d3ca8-9841-4177-a59b-d97e4386751b"
      },
      "execution_count": null,
      "outputs": [
        {
          "output_type": "stream",
          "name": "stdout",
          "text": [
            "El estudiante obtuvo una media de 6.5, con la mayor nota de 9 puntos y la menor nota de 4 puntos y fue Aprobado\n"
          ]
        }
      ]
    },
    {
      "cell_type": "code",
      "source": [
        "#Desafio #7\n",
        "'''\n",
        "Has recibido una demanda para tratar 2 listas con los nombres y apellidos de cada estudiante\n",
        "concatenándolos para presentar sus nombres completos en la forma Nombre Apellido. Las listas son:\n",
        "'''\n",
        "nombres = [\"juan\", \"MaRia\", \"JOSÉ\"]\n",
        "apellidos = [\"SILVA\", \"sosa\", \"Tavares\"]\n",
        "\n",
        "# Normalizar nombres y apellidos y crear una nueva lista con los nombres completos\n",
        "# Puedes apoyarte en la función map()\n",
        "\n",
        "Nombre_completo = list(map(lambda a, b: a.lower().capitalize() +\" \"+ b.lower().capitalize(), nombres, apellidos))\n",
        "Nombre_completo"
      ],
      "metadata": {
        "colab": {
          "base_uri": "https://localhost:8080/"
        },
        "id": "jqh4574PtYcI",
        "outputId": "4155b9de-0f33-4db7-cd0b-86035519d4f7"
      },
      "execution_count": null,
      "outputs": [
        {
          "output_type": "execute_result",
          "data": {
            "text/plain": [
              "['Juan Silva', 'Maria Sosa', 'José Tavares']"
            ]
          },
          "metadata": {},
          "execution_count": 36
        }
      ]
    },
    {
      "cell_type": "code",
      "source": [
        "#Desafio #8\n",
        "'''\n",
        "Como científico de datos en un equipo de fútbol, necesitas implementar nuevas formas de recopilación de datos sobre el rendimiento de los jugadores y del equipo en su conjunto.\n",
        "Tu primera acción es crear una forma de calcular la puntuación del equipo en el campeonato nacional a partir de los datos de goles marcados y recibidos en cada juego.\n",
        "\n",
        "Escribe una función llamada calcula_puntos() que recibe como parámetros dos listas de números enteros, representando los goles marcados y recibidos por el equipo\n",
        "en cada partido del campeonato. La función debe devolver la puntuación del equipo y el rendimiento en porcentaje,\n",
        "teniendo en cuenta que la victoria vale 3 puntos, el empate 1 punto y la derrota 0 puntos.\n",
        "\n",
        "Nota: si la cantidad de goles marcados en un partido es mayor que los recibidos, el equipo ganó. En caso de ser igual, el equipo empató, y si es menor, el equipo perdió.\n",
        "Para calcular el rendimiento, debemos hacer la razón entre la puntuación del equipo y la puntuación máxima que podría recibir.\n",
        "'''\n",
        "goles_marcados = [2, 1, 3, 1, 0]\n",
        "goles_recibidos = [1, 2, 2, 1, 3]\n",
        "# Texto probablemente mostrado:\n",
        "# La puntuación del equipo fue `puntos` y su rendimiento fue `desempeno`%\"\n",
        "\n",
        "def calcula_puntos(Goles_Anotados, Goles_Recibidos):\n",
        "  Puntos = 0\n",
        "  for i, a in zip(Goles_Anotados, Goles_Recibidos):\n",
        "    if i == a:\n",
        "      Puntos += 1\n",
        "    elif i > a:\n",
        "      Puntos+=3\n",
        "\n",
        "  Rendimiento = (Puntos/(3*len(Goles_Anotados)))*100\n",
        "  return print(f\"La puntuación del equipo fue {Puntos} y su rendimiento fue {round(Rendimiento, 2)}%\")\n",
        "\n",
        "calcula_puntos(goles_marcados, goles_recibidos)"
      ],
      "metadata": {
        "colab": {
          "base_uri": "https://localhost:8080/"
        },
        "id": "4s6GOzVi1iM7",
        "outputId": "2b283922-f8e9-4de2-dedf-b4d0647811fb"
      },
      "execution_count": null,
      "outputs": [
        {
          "output_type": "stream",
          "name": "stdout",
          "text": [
            "La puntuación del equipo fue 7 y su rendimiento fue 46.67%\n"
          ]
        }
      ]
    },
    {
      "cell_type": "code",
      "source": [
        "#Desafio #9\n",
        "'''\n",
        "Te han desafiado a crear un código que calcule los gastos de un viaje a una de las cuatro ciudades desde Recife, siendo ellas: Salvador, Fortaleza, Natal y Aracaju.\n",
        "\n",
        "El costo diario del hotel es de 150 reales en todas ellas y el consumo de gasolina en el viaje en coche es de 14 km/l, siendo que el precio de la gasolina es de 5 reales por litro.\n",
        "Los gastos con paseos y alimentación a realizar en cada una de ellas por día serían [200, 400, 250, 300], respectivamente.\n",
        "\n",
        "Sabiendo que las distancias entre Recife y cada una de las ciudades son aproximadamente [850, 800, 300, 550] km, crea tres funciones:\n",
        "la primera función calcula los gastos de hotel (gasto_hotel), la segunda calcula los gastos de gasolina (gasto_gasolina) y la tercera los gastos de paseo y alimentación (gasto_paseo).\n",
        "\n",
        "Para probar, simula un viaje de 3 días a Salvador desde Recife. Considera el viaje de ida y vuelta en coche.\n",
        "'''\n",
        "# Texto probablemente mostrado:\n",
        "# Con base en los gastos definidos, un viaje de [dias] días a [ciudad] desde Recife costaría [gastos] reales.\n",
        "dias = int(input(\"Ingrese los días que durará el viaje: \"))\n",
        "Nombre = str(input(\"Ingrese el Nombre de la ciudad a la que viajará Salvador, Fortaleza, Natal, Aracaju: \")).strip().capitalize()\n",
        "Lista_ciudades = [\"Salvador\", \"Fortaleza\", \"Natal\", \"Aracaju\"]\n",
        "Costo_alimento = [200, 400, 250, 300]\n",
        "Costo_Distancia =  [850, 800, 300, 550]\n",
        "\n",
        "def Gasto_Hotel(dias):\n",
        "  return float(150*dias)\n",
        "\n",
        "def Gasto_Gasolina (lista_distancias, Nombre_Ciudad, Nombre):\n",
        "  Total_Gasolina = 0\n",
        "  for i, a in zip(lista_distancias, Nombre_Ciudad):\n",
        "    if Nombre == a:\n",
        "      return float(((i*2)/14)*5)\n",
        "\n",
        "def Gastos_Paseo(lista_alimentacion, Nombre_Ciudad, Nombre, dias):\n",
        "  Total_Alimentacion = 0\n",
        "  for i, a in zip(lista_alimentacion, Nombre_Ciudad):\n",
        "    if Nombre == a:\n",
        "      return float(i * dias)\n",
        "\n",
        "Total = Gasto_Hotel(dias)+Gasto_Gasolina(Costo_Distancia, Lista_ciudades, Nombre) + Gastos_Paseo(Costo_alimento, Lista_ciudades, Nombre, dias)\n",
        "\n",
        "print(f\"Con base en los gastos definidos, un viaje de {int(dias)} días a {Nombre} desde Recife costaría {Total:.2f} reales.\")\n"
      ],
      "metadata": {
        "colab": {
          "base_uri": "https://localhost:8080/"
        },
        "id": "vrCzp1WU6ES8",
        "outputId": "82b143d7-0d1c-4d6d-ed97-a88d6540d318"
      },
      "execution_count": null,
      "outputs": [
        {
          "output_type": "stream",
          "name": "stdout",
          "text": [
            "Ingrese los días que durará el viaje: 3\n",
            "Ingrese el Nombre de la ciudad a la que viajará Salvador, Fortaleza, Natal, Aracaju: Salvador\n",
            "450.0\n",
            "607.1428571428571\n",
            "600.0\n",
            "Con base en los gastos definidos, un viaje de 3 días a Salvador desde Recife costaría 1657.14 reales.\n"
          ]
        }
      ]
    },
    {
      "cell_type": "code",
      "source": [
        "#Desafio #10\n",
        "'''Has comenzado una pasantía en una empresa que trabaja con procesamiento de lenguaje natural (NLP).\n",
        "Tu líder te solicitó que crees un fragmento de código que reciba una frase escrita por el usuario y\n",
        "filtre solo las palabras con un tamaño mayor o igual a 5, mostrándolas en una lista. Esta demanda se\n",
        "centra en el análisis del patrón de comportamiento de las personas al escribir palabras de esta cantidad de caracteres o más.'''\n",
        "\n",
        "Frase = (input(\"Ingrese una frase: \")).replace(\",\", \" \").replace(\".\", \" \").replace(\"!\", \" \").replace(\"?\", \" \").split()\n",
        "longitud = list(filter(lambda x: len(x) >=5, Frase))\n",
        "print(longitud)"
      ],
      "metadata": {
        "id": "4uWov8B5Dti4",
        "colab": {
          "base_uri": "https://localhost:8080/"
        },
        "outputId": "c6d4f522-a901-4be5-f591-24802205c0b3"
      },
      "execution_count": null,
      "outputs": [
        {
          "output_type": "stream",
          "name": "stdout",
          "text": [
            "Ingrese una frase: Aprender Python aquí en Alura es muy bueno\n",
            "['Aprender', 'Python', 'Alura', 'bueno']\n"
          ]
        }
      ]
    },
    {
      "cell_type": "markdown",
      "source": [
        "2## <font color=green> 3. ESTRUCTURAS DE DATOS COMPUESTAS\n",
        "---"
      ],
      "metadata": {
        "id": "DoB6wf2JCYf7"
      }
    },
    {
      "cell_type": "markdown",
      "source": [
        "## 3.1 Estructuras anidadas\n",
        "\n",
        "Previamente, aprendimos a manipular las listas, tuplas y diccionarios para trabajar con una secuencia o colección de valores sean numéricos, categóricos, etc. En esta aula, vamos a profundizar en otra situación común para la persona científica de datos que es trabajar con estos tipos de estructuras anidadas, o sea, cuando, por ejemplo, tenemos listas dentro de una lista."
      ],
      "metadata": {
        "id": "3or6MbnZDW_b"
      }
    },
    {
      "cell_type": "markdown",
      "source": [
        "### **Lista de listas**\n",
        "\n",
        "#### Formato estándar:\n",
        "\n",
        "```python\n",
        "[[a1, a2,...,an], [b1, b2,...,bn], ..., [n1, n2,...,nn]]\n",
        "```"
      ],
      "metadata": {
        "id": "fddus1G9HqB3"
      }
    },
    {
      "cell_type": "markdown",
      "source": [
        "#### **Situación 6:**\n",
        "\n",
        "Recibimos la demanda de transformar una lista con el nombre y las notas de tres trimestres de algunos estudiantes en una lista simple, con los nombres separados de las notas, y una lista de listas con las tres notas de cada estudiante separadas entre sí. Los datos recibidos corresponden a una lista con los nombres y las respectivas notas de cada estudiante.\n",
        "\n",
        "**¿Vamos a resolver este desafío?**\n",
        "\n",
        "Para facilitar nuestra comprensión del proceso, vamos a trabajar con un grupo de 5 estudiantes; sin embargo, puedes probar otros casos para practicar.\n"
      ],
      "metadata": {
        "id": "32K5LA11tFpz"
      }
    },
    {
      "cell_type": "code",
      "source": [
        "notas_grupo = ['Juan', 8.0, 9.0, 10.0, 'Maria', 9.0, 7.0, 6.0, 'José', 3.4, 7.0, 7.0, 'Claudia', 5.5, 6.6, 8.0, 'Ana', 6.0, 10.0, 9.5]"
      ],
      "metadata": {
        "id": "jlEP-c2YthpB"
      },
      "execution_count": null,
      "outputs": []
    },
    {
      "cell_type": "code",
      "source": [
        "Nombres = []\n",
        "Notas = []\n",
        "\n",
        "for i in range(len(notas_grupo)):\n",
        "  if i %4 == 0:\n",
        "    Nombres.append(notas_grupo[i])\n",
        "  else:\n",
        "    Notas.append(notas_grupo[i])"
      ],
      "metadata": {
        "id": "azR_cX-ILghB"
      },
      "execution_count": null,
      "outputs": []
    },
    {
      "cell_type": "code",
      "source": [
        "Nombres"
      ],
      "metadata": {
        "id": "tB8FA20gLiog",
        "colab": {
          "base_uri": "https://localhost:8080/"
        },
        "outputId": "366fad91-04c9-4fcb-be0d-b70a23278fb8"
      },
      "execution_count": null,
      "outputs": [
        {
          "output_type": "execute_result",
          "data": {
            "text/plain": [
              "['Juan', 'Maria', 'José', 'Claudia', 'Ana']"
            ]
          },
          "metadata": {},
          "execution_count": 22
        }
      ]
    },
    {
      "cell_type": "code",
      "source": [
        "Notas"
      ],
      "metadata": {
        "colab": {
          "base_uri": "https://localhost:8080/"
        },
        "id": "hhhhWQAeXcyZ",
        "outputId": "62e6f52e-07a4-4892-ffc5-aeb5357117cb"
      },
      "execution_count": null,
      "outputs": [
        {
          "output_type": "execute_result",
          "data": {
            "text/plain": [
              "[8.0, 9.0, 10.0, 9.0, 7.0, 6.0, 3.4, 7.0, 7.0, 5.5, 6.6, 8.0, 6.0, 10.0, 9.5]"
            ]
          },
          "metadata": {},
          "execution_count": 32
        }
      ]
    },
    {
      "cell_type": "code",
      "source": [
        "Notas_separadas = []\n",
        "for i in range(0, len(Notas), 3):\n",
        "  Notas_separadas.append([Notas[i], Notas[i+1], Notas[i+2]])\n",
        "Notas_separadas"
      ],
      "metadata": {
        "id": "SCi8Jl82Liqo",
        "colab": {
          "base_uri": "https://localhost:8080/"
        },
        "outputId": "5e70b548-a367-4873-b3e7-5bd2d27c99de"
      },
      "execution_count": null,
      "outputs": [
        {
          "output_type": "execute_result",
          "data": {
            "text/plain": [
              "[[8.0, 9.0, 10.0],\n",
              " [9.0, 7.0, 6.0],\n",
              " [3.4, 7.0, 7.0],\n",
              " [5.5, 6.6, 8.0],\n",
              " [6.0, 10.0, 9.5]]"
            ]
          },
          "metadata": {},
          "execution_count": 34
        }
      ]
    },
    {
      "cell_type": "markdown",
      "source": [
        "### **Lista de tuplas**\n",
        "\n",
        "#### Formato estándar:\n",
        "\n",
        "```python\n",
        "[(a1, a2,...,an), (b1, b2,...,bn), ..., (n1, n2,...,nn)]\n",
        "```"
      ],
      "metadata": {
        "id": "SW0sVg68sK_z"
      }
    },
    {
      "cell_type": "markdown",
      "source": [
        "#### **Situación 7:**\n",
        "\n",
        "Necesitamos generar una lista de tuplas con los nombres de los estudiantes y el código ID de cada uno de ellos para la plataforma de análisis de datos. La creación del código consiste en concatenar la primera letra del nombre del estudiante con un número aleatorio de 0 a 999. Los datos recibidos corresponden a una lista con los nombres de cada estudiante.\n",
        "\n",
        "**¿Vamos a resolver este desafío?**\n",
        "\n",
        "Para facilitar nuestra comprensión del proceso, vamos a trabajar con un grupo de 5 estudiantes; sin embargo, puedes probar otros casos para practicar.\n"
      ],
      "metadata": {
        "id": "OId6jAZz5x2m"
      }
    },
    {
      "cell_type": "code",
      "source": [
        "Nombres\n"
      ],
      "metadata": {
        "id": "YA1zJ0G6LkTy",
        "colab": {
          "base_uri": "https://localhost:8080/"
        },
        "outputId": "4a1fe5bd-4f1e-4232-ba5f-a7ceac0cde11"
      },
      "execution_count": null,
      "outputs": [
        {
          "output_type": "execute_result",
          "data": {
            "text/plain": [
              "['Juan', 'Maria', 'José', 'Claudia', 'Ana']"
            ]
          },
          "metadata": {},
          "execution_count": 42
        }
      ]
    },
    {
      "cell_type": "code",
      "source": [
        "from random import randint"
      ],
      "metadata": {
        "id": "yBzPwhGiLkWa"
      },
      "execution_count": null,
      "outputs": []
    },
    {
      "cell_type": "code",
      "source": [
        "def genera_num():\n",
        "  return randint(0, 999)"
      ],
      "metadata": {
        "id": "9qgGAjSyLndK"
      },
      "execution_count": null,
      "outputs": []
    },
    {
      "cell_type": "code",
      "source": [
        "Id_estudiante = []\n",
        "for i in range(len(Nombres)):\n",
        "  Id_estudiante.append((Nombres[i], Nombres[i][0] + str(genera_num())))\n",
        "\n",
        "Id_estudiante"
      ],
      "metadata": {
        "id": "jVRxtOyeLngM",
        "colab": {
          "base_uri": "https://localhost:8080/"
        },
        "outputId": "09c7e274-7bd2-4393-80e5-690793de9bf7"
      },
      "execution_count": null,
      "outputs": [
        {
          "output_type": "execute_result",
          "data": {
            "text/plain": [
              "[('Juan', 'J395'),\n",
              " ('Maria', 'M210'),\n",
              " ('José', 'J700'),\n",
              " ('Claudia', 'C97'),\n",
              " ('Ana', 'A610')]"
            ]
          },
          "metadata": {},
          "execution_count": 48
        }
      ]
    },
    {
      "cell_type": "markdown",
      "source": [
        "## 3.2 List comprehension\n",
        "\n",
        "Es una forma simple y concisa de crear una lista. Podemos aplicar condicionales y lazos para crear diversos tipos de listas a partir de patrones que deseamos para nuestra estructura de datos.\n",
        "\n",
        "https://docs.python.org/es/3/tutorial/datastructures.html?#list-comprehensions\n",
        "\n",
        "#### Formato estándar:\n",
        "\n",
        "```python\n",
        "[expresion for item in lista]\n",
        "```"
      ],
      "metadata": {
        "id": "srHAov19QCdb"
      }
    },
    {
      "cell_type": "markdown",
      "source": [
        "#### **Situación 8:**\n",
        "\n",
        "Recibimos la demanda de crear una lista con el promedio de los estudiantes de la lista de listas que creamos en la Situación 6, redondeando el promedio a una casilla decimal. Recordando que cada lista de la lista de listas contiene las tres notas de cada estudiante.\n",
        "\n",
        "**¿Vamos a resolver este desafío?**\n",
        "\n",
        "**Tip:** Utiliza el formato:\n",
        "```python\n",
        "[expresion for item in lista]\n",
        "```"
      ],
      "metadata": {
        "id": "l4HW0gDqecgM"
      }
    },
    {
      "cell_type": "code",
      "source": [
        "def promedio(lista: list=[0]) -> float:\n",
        "  ''' Función para calcular el promedio de notas en una lista\n",
        "\n",
        "  lista: list, default [0]\n",
        "    Lista con las notas para calcular el promedio\n",
        "  return = calculo: float\n",
        "    Promedio calculado\n",
        "  '''\n",
        "\n",
        "  calculo = sum(lista) / len(lista)\n",
        "\n",
        "  return calculo"
      ],
      "metadata": {
        "id": "J_atQRQdlpNe"
      },
      "execution_count": null,
      "outputs": []
    },
    {
      "cell_type": "code",
      "source": [
        "Notas = [[8.0, 9.0, 10.0],\n",
        " [9.0, 7.0, 6.0],\n",
        " [3.4, 7.0, 7.0],\n",
        " [5.5, 6.6, 8.0],\n",
        " [6.0, 10.0, 9.5]]"
      ],
      "metadata": {
        "id": "h7LeBrgnLAG6"
      },
      "execution_count": null,
      "outputs": []
    },
    {
      "cell_type": "code",
      "source": [
        "promedios = [round(promedio(nota), 1)  for nota in Notas]\n",
        "promedios"
      ],
      "metadata": {
        "id": "3j8_H7e8LAJZ",
        "colab": {
          "base_uri": "https://localhost:8080/"
        },
        "outputId": "91ba5de3-b61b-4300-da8f-acd1add753a4"
      },
      "execution_count": null,
      "outputs": [
        {
          "output_type": "execute_result",
          "data": {
            "text/plain": [
              "[9.0, 7.3, 5.8, 6.7, 8.5]"
            ]
          },
          "metadata": {},
          "execution_count": 7
        }
      ]
    },
    {
      "cell_type": "markdown",
      "source": [
        "#### **Situación 9:**\n",
        "\n",
        "Ahora, necesitamos utilizar los promedios calculados en el ejemplo anterior, y agruparlos con el nombre de los respectivos estudiantes. Esto será necesario para generar una lista que seleccione a aquellos estudiantes que posean un promedio final mayor o igual a 8 para concursar por una beca de estudios para el próximo año lectivo. Los datos recibidos corresponden a una lista de tuplas con los nombres y los códigos de los estudiantes junto a la lista de promedios calculados previamente.\n",
        "\n",
        "**Nota: El número de código será diferente cada vez que se ejecute la celda que los genera, por lo tanto, es completamente normal que estos códigos sean diferentes.**\n",
        "\n",
        "**¿Vamos a resolver este desafío?**\n",
        "\n",
        "Para facilitar nuestra comprensión del proceso vamos a trabajar con un grupo de 5 estudiantes.\n",
        "\n",
        "**Tip:** Utiliza el formato:\n",
        "\n",
        "```python\n",
        "[expresion for item in lista if condicion]\n",
        "```"
      ],
      "metadata": {
        "id": "ApLjXlAdhJKd"
      }
    },
    {
      "cell_type": "code",
      "source": [
        "Nombres= [('Juan', 'J395'),\n",
        " ('Maria', 'M210'),\n",
        " ('José', 'J700'),\n",
        " ('Claudia', 'C97'),\n",
        " ('Ana', 'A610')]\n",
        "Promedios = [9.0, 7.3, 5.8, 6.7, 8.5]\n"
      ],
      "metadata": {
        "id": "QK-ubmmrLC7I"
      },
      "execution_count": null,
      "outputs": []
    },
    {
      "cell_type": "code",
      "source": [
        "Nombres_estudiantes = [nombre[0]for nombre in Nombres]\n",
        "Nombres_estudiantes"
      ],
      "metadata": {
        "id": "df1Q8GGELC9b",
        "colab": {
          "base_uri": "https://localhost:8080/"
        },
        "outputId": "c7bac70f-ee3a-481b-c6f9-34b6babef418"
      },
      "execution_count": null,
      "outputs": [
        {
          "output_type": "execute_result",
          "data": {
            "text/plain": [
              "['Juan', 'Maria', 'José', 'Claudia', 'Ana']"
            ]
          },
          "metadata": {},
          "execution_count": 12
        }
      ]
    },
    {
      "cell_type": "markdown",
      "source": [
        "<font color=green>**Tip:**</font> Para lograr parear los promedios y\n",
        "los nombres fácilmente, podemos acudir a otra  built-in function: `zip()`\n",
        "\n",
        "Esta recibe uno o más iterables (lista, string, dict, etc.) y los retorna como un iterador de tuplas donde cada elemento de los iterables es pareado."
      ],
      "metadata": {
        "id": "U6KAABs7Dfpe"
      }
    },
    {
      "cell_type": "code",
      "source": [
        "estudiante = list(zip(Nombres_estudiantes, Promedios))\n",
        "estudiante"
      ],
      "metadata": {
        "id": "841v92WvLEol",
        "colab": {
          "base_uri": "https://localhost:8080/"
        },
        "outputId": "b071a673-c996-4942-a39f-d0e8256b960e"
      },
      "execution_count": null,
      "outputs": [
        {
          "output_type": "execute_result",
          "data": {
            "text/plain": [
              "[('Juan', 9.0), ('Maria', 7.3), ('José', 5.8), ('Claudia', 6.7), ('Ana', 8.5)]"
            ]
          },
          "metadata": {},
          "execution_count": 14
        }
      ]
    },
    {
      "cell_type": "code",
      "source": [
        "Candidatos = [candidato[0] for candidato in estudiante if candidato[1] >= 8]\n",
        "Candidatos"
      ],
      "metadata": {
        "id": "U8b4G_2oLErp",
        "colab": {
          "base_uri": "https://localhost:8080/"
        },
        "outputId": "7a5f262e-f092-40bf-f8a3-f1a63707914b"
      },
      "execution_count": null,
      "outputs": [
        {
          "output_type": "execute_result",
          "data": {
            "text/plain": [
              "['Juan', 'Ana']"
            ]
          },
          "metadata": {},
          "execution_count": 16
        }
      ]
    },
    {
      "cell_type": "markdown",
      "source": [
        "#### **Situación 10:**\n",
        "\n",
        "Recibimos dos demandas sobre este proyecto con las notas de los estudiantes:\n",
        "- Crear una lista de la situación de los estudiantes considerando los siguientes casos: Si su promedio es mayor o igual a 7, recibirá el valor \"Aprobado\" y en caso contrario recibirá el valor \"Reprobado\".\n",
        "- Generar una lista de listas con:\n",
        "  - Lista de tuplas con el nombre de los estudiantes y sus códigos\n",
        "  - Lista de listas con las notas de cada estudiante\n",
        "  - Lista con los promedios de cada estudiante\n",
        "  - Lista de la situación de los estudiantes de acuerdo con los promedios\n",
        "\n",
        "Los datos que utilizaremos son los mismos que generamos en las situaciones anteriores (`nombres`, `notas`, `promedios`).\n",
        "\n",
        "**¿Vamos a resolver este desafío?**\n",
        "\n",
        "Para avanzar en el proceso, vamos a dejar escritas las estructuras de datos que ya produjimos.\n",
        "\n",
        "**Tip:** Para la lista de las situaciones utiliza el formato:\n",
        "```python\n",
        "[resultado_if if condicion else resultado_else for item in lista]\n",
        "```"
      ],
      "metadata": {
        "id": "9yzRDIB0fkeF"
      }
    },
    {
      "cell_type": "code",
      "source": [
        "Nombres= [('Juan', 'J395'),\n",
        " ('Maria', 'M210'),\n",
        " ('José', 'J700'),\n",
        " ('Claudia', 'C97'),\n",
        " ('Ana', 'A610')]\n",
        "\n",
        "Promedios = [9.0, 7.3, 5.8, 6.7, 8.5]\n",
        "\n",
        "Notas = [[8.0, 9.0, 10.0],\n",
        " [9.0, 7.0, 6.0],\n",
        " [3.4, 7.0, 7.0],\n",
        " [5.5, 6.6, 8.0],\n",
        " [6.0, 10.0, 9.5]]"
      ],
      "metadata": {
        "id": "YGQIaCzkLGqd"
      },
      "execution_count": null,
      "outputs": []
    },
    {
      "cell_type": "code",
      "source": [
        "Situacion = [\"Aprobado(a)\" if Promedio >=7 else \"Reporbado(a)\" for Promedio in Promedios]\n",
        "Situacion"
      ],
      "metadata": {
        "id": "OAAQHwE1LGs2",
        "colab": {
          "base_uri": "https://localhost:8080/"
        },
        "outputId": "93063631-08d1-42cc-84d3-c959e199a548"
      },
      "execution_count": null,
      "outputs": [
        {
          "output_type": "execute_result",
          "data": {
            "text/plain": [
              "['Aprobado(a)', 'Aprobado(a)', 'Reporbado(a)', 'Reporbado(a)', 'Aprobado(a)']"
            ]
          },
          "metadata": {},
          "execution_count": 21
        }
      ]
    },
    {
      "cell_type": "markdown",
      "source": [
        "**Tip:** Para generar la lista de listas del enunciado podemos utilizar el siguiente formato:\n",
        "```python\n",
        "[expresion for item in lista de listas]\n",
        "```"
      ],
      "metadata": {
        "id": "0XsAi49IF9Ta"
      }
    },
    {
      "cell_type": "code",
      "source": [
        "registros = [x for x in [Nombres, Promedios, Notas, Situacion]]\n",
        "registros"
      ],
      "metadata": {
        "id": "1Dj6R1vTLIbI",
        "colab": {
          "base_uri": "https://localhost:8080/"
        },
        "outputId": "8f0b5b88-5bfc-46c5-d03d-11417bcc509b"
      },
      "execution_count": null,
      "outputs": [
        {
          "output_type": "execute_result",
          "data": {
            "text/plain": [
              "[[('Juan', 'J395'),\n",
              "  ('Maria', 'M210'),\n",
              "  ('José', 'J700'),\n",
              "  ('Claudia', 'C97'),\n",
              "  ('Ana', 'A610')],\n",
              " [9.0, 7.3, 5.8, 6.7, 8.5],\n",
              " [[8.0, 9.0, 10.0],\n",
              "  [9.0, 7.0, 6.0],\n",
              "  [3.4, 7.0, 7.0],\n",
              "  [5.5, 6.6, 8.0],\n",
              "  [6.0, 10.0, 9.5]],\n",
              " ['Aprobado(a)', 'Aprobado(a)', 'Reporbado(a)', 'Reporbado(a)', 'Aprobado(a)']]"
            ]
          },
          "metadata": {},
          "execution_count": 23
        }
      ]
    },
    {
      "cell_type": "code",
      "source": [],
      "metadata": {
        "id": "cTLEQQ2eLIqc"
      },
      "execution_count": null,
      "outputs": []
    },
    {
      "cell_type": "markdown",
      "source": [
        "<font color=green>**Tip:**</font> Podemos acudir a la forma más simple de generación de lista de listas con el uso directo de los corchetes sin la necesidad de utilizar las expresiones y el lazo `for` que se emplea en la comprensión de listas."
      ],
      "metadata": {
        "id": "4hkHEZGbGH7X"
      }
    },
    {
      "cell_type": "code",
      "source": [
        "lista_completa = [Nombres, Notas, Promedios, Situacion]"
      ],
      "metadata": {
        "id": "1tEtWzSoLKKg"
      },
      "execution_count": null,
      "outputs": []
    },
    {
      "cell_type": "code",
      "source": [
        "lista_completa"
      ],
      "metadata": {
        "id": "lRk02Bm5LMB3",
        "colab": {
          "base_uri": "https://localhost:8080/"
        },
        "outputId": "47cbaaad-9eec-4a3d-897b-9ec837e711ee"
      },
      "execution_count": null,
      "outputs": [
        {
          "output_type": "execute_result",
          "data": {
            "text/plain": [
              "[[('Juan', 'J395'),\n",
              "  ('Maria', 'M210'),\n",
              "  ('José', 'J700'),\n",
              "  ('Claudia', 'C97'),\n",
              "  ('Ana', 'A610')],\n",
              " [[8.0, 9.0, 10.0],\n",
              "  [9.0, 7.0, 6.0],\n",
              "  [3.4, 7.0, 7.0],\n",
              "  [5.5, 6.6, 8.0],\n",
              "  [6.0, 10.0, 9.5]],\n",
              " [9.0, 7.3, 5.8, 6.7, 8.5],\n",
              " ['Aprobado(a)', 'Aprobado(a)', 'Reporbado(a)', 'Reporbado(a)', 'Aprobado(a)']]"
            ]
          },
          "metadata": {},
          "execution_count": 25
        }
      ]
    },
    {
      "cell_type": "markdown",
      "source": [
        "## 3.3 Dict comprehension\n",
        "\n",
        "Es una forma simple y concisa de crear o modificar un diccionario. Podemos aplicar condicionales y lazos para crear diversos tipos de diccionarios a partir de los patrones que buscamos para nuestra estructura de datos y con el soporte de iterables como listas o sets.\n",
        "\n",
        "https://peps.python.org/pep-0274/\n",
        "\n",
        "#### Formato estándar:\n",
        "\n",
        "```python\n",
        "{llave: valor for item in lista}\n",
        "```"
      ],
      "metadata": {
        "id": "NmohhDl-QRpx"
      }
    },
    {
      "cell_type": "markdown",
      "source": [
        "#### **Situación 11:**\n",
        "\n",
        "Ahora, nuestra demanda consiste en generar un diccionario a partir de la lista de listas que creamos en la Situación 10 para entregar a la persona responsable por construir las tablas para el análisis de los datos.\n",
        "- Las llaves de nuestro diccionario serán las columnas identificando el tipo de dato\n",
        "- Los valores serán las listas con los datos correspondientes a aquella llave.\n",
        "\n",
        "**¿Vamos a resolver este desafío?**\n",
        "\n",
        "Para facilitar nuestra comprensión del proceso vamos a trabajar con un grupo de 5 estudiantes.\n",
        "\n",
        "**Tip:** Utiliza el formato\n",
        "\n",
        "```python\n",
        "{llave: valor for item in lista}\n",
        "```"
      ],
      "metadata": {
        "id": "kGt8hQXOKeIt"
      }
    },
    {
      "cell_type": "code",
      "source": [
        "lista_completa = [\n",
        "                  [('Juan', 'J395'), ('Maria', 'M210'), ('José', 'J700'), ('Claudia', 'C97'), ('Ana', 'A610')],\n",
        "                  [[8.0, 9.0, 10.0], [9.0, 7.0, 6.0], [3.4, 7.0, 7.0], [5.5, 6.6, 8.0], [6.0, 10.0, 9.5]],\n",
        "                  [9.0, 7.3, 5.8, 6.7, 8.5],\n",
        "                  ['Aprobado(a)', 'Aprobado(a)', 'Reporbado(a)', 'Reporbado(a)', 'Aprobado(a)']\n",
        "                  ]"
      ],
      "metadata": {
        "id": "GuTwYw8NLNST"
      },
      "execution_count": null,
      "outputs": []
    },
    {
      "cell_type": "code",
      "source": [
        "Columnas = [\"Notas\", \"Promedio Final,\", \"Situacion\"]\n",
        "Resgistro = {Columnas[i]: lista_completa[i+1] for i in range(len(Columnas))}\n",
        "Resgistro"
      ],
      "metadata": {
        "id": "Ka1JPCuvLP4x",
        "colab": {
          "base_uri": "https://localhost:8080/"
        },
        "outputId": "2decb608-1781-4c7b-9745-c83329cff3a9"
      },
      "execution_count": null,
      "outputs": [
        {
          "output_type": "execute_result",
          "data": {
            "text/plain": [
              "{'Notas': [[8.0, 9.0, 10.0],\n",
              "  [9.0, 7.0, 6.0],\n",
              "  [3.4, 7.0, 7.0],\n",
              "  [5.5, 6.6, 8.0],\n",
              "  [6.0, 10.0, 9.5]],\n",
              " 'Promedio Final,': [9.0, 7.3, 5.8, 6.7, 8.5],\n",
              " 'Situacion': ['Aprobado(a)',\n",
              "  'Aprobado(a)',\n",
              "  'Reporbado(a)',\n",
              "  'Reporbado(a)',\n",
              "  'Aprobado(a)']}"
            ]
          },
          "metadata": {},
          "execution_count": 28
        }
      ]
    },
    {
      "cell_type": "code",
      "source": [
        "Resgistro [\"Estudiantes\"] = [lista_completa[0][i][0] for i in range(len(lista_completa[0]))]"
      ],
      "metadata": {
        "id": "4GhlzfLbLP8L"
      },
      "execution_count": null,
      "outputs": []
    },
    {
      "cell_type": "code",
      "source": [
        "#Desafio #1\n",
        "'''\n",
        "Crea un código para imprimir la suma de los elementos de cada una de las listas contenidas en la siguiente lista\n",
        "'''\n",
        "lista_de_listas = [[4, 6, 5, 9], [1, 0, 7, 2], [3, 4, 1, 8]]\n",
        "\n",
        "suma_listas = [sum(lista_de_listas[i]) for i in range(len(lista_de_listas))]\n",
        "suma_listas"
      ],
      "metadata": {
        "colab": {
          "base_uri": "https://localhost:8080/"
        },
        "id": "O_UgoJEvMo81",
        "outputId": "36eb0ed8-3cd1-4f13-c134-ac5e7c3a4331"
      },
      "execution_count": null,
      "outputs": [
        {
          "output_type": "execute_result",
          "data": {
            "text/plain": [
              "[24, 10, 16]"
            ]
          },
          "metadata": {},
          "execution_count": 5
        }
      ]
    },
    {
      "cell_type": "code",
      "source": [
        "#Desafio #2\n",
        "'''\n",
        "Crea un código para generar una lista que almacene el tercer elemento de cada tupla contenida en la siguiente lista de tuplas\n",
        "'''\n",
        "lista_de_tuplas = [('Pedro', 1.74, 81), ('Júlia', 1.65, 67), ('Otávio', 1.81, 83)]\n",
        "\n",
        "lista = [lista_de_tuplas[i][2] for i in range(len(lista_de_tuplas[0]))]\n",
        "lista"
      ],
      "metadata": {
        "colab": {
          "base_uri": "https://localhost:8080/"
        },
        "id": "Fpv-fDQMOnas",
        "outputId": "1e5c2443-8daf-4085-b332-5e1b5ccb7787"
      },
      "execution_count": null,
      "outputs": [
        {
          "output_type": "execute_result",
          "data": {
            "text/plain": [
              "[81, 67, 83]"
            ]
          },
          "metadata": {},
          "execution_count": 11
        }
      ]
    },
    {
      "cell_type": "code",
      "source": [
        "#Desafio #3\n",
        "'''\n",
        "A partir de la lista: lista = ['Pedro', 'Júlia', 'Otávio', 'Eduardo'],\n",
        "crea un código para generar una lista de tuplas en la que cada tupla tenga el primer\n",
        "elemento como la posición del nombre en la lista original y el segundo elemento siendo el propio nombre\n",
        "'''\n",
        "lista = ['Pedro', 'Júlia', 'Otávio', 'Eduardo']\n",
        "lista_tupla = [(i ,lista[i]) for i in range(len(lista))]\n",
        "lista_tupla"
      ],
      "metadata": {
        "colab": {
          "base_uri": "https://localhost:8080/"
        },
        "id": "06HcAgsTQojC",
        "outputId": "aeab0676-2584-4d7f-dde3-b72ebcd6c1bf"
      },
      "execution_count": null,
      "outputs": [
        {
          "output_type": "execute_result",
          "data": {
            "text/plain": [
              "[(0, 'Pedro'), (1, 'Júlia'), (2, 'Otávio'), (3, 'Eduardo')]"
            ]
          },
          "metadata": {},
          "execution_count": 16
        }
      ]
    },
    {
      "cell_type": "code",
      "source": [
        "#Desafio #4\n",
        "'''\n",
        "Crea una lista usando la comprensión de listas (list comprehension) que almacene solo el valor numérico de cada tupla\n",
        "en caso de que el primer elemento sea 'Apartamento', a partir de la siguiente lista de tuplas:\n",
        "'''\n",
        "alquiler = [('Apartamento', 1700), ('Apartamento', 1400), ('Casa', 2150), ('Apartamento', 1900), ('Casa', 1100)]\n",
        "\n",
        "valor = [alquiler[i][1] for i in range(len(alquiler)) if alquiler[i][0].upper() == \"APARTAMENTO\"]\n",
        "valor"
      ],
      "metadata": {
        "colab": {
          "base_uri": "https://localhost:8080/"
        },
        "id": "RqYSTTGTT46y",
        "outputId": "083eaaf2-6b19-4622-bca6-4d92d1570f98"
      },
      "execution_count": null,
      "outputs": [
        {
          "output_type": "execute_result",
          "data": {
            "text/plain": [
              "[1700, 1400, 1900]"
            ]
          },
          "metadata": {},
          "execution_count": 19
        }
      ]
    },
    {
      "cell_type": "code",
      "source": [
        "#Deasfio #5\n",
        "'''\n",
        "Crea un diccionario usando la comprensión de diccionarios (dict comprehension) en el que las claves estén en la lista\n",
        "meses = ['Jan', 'Fev', 'Mar', 'Abr', 'Mai', 'Jun', 'Jul', 'Ago', 'Set', 'Out', 'Nov', 'Dez'] y\n",
        "los valores estén en gasto = [860, 490, 1010, 780, 900, 630, 590, 770, 620, 560, 840, 360].\n",
        "'''\n",
        "meses = ['Jan', 'Fev', 'Mar', 'Abr', 'Mai', 'Jun', 'Jul', 'Ago', 'Set', 'Out', 'Nov', 'Dez']\n",
        "gasto = [860, 490, 1010, 780, 900, 630, 590, 770, 620, 560, 840, 360]\n",
        "\n",
        "gasto_mes = {meses[i]: gasto[i] for i in range(len(meses))}\n",
        "gasto_mes"
      ],
      "metadata": {
        "colab": {
          "base_uri": "https://localhost:8080/"
        },
        "id": "R9RTXE-ebRsx",
        "outputId": "381903c5-93e4-4535-a63b-608167ea12e5"
      },
      "execution_count": null,
      "outputs": [
        {
          "output_type": "execute_result",
          "data": {
            "text/plain": [
              "{'Jan': 860,\n",
              " 'Fev': 490,\n",
              " 'Mar': 1010,\n",
              " 'Abr': 780,\n",
              " 'Mai': 900,\n",
              " 'Jun': 630,\n",
              " 'Jul': 590,\n",
              " 'Ago': 770,\n",
              " 'Set': 620,\n",
              " 'Out': 560,\n",
              " 'Nov': 840,\n",
              " 'Dez': 360}"
            ]
          },
          "metadata": {},
          "execution_count": 22
        }
      ]
    },
    {
      "cell_type": "code",
      "source": [
        "#Desafio #6\n",
        "'''\n",
        "Una tienda tiene una base de datos con la información de venta de cada representante y de cada año y necesita filtrar solo los datos del año 2022 con ventas mayores a 6000.\n",
        "La tienda proporcionó una muestra con solo las columnas de los años y los valores de venta para que puedas ayudar a realizar la filtración de los datos a través de un código\n",
        "'''\n",
        "\n",
        "ventas = [('2023', 4093),\n",
        "    ('2021', 4320),\n",
        "    ('2021', 5959),\n",
        "    ('2022', 8883),\n",
        "    ('2023', 9859),\n",
        "    ('2022', 5141),\n",
        "    ('2022', 7688),\n",
        "    ('2022', 9544),\n",
        "    ('2023', 4794),\n",
        "    ('2021', 7178),\n",
        "    ('2022', 3030),\n",
        "    ('2021', 7471),\n",
        "    ('2022', 4226),\n",
        "    ('2022', 8190),\n",
        "    ('2021', 9680),\n",
        "    ('2022', 5616)]\n",
        "lista_ventas = [ventas[i][1] for i in range(len(ventas)) if ventas[i][1] >= 6000 and ventas[i][0] == \"2022\"]\n",
        "lista_ventas"
      ],
      "metadata": {
        "colab": {
          "base_uri": "https://localhost:8080/"
        },
        "id": "DcZRt0mmdore",
        "outputId": "92a139bb-3c15-4317-d883-333fdf00af1b"
      },
      "execution_count": null,
      "outputs": [
        {
          "output_type": "execute_result",
          "data": {
            "text/plain": [
              "[8883, 7688, 9544, 8190]"
            ]
          },
          "metadata": {},
          "execution_count": 25
        }
      ]
    },
    {
      "cell_type": "code",
      "source": [
        "#Desafio #7\n",
        "'''\n",
        "Una clínica analiza datos de pacientes y almacena el valor numérico de la glucosa en una base de datos y le gustaría etiquetar los datos de la siguiente manera:\n",
        "\n",
        "Glucosa igual o inferior a 70: 'Hipoglicemia'\n",
        "Glucosa entre 70 y 99: 'Normal'\n",
        "Glucosa entre 100 y 125: 'Alterada'\n",
        "Glucosa superior a 125: 'Diabetes'\n",
        "La clínica proporcionó parte de los valores y tu tarea es crear una lista de tuplas usando la comprensión de listas que contenga la etiqueta y el valor de la glucemia en cada tupla.\n",
        "'''\n",
        "glicemia = [129, 82, 60, 97, 101, 65, 62, 167, 87, 53, 58, 92, 66, 120, 109, 62, 86, 96, 103, 88, 155, 52, 89, 73]\n",
        "\n",
        "etiquetas = [('Hipoglicemia', glicemia[i]) if glicemia[i] <= 70 else (('Normal', glicemia[i]) if 70 < glicemia[i] <99 else (('Alterada', glicemia[i]) if 100 <= glicemia[i] < 125 else ('Diabetes', glicemia[i]))) for i in range(len(glicemia))]\n",
        "etiquetas"
      ],
      "metadata": {
        "colab": {
          "base_uri": "https://localhost:8080/"
        },
        "id": "iPWaCfmSf_eW",
        "outputId": "6f75021c-c43e-46b8-a1ff-e147070fbacf"
      },
      "execution_count": null,
      "outputs": [
        {
          "output_type": "execute_result",
          "data": {
            "text/plain": [
              "[('Diabetes', 129),\n",
              " ('Normal', 82),\n",
              " ('Hipoglicemia', 60),\n",
              " ('Normal', 97),\n",
              " ('Alterada', 101),\n",
              " ('Hipoglicemia', 65),\n",
              " ('Hipoglicemia', 62),\n",
              " ('Diabetes', 167),\n",
              " ('Normal', 87),\n",
              " ('Hipoglicemia', 53),\n",
              " ('Hipoglicemia', 58),\n",
              " ('Normal', 92),\n",
              " ('Hipoglicemia', 66),\n",
              " ('Alterada', 120),\n",
              " ('Alterada', 109),\n",
              " ('Hipoglicemia', 62),\n",
              " ('Normal', 86),\n",
              " ('Normal', 96),\n",
              " ('Alterada', 103),\n",
              " ('Normal', 88),\n",
              " ('Diabetes', 155),\n",
              " ('Hipoglicemia', 52),\n",
              " ('Normal', 89),\n",
              " ('Normal', 73)]"
            ]
          },
          "metadata": {},
          "execution_count": 32
        }
      ]
    },
    {
      "cell_type": "code",
      "source": [
        "#Desafio #8\n",
        "'''\n",
        "Un comercio electrónico tiene información de id de venta, cantidad vendida y precio del producto divididos en las siguientes listas:\n",
        "'''\n",
        "id = [0, 1, 2, 3, 4, 5, 6, 7, 8, 9]\n",
        "cantidad = [15, 12, 1, 15, 2, 11, 2, 12, 2, 4]\n",
        "precio = [93.0, 102.0, 18.0, 41.0, 122.0, 14.0, 71.0, 48.0, 14.0, 144.0]\n",
        "\n",
        "'''\n",
        "La plataforma necesita estructurar estos datos en una tabla que contenga el valor total de la venta, que se obtiene multiplicando la cantidad por el precio unitario.\n",
        "Además, la tabla debe contener un encabezado indicando las columnas: 'id', 'cantidad', 'precio' y 'total'.\n",
        "Crea una lista de tuplas en la que cada tupla tenga id, cantidad, precio y valor total, siendo la primera tupla el encabezado de la tabla.\n",
        "'''\n",
        "productos = [(id[i], cantidad[i], precio[i], cantidad[i]*precio[i])for i in range(len(id))]\n",
        "productos"
      ],
      "metadata": {
        "colab": {
          "base_uri": "https://localhost:8080/"
        },
        "id": "fQb5BX1elPQt",
        "outputId": "79c9c729-30f6-4e0a-f00f-aa6cc2692b0e"
      },
      "execution_count": null,
      "outputs": [
        {
          "output_type": "execute_result",
          "data": {
            "text/plain": [
              "[(0, 15, 93.0, 1395.0),\n",
              " (1, 12, 102.0, 1224.0),\n",
              " (2, 1, 18.0, 18.0),\n",
              " (3, 15, 41.0, 615.0),\n",
              " (4, 2, 122.0, 244.0),\n",
              " (5, 11, 14.0, 154.0),\n",
              " (6, 2, 71.0, 142.0),\n",
              " (7, 12, 48.0, 576.0),\n",
              " (8, 2, 14.0, 28.0),\n",
              " (9, 4, 144.0, 576.0)]"
            ]
          },
          "metadata": {},
          "execution_count": 34
        }
      ]
    },
    {
      "cell_type": "code",
      "source": [
        "#Desafio #9 by Alura - Logica comprendida\n",
        "'''\n",
        "Una empresa tiene sucursales distribuidas en los estados de la región Sudeste de Brasil. En una de las tablas de registro de las sucursales,\n",
        "hay una columna que contiene la información de a qué estado pertenece:\n",
        "estados =['CMX', 'OAX', 'PUE', 'PUE', 'CMX', 'PUE', 'OAX', 'OAX', 'OAX', 'CMX', 'CMX', 'PUE', 'OAX', 'CMX', 'VER', 'PUE', 'VER', 'CMX', 'PUE', 'CMX', 'OAX', 'CMX', 'PUE'].\n",
        "\n",
        "La empresa siempre está abriendo nuevas sucursales, por lo que la tabla está constantemente recibiendo nuevos registros\n",
        "y al gerente le gustaría tener la información actualizada de la cantidad de sucursales en cada estado.\n",
        "\n",
        "A partir de la columna con la información de los estados, crea un diccionario utilizando la comprensión de diccionarios (dict comprehension)\n",
        "con la clave siendo el nombre de un estado y el valor siendo la cantidad de veces que aparece el estado en la lista.\n",
        "\n",
        "Consejo: Puedes hacer un paso intermedio para generar una lista de listas en la que cada una de las listas tenga el nombre de solo un estado con valores repetidos.\n",
        "'''\n",
        "estados = ['CMX', 'OAX', 'PUE', 'PUE', 'CMX', 'PUE', 'OAX', 'OAX', 'OAX', 'CMX', 'CMX', 'PUE', 'OAX', 'CMX', 'VER', 'PUE', 'VER', 'CMX', 'PUE', 'CMX', 'OAX', 'CMX', 'PUE']\n",
        "# Almacenando los estados sin repetición de valor\n",
        "estados_unicos = list(set(estados))\n",
        "\n",
        "# Creando una lista de listas con valores repetidos de cada estado\n",
        "lista_de_listas = []\n",
        "for estado in estados_unicos:\n",
        "    lista = [e for e in estados if e == estado]\n",
        "    lista_de_listas.append(lista)\n",
        "print(lista_de_listas)\n",
        "\n",
        "# Creando un diccionario en el que la clave es el nombre de cada estado único y el valor es la cantidad de elementos\n",
        "conteo_valores = {estados_unicos[i]: len(lista_de_listas[i]) for i in range(len(estados_unicos))}\n",
        "print(conteo_valores)"
      ],
      "metadata": {
        "colab": {
          "base_uri": "https://localhost:8080/"
        },
        "id": "ttzEo60onGUI",
        "outputId": "aa4466dc-3e9d-4527-c99b-4476b454cf91"
      },
      "execution_count": null,
      "outputs": [
        {
          "output_type": "stream",
          "name": "stdout",
          "text": [
            "[['PUE', 'PUE', 'PUE', 'PUE', 'PUE', 'PUE', 'PUE'], ['OAX', 'OAX', 'OAX', 'OAX', 'OAX', 'OAX'], ['CMX', 'CMX', 'CMX', 'CMX', 'CMX', 'CMX', 'CMX', 'CMX'], ['VER', 'VER']]\n",
            "{'PUE': 7, 'OAX': 6, 'CMX': 8, 'VER': 2}\n"
          ]
        }
      ]
    },
    {
      "cell_type": "code",
      "source": [
        "#DEsafio #10 by Alura - logica comprendida\n",
        "'''\n",
        "En esa misma tabla de registro de sucursales, hay una columna con la información de la cantidad de personas empleadas y el gerente quisiera\n",
        "tener un agrupamiento de la suma de esas personas para cada estado. Las informaciones contenidas en la tabla son:\n",
        "'''\n",
        "empleados = [('CMX', 16),\n",
        "             ('OAX', 8),\n",
        "             ('PUE', 9),\n",
        "             ('PUE', 6),\n",
        "             ('CMX', 10),\n",
        "             ('PUE', 4),\n",
        "             ('OAX',9),\n",
        "             ('OAX', 7),\n",
        "             ('OAX', 12),\n",
        "             ('CMX', 7),\n",
        "             ('CMX', 11),\n",
        "             ('PUE',8),\n",
        "             ('OAX',8),\n",
        "             ('CMX',9),\n",
        "             ('VER', 13),\n",
        "             ('PUE', 5),\n",
        "             ('VER', 9),\n",
        "             ('CMX', 12),\n",
        "             ('PUE', 10),\n",
        "             ('CMX', 7),\n",
        "             ('OAX', 14),\n",
        "             ('CMX', 10),\n",
        "             ('PUE', 12)]\n",
        "'''\n",
        "A partir de la lista de tuplas, crea un diccionario en el que las claves son los nombres de los estados únicos y los valores son las listas con el número de empleados referentes al estado.\n",
        "También crea un diccionario en el que las claves son los nombres de los estados y los valores son la suma de empleados por estado.\n",
        "'''\n",
        "# Almacenando los estados sin repetición de valor\n",
        "estados_unicos = list(set([tupla[0] for tupla in empleados]))\n",
        "\n",
        "# Creando una lista de listas con valores de empleados de cada estado\n",
        "lista_de_listas = []\n",
        "for estado in estados_unicos:\n",
        "    lista = [tupla[1] for tupla in empleados if tupla[0] == estado]\n",
        "    lista_de_listas.append(lista)\n",
        "print(lista_de_listas)\n",
        "\n",
        "# Creando un diccionario con datos agrupados de empleados por estado\n",
        "agrupamiento_por_estado = {estados_unicos[i]: lista_de_listas[i] for i in range(len(estados_unicos))}\n",
        "print(agrupamiento_por_estado)\n",
        "\n",
        "# Creando un diccionario con la suma de empleados por estado\n",
        "suma_por_estado = {estados_unicos[i]: sum(lista_de_listas[i]) for i in range(len(estados_unicos))}\n",
        "print(suma_por_estado)"
      ],
      "metadata": {
        "colab": {
          "base_uri": "https://localhost:8080/"
        },
        "id": "byg9MFwl5FGy",
        "outputId": "41d260a5-45ee-48bc-a2d8-e5c50334d02d"
      },
      "execution_count": null,
      "outputs": [
        {
          "output_type": "stream",
          "name": "stdout",
          "text": [
            "[[9, 6, 4, 8, 5, 10, 12], [8, 9, 7, 12, 8, 14], [16, 10, 7, 11, 9, 12, 7, 10], [13, 9]]\n",
            "{'PUE': [9, 6, 4, 8, 5, 10, 12], 'OAX': [8, 9, 7, 12, 8, 14], 'CMX': [16, 10, 7, 11, 9, 12, 7, 10], 'VER': [13, 9]}\n",
            "{'PUE': 54, 'OAX': 58, 'CMX': 82, 'VER': 22}\n"
          ]
        }
      ]
    },
    {
      "cell_type": "markdown",
      "source": [
        "## <font color=green> 4. LIDIANDO CON EXCEPCIONES\n",
        "---"
      ],
      "metadata": {
        "id": "RxKC5WVoCYp3"
      }
    },
    {
      "cell_type": "markdown",
      "source": [
        "Hemos podido evidenciar hasta aquí la existencia de algunos errores y excepciones en la ejecución de algún comando. Como científico/a de datos o programador, necesitarás estar atento a estas situaciones para evitar bugs o problemas en tus códigos y análisis que puedan afectar la experiencia tanto del usuario como la eficiencia de su análisis.\n",
        "\n",
        "Existen básicamente dos formas distintas de errores: Los **errores de sintáxis** y las **excepciones**.\n",
        "\n",
        "Las excepciones son errores detectados durante la ejecución e interrumpen el flujo del programa cerrándolo en caso de que no sean tratadas.  \n",
        "\n",
        "Vamos a aprender a identificar y tratar algunas de las excepciones aquí, pero es siempre importante consultar la documentación para investigar y verificar cuáles se ajustan a sus proyectos.\n",
        "\n",
        "**Documentación sobre errores y excepciones:** https://docs.python.org/es/3/tutorial/errors.html"
      ],
      "metadata": {
        "id": "MzOZ_0M3CU1x"
      }
    },
    {
      "cell_type": "markdown",
      "source": [
        "## 4.1 Tratando las Excepciones\n",
        "\n",
        "El tratamiento de las excepciones contribuye a establecer un flujo alternativo para la ejecución del código evitando la interrupción de los procesos inesperadamente.\n",
        "\n",
        "Existe una serie de excepciones, y a partir del comportamiento que queremos, y de los errores que queremos tratar, es posible construir un camino para el usuario, o también, proveer más detalles sobre aquella excepción.\n",
        "\n",
        "- Jerarquía de las excepciones (https://docs.python.org/es/3/library/exceptions.html#exception-hierarchy)"
      ],
      "metadata": {
        "id": "x3E66krBST7K"
      }
    },
    {
      "cell_type": "markdown",
      "source": [
        "### Try ... Except\n",
        "\n",
        "```python\n",
        "try:\n",
        "  # código que será ejecutado. En caso de que surja una excepción, para inmediatamente\n",
        "except <nombre_de_la_excepcion as e>:\n",
        "  # Si surje una excepción en el try, ejecuta este código, si no, salta esta etapa\n",
        "```"
      ],
      "metadata": {
        "id": "h9lj8Wfk__cl"
      }
    },
    {
      "cell_type": "markdown",
      "source": [
        "#### **Situación 12:**\n",
        "\n",
        "Creaste un código que lee un diccionario con las notas de los estudiantes y querías retornar la lista de notas de un estudiante.\n",
        "\n",
        "En caso que el/la estudiante no esté matriculado(a) en el grupo debemos tratar la excepción para presentar el mensaje \"Estudiante no matriculado(a) en el grupo\".\n",
        "\n",
        "Vamos a trabajar en este ejemplo con la excepción **Key Error** que interrumpirá el processo de este trecho de código.\n",
        "\n",
        "**¿Vamos a probar este primer tratamiento?**\n",
        "\n"
      ],
      "metadata": {
        "id": "miwzhPNdD8Ty"
      }
    },
    {
      "cell_type": "code",
      "source": [
        "notas = {'Juan': [8.0, 9.0, 10.0], 'Maria': [9.0, 7.0, 6.0], 'José': [3.4, 7.0, 8.0], 'Claudia': [5.5, 6.6, 8.0],\n",
        "         'Ana': [6.0, 10.0, 9.5], 'Jorge': [5.5, 7.5, 9.0], 'Julia': [6.0, 8.0, 7.0], 'Pedro': [3.0, 4.0, 6.0]}"
      ],
      "metadata": {
        "id": "UvVbXY0XVm-f"
      },
      "execution_count": null,
      "outputs": []
    },
    {
      "cell_type": "code",
      "source": [
        "Nombre = input(\"Ingrese el nombre del/de la estudiante: \")\n",
        "resultado = notas[Nombre]\n",
        "resultado"
      ],
      "metadata": {
        "id": "rFBq02dbJtkF",
        "colab": {
          "base_uri": "https://localhost:8080/",
          "height": 205
        },
        "outputId": "b7e07939-56e5-41f7-a9df-6fe5f08ee170"
      },
      "execution_count": null,
      "outputs": [
        {
          "name": "stdout",
          "output_type": "stream",
          "text": [
            "Ingrese el nombre del/de la estudiante: michal\n"
          ]
        },
        {
          "output_type": "error",
          "ename": "KeyError",
          "evalue": "'michal'",
          "traceback": [
            "\u001b[0;31m---------------------------------------------------------------------------\u001b[0m",
            "\u001b[0;31mKeyError\u001b[0m                                  Traceback (most recent call last)",
            "\u001b[0;32m<ipython-input-52-4b7a1896f743>\u001b[0m in \u001b[0;36m<cell line: 0>\u001b[0;34m()\u001b[0m\n\u001b[1;32m      1\u001b[0m \u001b[0mNombre\u001b[0m \u001b[0;34m=\u001b[0m \u001b[0minput\u001b[0m\u001b[0;34m(\u001b[0m\u001b[0;34m\"Ingrese el nombre del/de la estudiante: \"\u001b[0m\u001b[0;34m)\u001b[0m\u001b[0;34m\u001b[0m\u001b[0;34m\u001b[0m\u001b[0m\n\u001b[0;32m----> 2\u001b[0;31m \u001b[0mresultado\u001b[0m \u001b[0;34m=\u001b[0m \u001b[0mnotas\u001b[0m\u001b[0;34m[\u001b[0m\u001b[0mNombre\u001b[0m\u001b[0;34m]\u001b[0m\u001b[0;34m\u001b[0m\u001b[0;34m\u001b[0m\u001b[0m\n\u001b[0m\u001b[1;32m      3\u001b[0m \u001b[0mresultado\u001b[0m\u001b[0;34m\u001b[0m\u001b[0;34m\u001b[0m\u001b[0m\n",
            "\u001b[0;31mKeyError\u001b[0m: 'michal'"
          ]
        }
      ]
    },
    {
      "cell_type": "code",
      "source": [
        "try:\n",
        "  Nombre = input(\"Ingrese el nombre del/de la estudiante: \")\n",
        "  resultado = notas[Nombre]\n",
        "except Exception as ex:\n",
        "  print(type(ex), ex)"
      ],
      "metadata": {
        "id": "IZwxTL1EJvRl",
        "colab": {
          "base_uri": "https://localhost:8080/"
        },
        "outputId": "7c4fa6e7-3b64-4f27-f032-b916d2f7e0a9"
      },
      "execution_count": null,
      "outputs": [
        {
          "output_type": "stream",
          "name": "stdout",
          "text": [
            "Ingrese el nombre del/de la estudiante: michael\n",
            "<class 'KeyError'> 'michael'\n"
          ]
        }
      ]
    },
    {
      "cell_type": "code",
      "source": [
        "try:\n",
        "  Nombre = input(\"Ingrese el nombre del/de la estudiante: \")\n",
        "  resultado = notas[Nombre]\n",
        "except KeyError:\n",
        "  print(\"Estudiante no matriculado en el grupo\")"
      ],
      "metadata": {
        "colab": {
          "base_uri": "https://localhost:8080/"
        },
        "id": "XWApCWckAzvJ",
        "outputId": "b1dad30b-1623-4d06-a829-857244e171d1"
      },
      "execution_count": null,
      "outputs": [
        {
          "output_type": "stream",
          "name": "stdout",
          "text": [
            "Ingrese el nombre del/de la estudiante: Michael\n",
            "Estudiante no matriculado en el grupo\n"
          ]
        }
      ]
    },
    {
      "cell_type": "code",
      "source": [],
      "metadata": {
        "id": "S0IlhTQNBeee"
      },
      "execution_count": null,
      "outputs": []
    },
    {
      "cell_type": "markdown",
      "source": [
        "### Agregando la cláusula Else\n",
        "\n",
        "```python\n",
        "try:\n",
        "  # código que será ejecutado. En caso de que surja una excepción, para inmediatamente\n",
        "except:\n",
        "  # Si surje una excepción en el try, ejecuta este código, si no, salta esta etapa\n",
        "else:\n",
        "  # Si no surjen excepciones, ejecuta esta parte del código\n",
        "```"
      ],
      "metadata": {
        "id": "hKhKzgQoBHLb"
      }
    },
    {
      "cell_type": "markdown",
      "source": [
        "#### **Situación 13:**\n",
        "\n",
        "Creaste un código que lee un diccionario con las notas de los estudiantes y querías retornar la lista de notas de un estudiante.\n",
        "\n",
        "En caso de que el/la estudiante no esté matriculado(a) en la clase, debe aparecer el siguiente mensaje: \"Estudiante no matriculado(a) en el grupo\" y, si no surje la excepción, debemos exhibir la lista con las notas del(la) estudiante.\n",
        "\n",
        "Vamos a trabajar en este ejemplo con la excepción **Key Error** que interrumpirá el proceso de este trecho de código.\n",
        "\n",
        "**¿Vamos a probar este tratamiento?**\n"
      ],
      "metadata": {
        "id": "USN3SA2tMjL0"
      }
    },
    {
      "cell_type": "code",
      "source": [
        "try:\n",
        "  Nombre = input(\"Ingrese el nombre del/de la estudiante: \")\n",
        "  resultado = notas[Nombre]\n",
        "except KeyError:\n",
        "  print(\"Estudiante no matriculado en el grupo\")\n",
        "else:\n",
        "  print(resultado)"
      ],
      "metadata": {
        "id": "Qr_4-D3UJxcE",
        "colab": {
          "base_uri": "https://localhost:8080/"
        },
        "outputId": "4437fe25-b956-4293-ce5d-3190b353df71"
      },
      "execution_count": null,
      "outputs": [
        {
          "output_type": "stream",
          "name": "stdout",
          "text": [
            "Ingrese el nombre del/de la estudiante: Juan\n",
            "[8.0, 9.0, 10.0]\n"
          ]
        }
      ]
    },
    {
      "cell_type": "code",
      "source": [],
      "metadata": {
        "id": "uy2xPGXoJzXS"
      },
      "execution_count": null,
      "outputs": []
    },
    {
      "cell_type": "markdown",
      "source": [
        "### Añadiendo la cláusula finally\n",
        "\n",
        "```python\n",
        "try:\n",
        "  # código que será ejecutado. En caso de que surja una excepción, para inmediatamente\n",
        "except:\n",
        "  # Si surje una excepción en el try, ejecuta este código, si no, salta esta etapa\n",
        "else:\n",
        "  # Si no surjen excepciones, ejecuta esta parte del código\n",
        "finally:\n",
        "  # Ejecuta este trecho (con o sin excepción)\n",
        "```"
      ],
      "metadata": {
        "id": "Dw_efTlbBhll"
      }
    },
    {
      "cell_type": "markdown",
      "source": [
        "#### **Situación 14:**\n",
        "\n",
        "Creaste un código que lee un diccionario con las notas de los estudiantes y querías retornar la lista de notas de un estudiante.\n",
        "\n",
        "En caso de que el/la estudiante no esté matriculado(a) en la clase, debe aparecer el siguiente mensaje: \"Estudiante no matriculado(a) en el grupo\" y, si no surje la excepción, debemos exhibir la lista con las notas del(la) estudiante. Un texto avisando que \"La consulta ha concluído.\" debe ser mostrado independientemente de si surgió o no alguna excepción.\n",
        "\n",
        "\n",
        "Vamos a trabajar en este ejemplo con la excepción **Key Error** que interrumpirá el proceso de este trecho del código.\n",
        "\n",
        "**¿Vamos a probar este tratamiento?**"
      ],
      "metadata": {
        "id": "jGtFVx5GdnsS"
      }
    },
    {
      "cell_type": "code",
      "source": [
        "try:\n",
        "  Nombre = input(\"Ingrese el nombre del/de la estudiante: \")\n",
        "  resultado = notas[Nombre]\n",
        "except KeyError:\n",
        "  print(\"Estudiante no matriculado en el grupo.\")\n",
        "else:\n",
        "  print(f\"Las notas del estudiante son: {resultado}\")\n",
        "finally:\n",
        "  print(\"La consulta terminó.\")"
      ],
      "metadata": {
        "id": "PwdLYP_zJ04s",
        "colab": {
          "base_uri": "https://localhost:8080/"
        },
        "outputId": "1d9fd4a1-9e85-4f24-f4e9-9c06cc678f3a"
      },
      "execution_count": null,
      "outputs": [
        {
          "output_type": "stream",
          "name": "stdout",
          "text": [
            "Ingrese el nombre del/de la estudiante: Claudia\n",
            "Las notas del estudiante son: [5.5, 6.6, 8.0]\n",
            "La consulta terminó.\n"
          ]
        }
      ]
    },
    {
      "cell_type": "code",
      "source": [],
      "metadata": {
        "id": "pv0BaQ95J1BA"
      },
      "execution_count": null,
      "outputs": []
    },
    {
      "cell_type": "markdown",
      "source": [
        "## 4.2 Raise\n",
        "\n",
        "Otra forma de trabajar con las excepciones en tu código, es generando tus propias excepciones para determinados comportamientos que deseas en tu código.\n",
        "\n",
        "Para ello, utilizamos la palabra clave `raise` junto al tipo de excepción que se desea mostrar y el mensaje que será exhibido.   "
      ],
      "metadata": {
        "id": "HdjllLBpST_2"
      }
    },
    {
      "cell_type": "markdown",
      "source": [
        "```python\n",
        "raise NombreDelError(\"Mensaje deseado.\")\n",
        "```"
      ],
      "metadata": {
        "id": "_nIOnDQufv6Z"
      }
    },
    {
      "cell_type": "markdown",
      "source": [
        "#### **Situação 15:**\n",
        "\n",
        "Creaste una función para calcular el promedio de un estudiante en una determinada materia pasando en una lista las notas de este estudiante.\n",
        "\n",
        "Pretendes tratar 2 situaciones:\n",
        "\n",
        "- Si la lista posee un valor no numérico el cálculo de promedio no será ejecutado y un mensaje de \"No fue posible calcular el promedio del(la) estudiante. Solo se admiten valores numéricos!\" será exhibido.\n",
        "\n",
        "- En caso que la lista tenga más de 4 notas, surgirá una excepción del tipo **ValueError** informando que \"La lista no puede poseer más de 4 notas.\"\n",
        "\n",
        "Un texto avisando que \"La consulta ha concluído.\" debe ser mostrado independientemente de si surgió o no alguna excepción.\n",
        "\n",
        "**¿Vamos a resolver este desafío?**"
      ],
      "metadata": {
        "id": "xapeB2ivgB7R"
      }
    },
    {
      "cell_type": "code",
      "source": [
        "def promedio(lista: list=[0]) -> float:\n",
        "  ''' Función para calcular el promedio de notas en una lista\n",
        "\n",
        "  lista: list, default [0]\n",
        "    Lista con las notas para calcular el promedio\n",
        "  return = calculo: float\n",
        "    Promedio calculado\n",
        "  '''\n",
        "\n",
        "  calculo = sum(lista) / len(lista)\n",
        "  if len(lista) > 4:\n",
        "    raise ValueError(\"La lista no puede poseer más de 4 notas.\")\n",
        "  return calculo"
      ],
      "metadata": {
        "id": "kKeFuHUfhSfa"
      },
      "execution_count": null,
      "outputs": []
    },
    {
      "cell_type": "code",
      "source": [
        "notas =[6, 6, 5, 7, 9]\n",
        "resultado= promedio(notas)\n",
        "resultado"
      ],
      "metadata": {
        "id": "_ghW6hb9KBpU",
        "colab": {
          "base_uri": "https://localhost:8080/",
          "height": 298
        },
        "outputId": "9067efa2-0ef6-4a72-faa8-d26d89d5bf59"
      },
      "execution_count": null,
      "outputs": [
        {
          "output_type": "error",
          "ename": "ValueError",
          "evalue": "La lista no puede poseer más de 4 notas.",
          "traceback": [
            "\u001b[0;31m---------------------------------------------------------------------------\u001b[0m",
            "\u001b[0;31mValueError\u001b[0m                                Traceback (most recent call last)",
            "\u001b[0;32m<ipython-input-67-d76b4ffb3ad2>\u001b[0m in \u001b[0;36m<cell line: 0>\u001b[0;34m()\u001b[0m\n\u001b[1;32m      1\u001b[0m \u001b[0mnotas\u001b[0m \u001b[0;34m=\u001b[0m\u001b[0;34m[\u001b[0m\u001b[0;36m6\u001b[0m\u001b[0;34m,\u001b[0m \u001b[0;36m6\u001b[0m\u001b[0;34m,\u001b[0m \u001b[0;36m5\u001b[0m\u001b[0;34m,\u001b[0m \u001b[0;36m7\u001b[0m\u001b[0;34m,\u001b[0m \u001b[0;36m9\u001b[0m\u001b[0;34m]\u001b[0m\u001b[0;34m\u001b[0m\u001b[0;34m\u001b[0m\u001b[0m\n\u001b[0;32m----> 2\u001b[0;31m \u001b[0mresultado\u001b[0m\u001b[0;34m=\u001b[0m \u001b[0mpromedio\u001b[0m\u001b[0;34m(\u001b[0m\u001b[0mnotas\u001b[0m\u001b[0;34m)\u001b[0m\u001b[0;34m\u001b[0m\u001b[0;34m\u001b[0m\u001b[0m\n\u001b[0m\u001b[1;32m      3\u001b[0m \u001b[0mresultado\u001b[0m\u001b[0;34m\u001b[0m\u001b[0;34m\u001b[0m\u001b[0m\n",
            "\u001b[0;32m<ipython-input-66-7c6c3433c17b>\u001b[0m in \u001b[0;36mpromedio\u001b[0;34m(lista)\u001b[0m\n\u001b[1;32m     10\u001b[0m   \u001b[0mcalculo\u001b[0m \u001b[0;34m=\u001b[0m \u001b[0msum\u001b[0m\u001b[0;34m(\u001b[0m\u001b[0mlista\u001b[0m\u001b[0;34m)\u001b[0m \u001b[0;34m/\u001b[0m \u001b[0mlen\u001b[0m\u001b[0;34m(\u001b[0m\u001b[0mlista\u001b[0m\u001b[0;34m)\u001b[0m\u001b[0;34m\u001b[0m\u001b[0;34m\u001b[0m\u001b[0m\n\u001b[1;32m     11\u001b[0m   \u001b[0;32mif\u001b[0m \u001b[0mlen\u001b[0m\u001b[0;34m(\u001b[0m\u001b[0mlista\u001b[0m\u001b[0;34m)\u001b[0m \u001b[0;34m>\u001b[0m \u001b[0;36m4\u001b[0m\u001b[0;34m:\u001b[0m\u001b[0;34m\u001b[0m\u001b[0;34m\u001b[0m\u001b[0m\n\u001b[0;32m---> 12\u001b[0;31m     \u001b[0;32mraise\u001b[0m \u001b[0mValueError\u001b[0m\u001b[0;34m(\u001b[0m\u001b[0;34m\"La lista no puede poseer más de 4 notas.\"\u001b[0m\u001b[0;34m)\u001b[0m\u001b[0;34m\u001b[0m\u001b[0;34m\u001b[0m\u001b[0m\n\u001b[0m\u001b[1;32m     13\u001b[0m   \u001b[0;32mreturn\u001b[0m \u001b[0mcalculo\u001b[0m\u001b[0;34m\u001b[0m\u001b[0;34m\u001b[0m\u001b[0m\n",
            "\u001b[0;31mValueError\u001b[0m: La lista no puede poseer más de 4 notas."
          ]
        }
      ]
    },
    {
      "cell_type": "code",
      "source": [
        "notas =[\"s\", 6, 5, 7, 9]\n",
        "resultado= promedio(notas)\n",
        "resultado"
      ],
      "metadata": {
        "id": "X2To8kJdKGFk",
        "colab": {
          "base_uri": "https://localhost:8080/",
          "height": 316
        },
        "outputId": "c022ac80-1a40-47f2-df7b-1ddc8ce05cbc"
      },
      "execution_count": null,
      "outputs": [
        {
          "output_type": "error",
          "ename": "TypeError",
          "evalue": "unsupported operand type(s) for +: 'int' and 'str'",
          "traceback": [
            "\u001b[0;31m---------------------------------------------------------------------------\u001b[0m",
            "\u001b[0;31mTypeError\u001b[0m                                 Traceback (most recent call last)",
            "\u001b[0;32m<ipython-input-68-0c32d40de3ec>\u001b[0m in \u001b[0;36m<cell line: 0>\u001b[0;34m()\u001b[0m\n\u001b[1;32m      1\u001b[0m \u001b[0mnotas\u001b[0m \u001b[0;34m=\u001b[0m\u001b[0;34m[\u001b[0m\u001b[0;34m\"s\"\u001b[0m\u001b[0;34m,\u001b[0m \u001b[0;36m6\u001b[0m\u001b[0;34m,\u001b[0m \u001b[0;36m5\u001b[0m\u001b[0;34m,\u001b[0m \u001b[0;36m7\u001b[0m\u001b[0;34m,\u001b[0m \u001b[0;36m9\u001b[0m\u001b[0;34m]\u001b[0m\u001b[0;34m\u001b[0m\u001b[0;34m\u001b[0m\u001b[0m\n\u001b[0;32m----> 2\u001b[0;31m \u001b[0mresultado\u001b[0m\u001b[0;34m=\u001b[0m \u001b[0mpromedio\u001b[0m\u001b[0;34m(\u001b[0m\u001b[0mnotas\u001b[0m\u001b[0;34m)\u001b[0m\u001b[0;34m\u001b[0m\u001b[0;34m\u001b[0m\u001b[0m\n\u001b[0m\u001b[1;32m      3\u001b[0m \u001b[0mresultado\u001b[0m\u001b[0;34m\u001b[0m\u001b[0;34m\u001b[0m\u001b[0m\n",
            "\u001b[0;32m<ipython-input-66-7c6c3433c17b>\u001b[0m in \u001b[0;36mpromedio\u001b[0;34m(lista)\u001b[0m\n\u001b[1;32m      8\u001b[0m   '''\n\u001b[1;32m      9\u001b[0m \u001b[0;34m\u001b[0m\u001b[0m\n\u001b[0;32m---> 10\u001b[0;31m   \u001b[0mcalculo\u001b[0m \u001b[0;34m=\u001b[0m \u001b[0msum\u001b[0m\u001b[0;34m(\u001b[0m\u001b[0mlista\u001b[0m\u001b[0;34m)\u001b[0m \u001b[0;34m/\u001b[0m \u001b[0mlen\u001b[0m\u001b[0;34m(\u001b[0m\u001b[0mlista\u001b[0m\u001b[0;34m)\u001b[0m\u001b[0;34m\u001b[0m\u001b[0;34m\u001b[0m\u001b[0m\n\u001b[0m\u001b[1;32m     11\u001b[0m   \u001b[0;32mif\u001b[0m \u001b[0mlen\u001b[0m\u001b[0;34m(\u001b[0m\u001b[0mlista\u001b[0m\u001b[0;34m)\u001b[0m \u001b[0;34m>\u001b[0m \u001b[0;36m4\u001b[0m\u001b[0;34m:\u001b[0m\u001b[0;34m\u001b[0m\u001b[0;34m\u001b[0m\u001b[0m\n\u001b[1;32m     12\u001b[0m     \u001b[0;32mraise\u001b[0m \u001b[0mValueError\u001b[0m\u001b[0;34m(\u001b[0m\u001b[0;34m\"La lista no puede poseer más de 4 notas.\"\u001b[0m\u001b[0;34m)\u001b[0m\u001b[0;34m\u001b[0m\u001b[0;34m\u001b[0m\u001b[0m\n",
            "\u001b[0;31mTypeError\u001b[0m: unsupported operand type(s) for +: 'int' and 'str'"
          ]
        }
      ]
    },
    {
      "cell_type": "code",
      "source": [
        "from typing_extensions import final\n",
        "try:\n",
        "  notas =[6, 6, 5, 7, \"2\"]\n",
        "  resultado= promedio(notas)\n",
        "except TypeError:\n",
        "  print(\"No fue posible calcular el promedio del(la) estudiante. Solo se admiten valores numéricos!\")\n",
        "except ValueError as ve:\n",
        "  print(ve)\n",
        "else:\n",
        "  print(f\"Las notas del estudiante son: {resultado}\")\n",
        "finally:\n",
        "  print(\"La consulta a concluido.\")"
      ],
      "metadata": {
        "id": "nrCsWqX6KGIA",
        "colab": {
          "base_uri": "https://localhost:8080/"
        },
        "outputId": "dd6d92e6-6c12-45e1-8e95-012f1cf2073a"
      },
      "execution_count": null,
      "outputs": [
        {
          "output_type": "stream",
          "name": "stdout",
          "text": [
            "No fue posible calcular el promedio del(la) estudiante. Solo se admiten valores numéricos!\n",
            "La consulta a concluido.\n"
          ]
        }
      ]
    },
    {
      "cell_type": "code",
      "source": [
        "from typing_extensions import final\n",
        "try:\n",
        "  notas =[6, 6, 5, 7, 9]\n",
        "  resultado= promedio(notas)\n",
        "except TypeError:\n",
        "  print(\"No fue posible calcular el promedio del(la) estudiante. Solo se admiten valores numéricos!\")\n",
        "except ValueError as ve:\n",
        "  print(ve)\n",
        "else:\n",
        "  print(f\"Las notas del estudiante son: {resultado}\")\n",
        "finally:\n",
        "  print(\"La consulta a concluido.\")"
      ],
      "metadata": {
        "colab": {
          "base_uri": "https://localhost:8080/"
        },
        "id": "AUTmqV37GQRv",
        "outputId": "c160f14a-6503-445f-f69b-7e96d4cfddcb"
      },
      "execution_count": null,
      "outputs": [
        {
          "output_type": "stream",
          "name": "stdout",
          "text": [
            "La lista no puede poseer más de 4 notas.\n",
            "La consulta a concluido.\n"
          ]
        }
      ]
    },
    {
      "cell_type": "code",
      "source": [
        "from typing_extensions import final\n",
        "try:\n",
        "  notas =[6, 6, 5, 7]\n",
        "  resultado= promedio(notas)\n",
        "except TypeError:\n",
        "  print(\"No fue posible calcular el promedio del(la) estudiante. Solo se admiten valores numéricos!\")\n",
        "except ValueError as ve:\n",
        "  print(ve)\n",
        "else:\n",
        "  print(f\"Las notas del estudiante son: {resultado}\")\n",
        "finally:\n",
        "  print(\"La consulta a concluido.\")"
      ],
      "metadata": {
        "colab": {
          "base_uri": "https://localhost:8080/"
        },
        "id": "BmKmrOZ7HLub",
        "outputId": "62a433aa-dcae-430c-e5b9-596014ac468b"
      },
      "execution_count": null,
      "outputs": [
        {
          "output_type": "stream",
          "name": "stdout",
          "text": [
            "Las notas del estudiante son: 6.0\n",
            "La consulta a concluido.\n"
          ]
        }
      ]
    },
    {
      "cell_type": "code",
      "source": [],
      "metadata": {
        "id": "04in_XL3HRYm"
      },
      "execution_count": null,
      "outputs": []
    }
  ]
}